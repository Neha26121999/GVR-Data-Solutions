{
 "cells": [
  {
   "cell_type": "markdown",
   "metadata": {
    "_cell_guid": "79c7e3d0-c299-4dcb-8224-4455121ee9b0",
    "_uuid": "d629ff2d2480ee46fbb7e2d37f6b5fab8052498a"
   },
   "source": [
    "# Fake Job Description Prediction"
   ]
  },
  {
   "cell_type": "markdown",
   "metadata": {},
   "source": [
    "This dataset contains 18K job descriptions out of which about 800 are fake. The data consists of both textual information and meta-information about the jobs. The dataset can be used to create classification models which can learn the job descriptions which are fraudulent.\n",
    "\n"
   ]
  },
  {
   "cell_type": "raw",
   "metadata": {},
   "source": [
    "1. Data cleaning\n",
    "2. Data Visualization\n",
    "3. EDA\n",
    "4. Text Processing\n",
    "   1)  Avg Word2Vec\n",
    "   2)  TF-Idf \n",
    "5. Data Balancing (Using Smote)\n",
    "6. Apply All Algorithms for Avg Word2Vec and TF-IDF\n",
    "   1) Random Forest \n",
    "   2) XG-Boost\n",
    "   3) Decision-Tree\n",
    "   4) Logistic Regression\n",
    "   5) K- Nearest Neighbors\n",
    "   6) Naive Bayes\n",
    "   7) Support Vector Machine\n",
    "7. Hyperparameter Tuning\n",
    "      "
   ]
  },
  {
   "cell_type": "markdown",
   "metadata": {},
   "source": [
    "# Importing all necessary Libraries"
   ]
  },
  {
   "cell_type": "code",
   "execution_count": 1,
   "metadata": {},
   "outputs": [
    {
     "name": "stderr",
     "output_type": "stream",
     "text": [
      "[nltk_data] Error loading stopwords: <urlopen error [Errno 11001]\n",
      "[nltk_data]     getaddrinfo failed>\n"
     ]
    }
   ],
   "source": [
    "import numpy as np \n",
    "import pandas as pd\n",
    "import os\n",
    "import matplotlib.pyplot as plt\n",
    "import seaborn as sns\n",
    "\n",
    "import warnings\n",
    "warnings.filterwarnings('ignore')\n",
    "\n",
    "# All text preprocessing libraries\n",
    "import re \n",
    "from sklearn.feature_extraction.text import TfidfVectorizer\n",
    "from nltk.stem.porter import PorterStemmer\n",
    "from nltk.corpus import stopwords\n",
    "from nltk.tokenize import RegexpTokenizer\n",
    "import nltk\n",
    "nltk.download('stopwords')\n",
    "stop_words = set(stopwords.words(\"english\"))\n",
    "default_stemmer = PorterStemmer()\n",
    "default_stopwords = stopwords.words('english')\n",
    "default_tokenizer=RegexpTokenizer(r\"\\w+\")\n",
    "\n",
    "#libraries for training the models\n",
    "\n",
    "from sklearn.model_selection import train_test_split\n",
    "from sklearn.ensemble import RandomForestClassifier\n",
    "import joblib\n",
    "from sklearn.model_selection import cross_val_score\n",
    "from sklearn.metrics import classification_report, confusion_matrix\n",
    "from sklearn.metrics import confusion_matrix \n",
    "\n",
    "\n"
   ]
  },
  {
   "cell_type": "code",
   "execution_count": 2,
   "metadata": {},
   "outputs": [
    {
     "data": {
      "text/html": [
       "<div>\n",
       "<style scoped>\n",
       "    .dataframe tbody tr th:only-of-type {\n",
       "        vertical-align: middle;\n",
       "    }\n",
       "\n",
       "    .dataframe tbody tr th {\n",
       "        vertical-align: top;\n",
       "    }\n",
       "\n",
       "    .dataframe thead th {\n",
       "        text-align: right;\n",
       "    }\n",
       "</style>\n",
       "<table border=\"1\" class=\"dataframe\">\n",
       "  <thead>\n",
       "    <tr style=\"text-align: right;\">\n",
       "      <th></th>\n",
       "      <th>job_id</th>\n",
       "      <th>title</th>\n",
       "      <th>location</th>\n",
       "      <th>department</th>\n",
       "      <th>salary_range</th>\n",
       "      <th>company_profile</th>\n",
       "      <th>description</th>\n",
       "      <th>requirements</th>\n",
       "      <th>benefits</th>\n",
       "      <th>telecommuting</th>\n",
       "      <th>has_company_logo</th>\n",
       "      <th>has_questions</th>\n",
       "      <th>employment_type</th>\n",
       "      <th>required_experience</th>\n",
       "      <th>required_education</th>\n",
       "      <th>industry</th>\n",
       "      <th>function</th>\n",
       "      <th>fraudulent</th>\n",
       "    </tr>\n",
       "  </thead>\n",
       "  <tbody>\n",
       "    <tr>\n",
       "      <th>0</th>\n",
       "      <td>1</td>\n",
       "      <td>Marketing Intern</td>\n",
       "      <td>US, NY, New York</td>\n",
       "      <td>Marketing</td>\n",
       "      <td>NaN</td>\n",
       "      <td>We're Food52, and we've created a groundbreaki...</td>\n",
       "      <td>Food52, a fast-growing, James Beard Award-winn...</td>\n",
       "      <td>Experience with content management systems a m...</td>\n",
       "      <td>NaN</td>\n",
       "      <td>0</td>\n",
       "      <td>1</td>\n",
       "      <td>0</td>\n",
       "      <td>Other</td>\n",
       "      <td>Internship</td>\n",
       "      <td>NaN</td>\n",
       "      <td>NaN</td>\n",
       "      <td>Marketing</td>\n",
       "      <td>0</td>\n",
       "    </tr>\n",
       "    <tr>\n",
       "      <th>1</th>\n",
       "      <td>2</td>\n",
       "      <td>Customer Service - Cloud Video Production</td>\n",
       "      <td>NZ, , Auckland</td>\n",
       "      <td>Success</td>\n",
       "      <td>NaN</td>\n",
       "      <td>90 Seconds, the worlds Cloud Video Production ...</td>\n",
       "      <td>Organised - Focused - Vibrant - Awesome!Do you...</td>\n",
       "      <td>What we expect from you:Your key responsibilit...</td>\n",
       "      <td>What you will get from usThrough being part of...</td>\n",
       "      <td>0</td>\n",
       "      <td>1</td>\n",
       "      <td>0</td>\n",
       "      <td>Full-time</td>\n",
       "      <td>Not Applicable</td>\n",
       "      <td>NaN</td>\n",
       "      <td>Marketing and Advertising</td>\n",
       "      <td>Customer Service</td>\n",
       "      <td>0</td>\n",
       "    </tr>\n",
       "    <tr>\n",
       "      <th>2</th>\n",
       "      <td>3</td>\n",
       "      <td>Commissioning Machinery Assistant (CMA)</td>\n",
       "      <td>US, IA, Wever</td>\n",
       "      <td>NaN</td>\n",
       "      <td>NaN</td>\n",
       "      <td>Valor Services provides Workforce Solutions th...</td>\n",
       "      <td>Our client, located in Houston, is actively se...</td>\n",
       "      <td>Implement pre-commissioning and commissioning ...</td>\n",
       "      <td>NaN</td>\n",
       "      <td>0</td>\n",
       "      <td>1</td>\n",
       "      <td>0</td>\n",
       "      <td>NaN</td>\n",
       "      <td>NaN</td>\n",
       "      <td>NaN</td>\n",
       "      <td>NaN</td>\n",
       "      <td>NaN</td>\n",
       "      <td>0</td>\n",
       "    </tr>\n",
       "    <tr>\n",
       "      <th>3</th>\n",
       "      <td>4</td>\n",
       "      <td>Account Executive - Washington DC</td>\n",
       "      <td>US, DC, Washington</td>\n",
       "      <td>Sales</td>\n",
       "      <td>NaN</td>\n",
       "      <td>Our passion for improving quality of life thro...</td>\n",
       "      <td>THE COMPANY: ESRI – Environmental Systems Rese...</td>\n",
       "      <td>EDUCATION: Bachelor’s or Master’s in GIS, busi...</td>\n",
       "      <td>Our culture is anything but corporate—we have ...</td>\n",
       "      <td>0</td>\n",
       "      <td>1</td>\n",
       "      <td>0</td>\n",
       "      <td>Full-time</td>\n",
       "      <td>Mid-Senior level</td>\n",
       "      <td>Bachelor's Degree</td>\n",
       "      <td>Computer Software</td>\n",
       "      <td>Sales</td>\n",
       "      <td>0</td>\n",
       "    </tr>\n",
       "    <tr>\n",
       "      <th>4</th>\n",
       "      <td>5</td>\n",
       "      <td>Bill Review Manager</td>\n",
       "      <td>US, FL, Fort Worth</td>\n",
       "      <td>NaN</td>\n",
       "      <td>NaN</td>\n",
       "      <td>SpotSource Solutions LLC is a Global Human Cap...</td>\n",
       "      <td>JOB TITLE: Itemization Review ManagerLOCATION:...</td>\n",
       "      <td>QUALIFICATIONS:RN license in the State of Texa...</td>\n",
       "      <td>Full Benefits Offered</td>\n",
       "      <td>0</td>\n",
       "      <td>1</td>\n",
       "      <td>1</td>\n",
       "      <td>Full-time</td>\n",
       "      <td>Mid-Senior level</td>\n",
       "      <td>Bachelor's Degree</td>\n",
       "      <td>Hospital &amp; Health Care</td>\n",
       "      <td>Health Care Provider</td>\n",
       "      <td>0</td>\n",
       "    </tr>\n",
       "  </tbody>\n",
       "</table>\n",
       "</div>"
      ],
      "text/plain": [
       "   job_id                                      title            location  \\\n",
       "0       1                           Marketing Intern    US, NY, New York   \n",
       "1       2  Customer Service - Cloud Video Production      NZ, , Auckland   \n",
       "2       3    Commissioning Machinery Assistant (CMA)       US, IA, Wever   \n",
       "3       4          Account Executive - Washington DC  US, DC, Washington   \n",
       "4       5                        Bill Review Manager  US, FL, Fort Worth   \n",
       "\n",
       "  department salary_range                                    company_profile  \\\n",
       "0  Marketing          NaN  We're Food52, and we've created a groundbreaki...   \n",
       "1    Success          NaN  90 Seconds, the worlds Cloud Video Production ...   \n",
       "2        NaN          NaN  Valor Services provides Workforce Solutions th...   \n",
       "3      Sales          NaN  Our passion for improving quality of life thro...   \n",
       "4        NaN          NaN  SpotSource Solutions LLC is a Global Human Cap...   \n",
       "\n",
       "                                         description  \\\n",
       "0  Food52, a fast-growing, James Beard Award-winn...   \n",
       "1  Organised - Focused - Vibrant - Awesome!Do you...   \n",
       "2  Our client, located in Houston, is actively se...   \n",
       "3  THE COMPANY: ESRI – Environmental Systems Rese...   \n",
       "4  JOB TITLE: Itemization Review ManagerLOCATION:...   \n",
       "\n",
       "                                        requirements  \\\n",
       "0  Experience with content management systems a m...   \n",
       "1  What we expect from you:Your key responsibilit...   \n",
       "2  Implement pre-commissioning and commissioning ...   \n",
       "3  EDUCATION: Bachelor’s or Master’s in GIS, busi...   \n",
       "4  QUALIFICATIONS:RN license in the State of Texa...   \n",
       "\n",
       "                                            benefits  telecommuting  \\\n",
       "0                                                NaN              0   \n",
       "1  What you will get from usThrough being part of...              0   \n",
       "2                                                NaN              0   \n",
       "3  Our culture is anything but corporate—we have ...              0   \n",
       "4                              Full Benefits Offered              0   \n",
       "\n",
       "   has_company_logo  has_questions employment_type required_experience  \\\n",
       "0                 1              0           Other          Internship   \n",
       "1                 1              0       Full-time      Not Applicable   \n",
       "2                 1              0             NaN                 NaN   \n",
       "3                 1              0       Full-time    Mid-Senior level   \n",
       "4                 1              1       Full-time    Mid-Senior level   \n",
       "\n",
       "  required_education                   industry              function  \\\n",
       "0                NaN                        NaN             Marketing   \n",
       "1                NaN  Marketing and Advertising      Customer Service   \n",
       "2                NaN                        NaN                   NaN   \n",
       "3  Bachelor's Degree          Computer Software                 Sales   \n",
       "4  Bachelor's Degree     Hospital & Health Care  Health Care Provider   \n",
       "\n",
       "   fraudulent  \n",
       "0           0  \n",
       "1           0  \n",
       "2           0  \n",
       "3           0  \n",
       "4           0  "
      ]
     },
     "execution_count": 2,
     "metadata": {},
     "output_type": "execute_result"
    }
   ],
   "source": [
    "df = pd.read_csv(\"fake_job_postings.csv\")\n",
    "df.head()"
   ]
  },
  {
   "cell_type": "code",
   "execution_count": 3,
   "metadata": {},
   "outputs": [
    {
     "data": {
      "text/plain": [
       "(17880, 18)"
      ]
     },
     "execution_count": 3,
     "metadata": {},
     "output_type": "execute_result"
    }
   ],
   "source": [
    "df.shape"
   ]
  },
  {
   "cell_type": "code",
   "execution_count": 4,
   "metadata": {},
   "outputs": [],
   "source": [
    "df.columns\n",
    "df_columns = df.columns.tolist()"
   ]
  },
  {
   "cell_type": "code",
   "execution_count": 5,
   "metadata": {},
   "outputs": [
    {
     "name": "stdout",
     "output_type": "stream",
     "text": [
      "Data type of each column of Dataframe :\n",
      "job_id                  int64\n",
      "title                  object\n",
      "location               object\n",
      "department             object\n",
      "salary_range           object\n",
      "company_profile        object\n",
      "description            object\n",
      "requirements           object\n",
      "benefits               object\n",
      "telecommuting           int64\n",
      "has_company_logo        int64\n",
      "has_questions           int64\n",
      "employment_type        object\n",
      "required_experience    object\n",
      "required_education     object\n",
      "industry               object\n",
      "function               object\n",
      "fraudulent              int64\n",
      "dtype: object\n"
     ]
    }
   ],
   "source": [
    "dataTypeSeries = df.dtypes\n",
    "print('Data type of each column of Dataframe :')\n",
    "print(dataTypeSeries)"
   ]
  },
  {
   "cell_type": "code",
   "execution_count": 6,
   "metadata": {},
   "outputs": [
    {
     "data": {
      "text/plain": [
       "job_id                     0\n",
       "title                      0\n",
       "location                 346\n",
       "department             11547\n",
       "salary_range           15012\n",
       "company_profile         3308\n",
       "description                1\n",
       "requirements            2695\n",
       "benefits                7210\n",
       "telecommuting              0\n",
       "has_company_logo           0\n",
       "has_questions              0\n",
       "employment_type         3471\n",
       "required_experience     7050\n",
       "required_education      8105\n",
       "industry                4903\n",
       "function                6455\n",
       "fraudulent                 0\n",
       "dtype: int64"
      ]
     },
     "execution_count": 6,
     "metadata": {},
     "output_type": "execute_result"
    }
   ],
   "source": [
    "df[df_columns].isnull().sum()"
   ]
  },
  {
   "cell_type": "code",
   "execution_count": 7,
   "metadata": {},
   "outputs": [],
   "source": [
    "df = df.replace(np.nan, '', regex=True)"
   ]
  },
  {
   "cell_type": "code",
   "execution_count": 8,
   "metadata": {},
   "outputs": [
    {
     "data": {
      "image/png": "[encoded data removed]",
      "text/plain": [
       "<Figure size 2520x2160 with 3 Axes>"
      ]
     },
     "metadata": {
      "needs_background": "light"
     },
     "output_type": "display_data"
    }
   ],
   "source": [
    "# Plots to see the distribution of the continuous features individually\n",
    "\n",
    "plt.figure(figsize= (35,30))\n",
    "plt.subplot(3,3,1)\n",
    "plt.hist(df.employment_type, color='orange', edgecolor = 'black', alpha = 0.7)\n",
    "plt.xlabel('\\nEmployment type')\n",
    "\n",
    "plt.subplot(3,3,2)\n",
    "plt.hist(df.required_experience, color='lightblue', edgecolor = 'black', alpha = 0.7)\n",
    "plt.xlabel('\\nRequired Experience')\n",
    "\n",
    "plt.subplot(3,3,3)\n",
    "plt.hist(df.fraudulent, color='red', edgecolor = 'black', alpha = 0.7)\n",
    "plt.xlabel('\\nFraud')\n",
    "\n",
    "\n",
    "plt.show()"
   ]
  },
  {
   "cell_type": "markdown",
   "metadata": {},
   "source": [
    "Full-time jobs are posted more comparatively to other type of employment. There are more jobs available that requires Mid-senior level Experience."
   ]
  },
  {
   "cell_type": "code",
   "execution_count": 9,
   "metadata": {},
   "outputs": [
    {
     "data": {
      "text/plain": [
       "<AxesSubplot:xlabel='function', ylabel='count'>"
      ]
     },
     "execution_count": 9,
     "metadata": {},
     "output_type": "execute_result"
    },
    {
     "data": {
      "image/png": "[encoded data removed]",
      "text/plain": [
       "<Figure size 3600x2160 with 1 Axes>"
      ]
     },
     "metadata": {
      "needs_background": "light"
     },
     "output_type": "display_data"
    }
   ],
   "source": [
    "plt.figure(figsize=(50,30))\n",
    "sns.set_style(\"darkgrid\")\n",
    "sns.countplot(x='function',data=df,palette='Set1')"
   ]
  },
  {
   "cell_type": "markdown",
   "metadata": {},
   "source": [
    "There are maximum number of jobs are posted in IT field and minimum jobs are posted related to Distribution. Jobs in Sales,IT,Marketing,Engineering,Customer Service,Administrative are most in demand jobs.\n",
    "\n"
   ]
  },
  {
   "cell_type": "markdown",
   "metadata": {},
   "source": [
    "# Data Distributions\n",
    "If lots of values, plot both head and tail to get sense of range"
   ]
  },
  {
   "cell_type": "code",
   "execution_count": 10,
   "metadata": {},
   "outputs": [],
   "source": [
    "# Function to plot distribution of variables\n",
    "# Inputs:\n",
    "    # col: feature we want to graph distribution of\n",
    "    # title: title of plot\n",
    "    # boolean: True if variable is boolean -> different formatting\n",
    "    # tail: True if plot head and tail of distribution if many values. False if plot all values\n",
    "def hist_plt(col, title, boolean = False, tail = False):\n",
    "    \n",
    "    # 1 vs 2 plots in the figure\n",
    "    if tail:\n",
    "        f, (ax1, ax2) = plt.subplots(1, 2, sharey=False)\n",
    "        num = 10\n",
    "    else:\n",
    "        f, ax1 = plt.subplots()\n",
    "        num = 1000\n",
    "        \n",
    "    # get value counts for distribution\n",
    "    head = df[col].value_counts().head(num)\n",
    "    \n",
    "    # plot\n",
    "    if boolean == False:\n",
    "        ax1.bar(head.index, head)\n",
    "        ax1.set_xticklabels(labels = head.index, rotation=90)\n",
    "    # if boolean, need to sort in consistent No, Yes order rather than by value counts \n",
    "    else:\n",
    "        bplt = df[col].value_counts()\n",
    "        bplt = bplt.sort_index() # need to be in No, Yes order\n",
    "        ax1.bar(bplt.index, bplt)\n",
    "        ax1.set_xticks([0, 1])\n",
    "        ax1.set_xticklabels(labels = ['No', 'Yes'])\n",
    "    \n",
    "    # second plot if need to plot distribution tail\n",
    "    if tail:\n",
    "        tail = df[col].value_counts().tail(10)\n",
    "        ax2.bar(tail.index, tail)\n",
    "        ax2.set_xticklabels(labels = tail.index, rotation=90)\n",
    "        \n",
    "    # title\n",
    "    f.suptitle(title, fontsize=16)\n",
    "    \n",
    "    return ax1.get_figure()"
   ]
  },
  {
   "cell_type": "code",
   "execution_count": 11,
   "metadata": {},
   "outputs": [
    {
     "data": {
      "image/png": "[encoded data removed]",
      "text/plain": [
       "<Figure size 432x288 with 2 Axes>"
      ]
     },
     "metadata": {},
     "output_type": "display_data"
    }
   ],
   "source": [
    "ind_dist = hist_plt('industry', 'Industries Distribution: Head + Tail', tail = True)"
   ]
  },
  {
   "cell_type": "code",
   "execution_count": 12,
   "metadata": {},
   "outputs": [
    {
     "data": {
      "image/png": "[encoded data removed]",
      "text/plain": [
       "<Figure size 432x288 with 2 Axes>"
      ]
     },
     "metadata": {},
     "output_type": "display_data"
    }
   ],
   "source": [
    "fun_dist = hist_plt('function', 'Functions Distributrion: Head + Tail', tail = True)"
   ]
  },
  {
   "cell_type": "code",
   "execution_count": 13,
   "metadata": {},
   "outputs": [
    {
     "data": {
      "image/png": "[encoded data removed]",
      "text/plain": [
       "<Figure size 432x288 with 1 Axes>"
      ]
     },
     "metadata": {},
     "output_type": "display_data"
    }
   ],
   "source": [
    "exp_dist = hist_plt('required_experience', 'Required Experience Distribution')"
   ]
  },
  {
   "cell_type": "code",
   "execution_count": 14,
   "metadata": {},
   "outputs": [
    {
     "data": {
      "image/png": "[encoded data removed]",
      "text/plain": [
       "<Figure size 432x288 with 1 Axes>"
      ]
     },
     "execution_count": 14,
     "metadata": {},
     "output_type": "execute_result"
    },
    {
     "data": {
      "image/png": "[encoded data removed]",
      "text/plain": [
       "<Figure size 432x288 with 1 Axes>"
      ]
     },
     "metadata": {},
     "output_type": "display_data"
    }
   ],
   "source": [
    "hist_plt('employment_type', 'Employment Type Distribution')"
   ]
  },
  {
   "cell_type": "code",
   "execution_count": 15,
   "metadata": {},
   "outputs": [
    {
     "data": {
      "image/png": "[encoded data removed]",
      "text/plain": [
       "<Figure size 432x288 with 1 Axes>"
      ]
     },
     "execution_count": 15,
     "metadata": {},
     "output_type": "execute_result"
    },
    {
     "data": {
      "image/png": "[encoded data removed]",
      "text/plain": [
       "<Figure size 432x288 with 1 Axes>"
      ]
     },
     "metadata": {},
     "output_type": "display_data"
    }
   ],
   "source": [
    "hist_plt('telecommuting', 'Telecommuting Option Boolean Distribution', boolean = True)"
   ]
  },
  {
   "cell_type": "code",
   "execution_count": 16,
   "metadata": {},
   "outputs": [
    {
     "data": {
      "image/png": "[encoded data removed]",
      "text/plain": [
       "<Figure size 432x288 with 1 Axes>"
      ]
     },
     "execution_count": 16,
     "metadata": {},
     "output_type": "execute_result"
    },
    {
     "data": {
      "image/png": "[encoded data removed]",
      "text/plain": [
       "<Figure size 432x288 with 1 Axes>"
      ]
     },
     "metadata": {},
     "output_type": "display_data"
    }
   ],
   "source": [
    "hist_plt('has_questions', 'Posting Has Questions Boolean Distribution', boolean = True)"
   ]
  },
  {
   "cell_type": "code",
   "execution_count": 17,
   "metadata": {},
   "outputs": [
    {
     "data": {
      "text/plain": [
       "<AxesSubplot:xlabel='fraudulent', ylabel='count'>"
      ]
     },
     "execution_count": 17,
     "metadata": {},
     "output_type": "execute_result"
    },
    {
     "data": {
      "image/png": "[encoded data removed]",
      "text/plain": [
       "<Figure size 432x288 with 1 Axes>"
      ]
     },
     "metadata": {},
     "output_type": "display_data"
    }
   ],
   "source": [
    "sns.countplot(x= 'fraudulent',data= df, color= 'red')"
   ]
  },
  {
   "cell_type": "markdown",
   "metadata": {},
   "source": [
    "Clearly we can see that the given dataset is imbalanced dataset"
   ]
  },
  {
   "cell_type": "markdown",
   "metadata": {},
   "source": [
    "Bar Plots of Metadata Frequency in Fraudulent Posts"
   ]
  },
  {
   "cell_type": "code",
   "execution_count": 18,
   "metadata": {},
   "outputs": [],
   "source": [
    "# function to plot percent of postings of each value that are fake\n",
    "# inputs:\n",
    "    # col: feature we want to plot\n",
    "    # titlecol: title for graph\n",
    "    # boolean: True if boolean value -> different formatting\n",
    "def bar_plt(col, titlecol, boolean = False):\n",
    "    \n",
    "    # count number of fraudulent postings and total postings -> calculate fraction of postings that are fraud\n",
    "    fraudcnt = df.groupby(col).fraudulent.sum().to_frame() # number fraud\n",
    "    totcnt = df.groupby(col).job_id.count().to_frame() # number in general\n",
    "    frac = pd.merge(fraudcnt, totcnt, left_index = True, right_index = True) # merge\n",
    "    frac['frac'] = frac.fraudulent / frac.job_id # fraction fraud\n",
    "    \n",
    "    # exclude if fewer than 10 total postings (else fraction may be close to 100%)\n",
    "    frac = frac[frac.job_id > 10]\n",
    "    \n",
    "    # sort \n",
    "    frac['index_col'] = frac.index\n",
    "    frac = frac.reset_index(drop = True)\n",
    "    # take top 10 if not boolean\n",
    "    if boolean == False:\n",
    "        frac = frac.sort_values('frac').tail(10)\n",
    "\n",
    "    # plot\n",
    "    cnt = len(frac)\n",
    "    sns.barplot(x='index_col', y=\"frac\", data=frac, order=frac['index_col'])\n",
    "    \n",
    "    # xtick format\n",
    "    if boolean == False:\n",
    "        plt.xticks(rotation=90)\n",
    "    else:\n",
    "        plt.xticks([0, 1], ['No', 'Yes'])\n",
    "        \n",
    "    # title\n",
    "    # if top 10 was not the full amount, say top 10 in title. Else, all values\n",
    "    if cnt == 10:\n",
    "        plt.title('Top 10 ' + titlecol + ' by Percent Fraudulent Postings')\n",
    "    else:\n",
    "        plt.title(titlecol + ' by Percent Fraudulent Postings')\n",
    "        \n",
    "    # label\n",
    "    plt.ylabel('Fraction of Fraudulent Postings')\n",
    "    plt.xlabel('')"
   ]
  },
  {
   "cell_type": "code",
   "execution_count": 19,
   "metadata": {},
   "outputs": [
    {
     "data": {
      "image/png": "[encoded data removed]",
      "text/plain": [
       "<Figure size 432x288 with 1 Axes>"
      ]
     },
     "metadata": {},
     "output_type": "display_data"
    }
   ],
   "source": [
    "bar_plt('industry', 'Industries')"
   ]
  },
  {
   "cell_type": "code",
   "execution_count": 20,
   "metadata": {},
   "outputs": [
    {
     "data": {
      "image/png": "[encoded data removed]",
      "text/plain": [
       "<Figure size 432x288 with 1 Axes>"
      ]
     },
     "metadata": {},
     "output_type": "display_data"
    }
   ],
   "source": [
    "bar_plt('function', 'Functions')"
   ]
  },
  {
   "cell_type": "code",
   "execution_count": 21,
   "metadata": {},
   "outputs": [
    {
     "data": {
      "image/png": "[encoded data removed]",
      "text/plain": [
       "<Figure size 432x288 with 1 Axes>"
      ]
     },
     "metadata": {},
     "output_type": "display_data"
    }
   ],
   "source": [
    "bar_plt('department', 'Departments')\n",
    "# clerical and oil energy appear to be the same handful of job postings posted many times with different locations or titles"
   ]
  },
  {
   "cell_type": "code",
   "execution_count": 22,
   "metadata": {},
   "outputs": [
    {
     "data": {
      "image/png": "[encoded data removed]",
      "text/plain": [
       "<Figure size 432x288 with 1 Axes>"
      ]
     },
     "metadata": {},
     "output_type": "display_data"
    }
   ],
   "source": [
    "bar_plt('required_experience', 'Required Experience Levels')"
   ]
  },
  {
   "cell_type": "code",
   "execution_count": 23,
   "metadata": {},
   "outputs": [
    {
     "data": {
      "image/png": "[encoded data removed]",
      "text/plain": [
       "<Figure size 432x288 with 1 Axes>"
      ]
     },
     "metadata": {},
     "output_type": "display_data"
    }
   ],
   "source": [
    "bar_plt('employment_type', 'Employment Type')"
   ]
  },
  {
   "cell_type": "code",
   "execution_count": 24,
   "metadata": {},
   "outputs": [
    {
     "data": {
      "image/png": "[encoded data removed]",
      "text/plain": [
       "<Figure size 432x288 with 1 Axes>"
      ]
     },
     "metadata": {},
     "output_type": "display_data"
    }
   ],
   "source": [
    "bar_plt('telecommuting', 'Telecommute Option', boolean = True)"
   ]
  },
  {
   "cell_type": "code",
   "execution_count": 25,
   "metadata": {},
   "outputs": [
    {
     "data": {
      "image/png": "[encoded data removed]",
      "text/plain": [
       "<Figure size 432x288 with 1 Axes>"
      ]
     },
     "metadata": {},
     "output_type": "display_data"
    }
   ],
   "source": [
    "bar_plt('has_company_logo', 'Company Logo Presence', boolean = True)"
   ]
  },
  {
   "cell_type": "markdown",
   "metadata": {},
   "source": [
    "# Ques 1: Which is the job titles have most full time job opportunities and how many?"
   ]
  },
  {
   "cell_type": "code",
   "execution_count": 26,
   "metadata": {},
   "outputs": [],
   "source": [
    "#Subsetting dataframe which have 'Full-time' emplyment type and also are not fruad.\n",
    "df_jobs = df[(df['employment_type'] == 'Full-time') & (df['fraudulent']== 0)]"
   ]
  },
  {
   "cell_type": "code",
   "execution_count": 27,
   "metadata": {},
   "outputs": [
    {
     "data": {
      "text/plain": [
       "(11130, 18)"
      ]
     },
     "execution_count": 27,
     "metadata": {},
     "output_type": "execute_result"
    }
   ],
   "source": [
    "df_jobs.shape"
   ]
  },
  {
   "cell_type": "code",
   "execution_count": 28,
   "metadata": {},
   "outputs": [
    {
     "data": {
      "text/plain": [
       "Customer Service Associate        145\n",
       "Software Engineer                  71\n",
       "Account Manager                    64\n",
       "Web Developer                      50\n",
       "Customer Service Associate         40\n",
       "                                 ... \n",
       "Nortel BCM Field Tech               1\n",
       "Digital Marketing Officer           1\n",
       "Visa Specialist                     1\n",
       "DevOps / CI Engineer                1\n",
       "Medicare Assistance Counselor       1\n",
       "Name: title, Length: 7079, dtype: int64"
      ]
     },
     "execution_count": 28,
     "metadata": {},
     "output_type": "execute_result"
    }
   ],
   "source": [
    "#Checking the counts of each unique value\n",
    "df_jobs['title'].value_counts()"
   ]
  },
  {
   "cell_type": "code",
   "execution_count": 29,
   "metadata": {},
   "outputs": [
    {
     "data": {
      "text/plain": [
       "145"
      ]
     },
     "execution_count": 29,
     "metadata": {},
     "output_type": "execute_result"
    }
   ],
   "source": [
    "df_jobs['title'].value_counts().max()"
   ]
  },
  {
   "cell_type": "markdown",
   "metadata": {},
   "source": [
    "# Ans 1 : Job title 'Customer Service Associate ' has 145 opportunities for a full time job."
   ]
  },
  {
   "cell_type": "code",
   "execution_count": 30,
   "metadata": {},
   "outputs": [
    {
     "data": {
      "text/html": [
       "<div>\n",
       "<style scoped>\n",
       "    .dataframe tbody tr th:only-of-type {\n",
       "        vertical-align: middle;\n",
       "    }\n",
       "\n",
       "    .dataframe tbody tr th {\n",
       "        vertical-align: top;\n",
       "    }\n",
       "\n",
       "    .dataframe thead th {\n",
       "        text-align: right;\n",
       "    }\n",
       "</style>\n",
       "<table border=\"1\" class=\"dataframe\">\n",
       "  <thead>\n",
       "    <tr style=\"text-align: right;\">\n",
       "      <th></th>\n",
       "      <th>job_id</th>\n",
       "      <th>title</th>\n",
       "      <th>location</th>\n",
       "      <th>department</th>\n",
       "      <th>salary_range</th>\n",
       "      <th>company_profile</th>\n",
       "      <th>description</th>\n",
       "      <th>requirements</th>\n",
       "      <th>benefits</th>\n",
       "      <th>telecommuting</th>\n",
       "      <th>has_company_logo</th>\n",
       "      <th>has_questions</th>\n",
       "      <th>employment_type</th>\n",
       "      <th>required_experience</th>\n",
       "      <th>required_education</th>\n",
       "      <th>industry</th>\n",
       "      <th>function</th>\n",
       "      <th>fraudulent</th>\n",
       "    </tr>\n",
       "  </thead>\n",
       "  <tbody>\n",
       "    <tr>\n",
       "      <th>0</th>\n",
       "      <td>1</td>\n",
       "      <td>Marketing Intern</td>\n",
       "      <td>US, NY, New York</td>\n",
       "      <td>Marketing</td>\n",
       "      <td></td>\n",
       "      <td>We're Food52, and we've created a groundbreaki...</td>\n",
       "      <td>Food52, a fast-growing, James Beard Award-winn...</td>\n",
       "      <td>Experience with content management systems a m...</td>\n",
       "      <td></td>\n",
       "      <td>0</td>\n",
       "      <td>1</td>\n",
       "      <td>0</td>\n",
       "      <td>Other</td>\n",
       "      <td>Internship</td>\n",
       "      <td></td>\n",
       "      <td></td>\n",
       "      <td>Marketing</td>\n",
       "      <td>0</td>\n",
       "    </tr>\n",
       "  </tbody>\n",
       "</table>\n",
       "</div>"
      ],
      "text/plain": [
       "   job_id             title          location department salary_range  \\\n",
       "0       1  Marketing Intern  US, NY, New York  Marketing                \n",
       "\n",
       "                                     company_profile  \\\n",
       "0  We're Food52, and we've created a groundbreaki...   \n",
       "\n",
       "                                         description  \\\n",
       "0  Food52, a fast-growing, James Beard Award-winn...   \n",
       "\n",
       "                                        requirements benefits  telecommuting  \\\n",
       "0  Experience with content management systems a m...                       0   \n",
       "\n",
       "   has_company_logo  has_questions employment_type required_experience  \\\n",
       "0                 1              0           Other          Internship   \n",
       "\n",
       "  required_education industry   function  fraudulent  \n",
       "0                              Marketing           0  "
      ]
     },
     "execution_count": 30,
     "metadata": {},
     "output_type": "execute_result"
    }
   ],
   "source": [
    "df.head(1)"
   ]
  },
  {
   "cell_type": "markdown",
   "metadata": {},
   "source": [
    "# Que 2 : Which industry have the maximum number of fake job postings?"
   ]
  },
  {
   "cell_type": "code",
   "execution_count": 31,
   "metadata": {},
   "outputs": [],
   "source": [
    "#Only including rows which are fake job postings.\n",
    "df_industry = df[df['fraudulent']== 1]"
   ]
  },
  {
   "cell_type": "code",
   "execution_count": 32,
   "metadata": {},
   "outputs": [
    {
     "data": {
      "text/plain": [
       "(866, 18)"
      ]
     },
     "execution_count": 32,
     "metadata": {},
     "output_type": "execute_result"
    }
   ],
   "source": [
    "df_industry.shape"
   ]
  },
  {
   "cell_type": "code",
   "execution_count": 33,
   "metadata": {},
   "outputs": [
    {
     "data": {
      "text/plain": [
       "                               275\n",
       "Oil & Energy                   109\n",
       "Accounting                      57\n",
       "Hospital & Health Care          51\n",
       "Marketing and Advertising       45\n",
       "                              ... \n",
       "Civic & Social Organization      1\n",
       "Broadcast Media                  1\n",
       "Public Safety                    1\n",
       "Security and Investigations      1\n",
       "Medical Devices                  1\n",
       "Name: industry, Length: 63, dtype: int64"
      ]
     },
     "execution_count": 33,
     "metadata": {},
     "output_type": "execute_result"
    }
   ],
   "source": [
    "#Checking each unique value counts of industry.\n",
    "df_industry['industry'].value_counts()"
   ]
  },
  {
   "cell_type": "markdown",
   "metadata": {},
   "source": [
    "# Ans 2 : Industry with, maximum no. of fake job postings : Oil & energy"
   ]
  },
  {
   "cell_type": "code",
   "execution_count": 34,
   "metadata": {},
   "outputs": [
    {
     "data": {
      "text/plain": [
       "0    17014\n",
       "1      866\n",
       "Name: fraudulent, dtype: int64"
      ]
     },
     "execution_count": 34,
     "metadata": {},
     "output_type": "execute_result"
    }
   ],
   "source": [
    "df[\"fraudulent\"].value_counts()"
   ]
  },
  {
   "cell_type": "markdown",
   "metadata": {},
   "source": [
    "4.8434% (Approx 5%) Fake job post.\n"
   ]
  },
  {
   "cell_type": "code",
   "execution_count": 35,
   "metadata": {},
   "outputs": [],
   "source": [
    "df['text'] = df[['title', 'department','company_profile','description','requirements','benefits']].apply(lambda x: ' '.join(x), axis = 1) "
   ]
  },
  {
   "cell_type": "code",
   "execution_count": 36,
   "metadata": {},
   "outputs": [],
   "source": [
    "df.drop(['job_id', 'location','title','salary_range' ,'department','salary_range','company_profile','description','requirements','benefits'], axis=1, inplace=True)"
   ]
  },
  {
   "cell_type": "code",
   "execution_count": 37,
   "metadata": {},
   "outputs": [],
   "source": [
    "df.columns\n",
    "df_columns = df.columns.tolist()"
   ]
  },
  {
   "cell_type": "code",
   "execution_count": null,
   "metadata": {},
   "outputs": [],
   "source": []
  },
  {
   "cell_type": "markdown",
   "metadata": {},
   "source": [
    "# Dummy Variables\n",
    "All variables are categorical, create dummies and drop one level to avoid collinearity\n",
    "For country, many values so only create dummy if more than 100 posts in that country"
   ]
  },
  {
   "cell_type": "code",
   "execution_count": 38,
   "metadata": {},
   "outputs": [],
   "source": [
    "from sklearn.preprocessing import LabelEncoder\n",
    "label_columns = ['telecommuting', 'has_company_logo', 'has_questions', 'employment_type',\n",
    "       'required_experience', 'required_education', 'industry', 'function']\n",
    "lb_make = LabelEncoder()\n",
    "for i in label_columns:\n",
    "  df[i] = lb_make.fit_transform(df[i])"
   ]
  },
  {
   "cell_type": "code",
   "execution_count": 39,
   "metadata": {},
   "outputs": [
    {
     "data": {
      "text/html": [
       "<div>\n",
       "<style scoped>\n",
       "    .dataframe tbody tr th:only-of-type {\n",
       "        vertical-align: middle;\n",
       "    }\n",
       "\n",
       "    .dataframe tbody tr th {\n",
       "        vertical-align: top;\n",
       "    }\n",
       "\n",
       "    .dataframe thead th {\n",
       "        text-align: right;\n",
       "    }\n",
       "</style>\n",
       "<table border=\"1\" class=\"dataframe\">\n",
       "  <thead>\n",
       "    <tr style=\"text-align: right;\">\n",
       "      <th></th>\n",
       "      <th>telecommuting</th>\n",
       "      <th>has_company_logo</th>\n",
       "      <th>has_questions</th>\n",
       "      <th>employment_type</th>\n",
       "      <th>required_experience</th>\n",
       "      <th>required_education</th>\n",
       "      <th>industry</th>\n",
       "      <th>function</th>\n",
       "      <th>fraudulent</th>\n",
       "      <th>text</th>\n",
       "    </tr>\n",
       "  </thead>\n",
       "  <tbody>\n",
       "    <tr>\n",
       "      <th>0</th>\n",
       "      <td>0</td>\n",
       "      <td>1</td>\n",
       "      <td>0</td>\n",
       "      <td>3</td>\n",
       "      <td>5</td>\n",
       "      <td>0</td>\n",
       "      <td>0</td>\n",
       "      <td>23</td>\n",
       "      <td>0</td>\n",
       "      <td>Marketing Intern Marketing We're Food52, and w...</td>\n",
       "    </tr>\n",
       "    <tr>\n",
       "      <th>1</th>\n",
       "      <td>0</td>\n",
       "      <td>1</td>\n",
       "      <td>0</td>\n",
       "      <td>2</td>\n",
       "      <td>7</td>\n",
       "      <td>0</td>\n",
       "      <td>76</td>\n",
       "      <td>8</td>\n",
       "      <td>0</td>\n",
       "      <td>Customer Service - Cloud Video Production Succ...</td>\n",
       "    </tr>\n",
       "    <tr>\n",
       "      <th>2</th>\n",
       "      <td>0</td>\n",
       "      <td>1</td>\n",
       "      <td>0</td>\n",
       "      <td>0</td>\n",
       "      <td>0</td>\n",
       "      <td>0</td>\n",
       "      <td>0</td>\n",
       "      <td>0</td>\n",
       "      <td>0</td>\n",
       "      <td>Commissioning Machinery Assistant (CMA)  Valor...</td>\n",
       "    </tr>\n",
       "    <tr>\n",
       "      <th>3</th>\n",
       "      <td>0</td>\n",
       "      <td>1</td>\n",
       "      <td>0</td>\n",
       "      <td>2</td>\n",
       "      <td>6</td>\n",
       "      <td>2</td>\n",
       "      <td>23</td>\n",
       "      <td>32</td>\n",
       "      <td>0</td>\n",
       "      <td>Account Executive - Washington DC Sales Our pa...</td>\n",
       "    </tr>\n",
       "    <tr>\n",
       "      <th>4</th>\n",
       "      <td>0</td>\n",
       "      <td>1</td>\n",
       "      <td>1</td>\n",
       "      <td>2</td>\n",
       "      <td>6</td>\n",
       "      <td>2</td>\n",
       "      <td>52</td>\n",
       "      <td>17</td>\n",
       "      <td>0</td>\n",
       "      <td>Bill Review Manager  SpotSource Solutions LLC ...</td>\n",
       "    </tr>\n",
       "  </tbody>\n",
       "</table>\n",
       "</div>"
      ],
      "text/plain": [
       "   telecommuting  has_company_logo  has_questions  employment_type  \\\n",
       "0              0                 1              0                3   \n",
       "1              0                 1              0                2   \n",
       "2              0                 1              0                0   \n",
       "3              0                 1              0                2   \n",
       "4              0                 1              1                2   \n",
       "\n",
       "   required_experience  required_education  industry  function  fraudulent  \\\n",
       "0                    5                   0         0        23           0   \n",
       "1                    7                   0        76         8           0   \n",
       "2                    0                   0         0         0           0   \n",
       "3                    6                   2        23        32           0   \n",
       "4                    6                   2        52        17           0   \n",
       "\n",
       "                                                text  \n",
       "0  Marketing Intern Marketing We're Food52, and w...  \n",
       "1  Customer Service - Cloud Video Production Succ...  \n",
       "2  Commissioning Machinery Assistant (CMA)  Valor...  \n",
       "3  Account Executive - Washington DC Sales Our pa...  \n",
       "4  Bill Review Manager  SpotSource Solutions LLC ...  "
      ]
     },
     "execution_count": 39,
     "metadata": {},
     "output_type": "execute_result"
    }
   ],
   "source": [
    "df.head()"
   ]
  },
  {
   "cell_type": "code",
   "execution_count": 40,
   "metadata": {},
   "outputs": [
    {
     "data": {
      "text/html": [
       "<div>\n",
       "<style scoped>\n",
       "    .dataframe tbody tr th:only-of-type {\n",
       "        vertical-align: middle;\n",
       "    }\n",
       "\n",
       "    .dataframe tbody tr th {\n",
       "        vertical-align: top;\n",
       "    }\n",
       "\n",
       "    .dataframe thead th {\n",
       "        text-align: right;\n",
       "    }\n",
       "</style>\n",
       "<table border=\"1\" class=\"dataframe\">\n",
       "  <thead>\n",
       "    <tr style=\"text-align: right;\">\n",
       "      <th></th>\n",
       "      <th>text</th>\n",
       "      <th>telecommuting</th>\n",
       "      <th>has_company_logo</th>\n",
       "      <th>has_questions</th>\n",
       "      <th>employment_type</th>\n",
       "      <th>required_experience</th>\n",
       "      <th>required_education</th>\n",
       "      <th>industry</th>\n",
       "      <th>function</th>\n",
       "      <th>fraudulent</th>\n",
       "    </tr>\n",
       "  </thead>\n",
       "  <tbody>\n",
       "    <tr>\n",
       "      <th>0</th>\n",
       "      <td>Marketing Intern Marketing We're Food52, and w...</td>\n",
       "      <td>0</td>\n",
       "      <td>1</td>\n",
       "      <td>0</td>\n",
       "      <td>3</td>\n",
       "      <td>5</td>\n",
       "      <td>0</td>\n",
       "      <td>0</td>\n",
       "      <td>23</td>\n",
       "      <td>0</td>\n",
       "    </tr>\n",
       "    <tr>\n",
       "      <th>1</th>\n",
       "      <td>Customer Service - Cloud Video Production Succ...</td>\n",
       "      <td>0</td>\n",
       "      <td>1</td>\n",
       "      <td>0</td>\n",
       "      <td>2</td>\n",
       "      <td>7</td>\n",
       "      <td>0</td>\n",
       "      <td>76</td>\n",
       "      <td>8</td>\n",
       "      <td>0</td>\n",
       "    </tr>\n",
       "    <tr>\n",
       "      <th>2</th>\n",
       "      <td>Commissioning Machinery Assistant (CMA)  Valor...</td>\n",
       "      <td>0</td>\n",
       "      <td>1</td>\n",
       "      <td>0</td>\n",
       "      <td>0</td>\n",
       "      <td>0</td>\n",
       "      <td>0</td>\n",
       "      <td>0</td>\n",
       "      <td>0</td>\n",
       "      <td>0</td>\n",
       "    </tr>\n",
       "    <tr>\n",
       "      <th>3</th>\n",
       "      <td>Account Executive - Washington DC Sales Our pa...</td>\n",
       "      <td>0</td>\n",
       "      <td>1</td>\n",
       "      <td>0</td>\n",
       "      <td>2</td>\n",
       "      <td>6</td>\n",
       "      <td>2</td>\n",
       "      <td>23</td>\n",
       "      <td>32</td>\n",
       "      <td>0</td>\n",
       "    </tr>\n",
       "    <tr>\n",
       "      <th>4</th>\n",
       "      <td>Bill Review Manager  SpotSource Solutions LLC ...</td>\n",
       "      <td>0</td>\n",
       "      <td>1</td>\n",
       "      <td>1</td>\n",
       "      <td>2</td>\n",
       "      <td>6</td>\n",
       "      <td>2</td>\n",
       "      <td>52</td>\n",
       "      <td>17</td>\n",
       "      <td>0</td>\n",
       "    </tr>\n",
       "  </tbody>\n",
       "</table>\n",
       "</div>"
      ],
      "text/plain": [
       "                                                text  telecommuting  \\\n",
       "0  Marketing Intern Marketing We're Food52, and w...              0   \n",
       "1  Customer Service - Cloud Video Production Succ...              0   \n",
       "2  Commissioning Machinery Assistant (CMA)  Valor...              0   \n",
       "3  Account Executive - Washington DC Sales Our pa...              0   \n",
       "4  Bill Review Manager  SpotSource Solutions LLC ...              0   \n",
       "\n",
       "   has_company_logo  has_questions  employment_type  required_experience  \\\n",
       "0                 1              0                3                    5   \n",
       "1                 1              0                2                    7   \n",
       "2                 1              0                0                    0   \n",
       "3                 1              0                2                    6   \n",
       "4                 1              1                2                    6   \n",
       "\n",
       "   required_education  industry  function  fraudulent  \n",
       "0                   0         0        23           0  \n",
       "1                   0        76         8           0  \n",
       "2                   0         0         0           0  \n",
       "3                   2        23        32           0  \n",
       "4                   2        52        17           0  "
      ]
     },
     "execution_count": 40,
     "metadata": {},
     "output_type": "execute_result"
    }
   ],
   "source": [
    "df_columns = df_columns[-1:] + df_columns[:-1]\n",
    "df = df[df_columns]\n",
    "df.head()"
   ]
  },
  {
   "cell_type": "markdown",
   "metadata": {},
   "source": [
    "# Text Processing"
   ]
  },
  {
   "cell_type": "code",
   "execution_count": 41,
   "metadata": {},
   "outputs": [],
   "source": [
    "  def clean_text(text, ):\n",
    "        if text is not None:\n",
    "        #exclusions = ['RE:', 'Re:', 're:']\n",
    "        #exclusions = '|'.join(exclusions)\n",
    "                text = re.sub(r'[0-9]+','',text)\n",
    "                text =  text.lower()\n",
    "                text = re.sub('re:', '', text)\n",
    "                text = re.sub('-', '', text)\n",
    "                text = re.sub('_', '', text)\n",
    "                text = re.sub(r'^https?:\\/\\/.*[\\r\\n]*', '', text, flags=re.MULTILINE)\n",
    "                text = re.sub(r'\\S*@\\S*\\s?', '', text, flags=re.MULTILINE)\n",
    "        # Remove text between square brackets\n",
    "                text =re.sub('\\[[^]]*\\]', '', text)\n",
    "        # removes punctuation\n",
    "                text = re.sub(r'[^\\w\\s]','',text)\n",
    "                text = re.sub(r'\\n',' ',text)\n",
    "                text = re.sub(r'[0-9]+','',text)\n",
    "                #text = re.sub(r'[0-9]+','',text)\n",
    "        # strip html \n",
    "                p = re.compile(r'<.*?>')\n",
    "                text = re.sub(r\"\\'ve\", \" have \", text)\n",
    "                text = re.sub(r\"can't\", \"cannot \", text)\n",
    "                text = re.sub(r\"n't\", \" not \", text)\n",
    "                text = re.sub(r\"I'm\", \"I am\", text)\n",
    "                text = re.sub(r\" m \", \" am \", text)\n",
    "                text = re.sub(r\"\\'re\", \" are \", text)\n",
    "                text = re.sub(r\"\\'d\", \" would \", text)\n",
    "                text = re.sub(r\"\\'ll\", \" will \", text)\n",
    "        \n",
    "                text = p.sub('', text)\n",
    "\n",
    "        def tokenize_text(text,tokenizer=default_tokenizer):\n",
    "            token = default_tokenizer.tokenize(text)\n",
    "            return token\n",
    "        \n",
    "        def remove_stopwords(text, stop_words=default_stopwords):\n",
    "            tokens = [w for w in tokenize_text(text) if w not in stop_words]\n",
    "            return ' '.join(tokens)\n",
    "\n",
    "        def stem_text(text, stemmer=default_stemmer):\n",
    "            tokens = tokenize_text(text)\n",
    "            return ' '.join([stemmer.stem(t) for t in tokens])\n",
    "\n",
    "        text = stem_text(text) # stemming\n",
    "        text = remove_stopwords(text) # remove stopwords\n",
    "        #text.strip(' ') # strip whitespaces again?\n",
    "\n",
    "        return text"
   ]
  },
  {
   "cell_type": "code",
   "execution_count": 42,
   "metadata": {},
   "outputs": [],
   "source": [
    "df['text'] = df['text'].apply(clean_text)"
   ]
  },
  {
   "cell_type": "code",
   "execution_count": 43,
   "metadata": {},
   "outputs": [
    {
     "data": {
      "text/plain": [
       "0    market intern market food weve creat groundbre...\n",
       "1    custom servic cloud video product success seco...\n",
       "2    commiss machineri assist cma valor servic prov...\n",
       "3    account execut washington dc sale passion impr...\n",
       "4    bill review manag spotsourc solut llc global h...\n",
       "Name: text, dtype: object"
      ]
     },
     "execution_count": 43,
     "metadata": {},
     "output_type": "execute_result"
    }
   ],
   "source": [
    "df['text'].head()"
   ]
  },
  {
   "cell_type": "markdown",
   "metadata": {},
   "source": [
    "# Conversion of text to Vectors"
   ]
  },
  {
   "cell_type": "markdown",
   "metadata": {},
   "source": [
    "# Method 1 :  Avg Word2Vec"
   ]
  },
  {
   "cell_type": "code",
   "execution_count": 44,
   "metadata": {},
   "outputs": [],
   "source": [
    "Y = df.iloc[:,-1]\n",
    "X = df.iloc[:,:-1]"
   ]
  },
  {
   "cell_type": "code",
   "execution_count": 45,
   "metadata": {},
   "outputs": [],
   "source": [
    "from sklearn.model_selection import train_test_split\n",
    "X_train, X_test, y_train, y_test = train_test_split(X, Y, test_size=0.25, random_state=42)\n"
   ]
  },
  {
   "cell_type": "code",
   "execution_count": 46,
   "metadata": {},
   "outputs": [
    {
     "data": {
      "text/html": [
       "<div>\n",
       "<style scoped>\n",
       "    .dataframe tbody tr th:only-of-type {\n",
       "        vertical-align: middle;\n",
       "    }\n",
       "\n",
       "    .dataframe tbody tr th {\n",
       "        vertical-align: top;\n",
       "    }\n",
       "\n",
       "    .dataframe thead th {\n",
       "        text-align: right;\n",
       "    }\n",
       "</style>\n",
       "<table border=\"1\" class=\"dataframe\">\n",
       "  <thead>\n",
       "    <tr style=\"text-align: right;\">\n",
       "      <th></th>\n",
       "      <th>text</th>\n",
       "      <th>telecommuting</th>\n",
       "      <th>has_company_logo</th>\n",
       "      <th>has_questions</th>\n",
       "      <th>employment_type</th>\n",
       "      <th>required_experience</th>\n",
       "      <th>required_education</th>\n",
       "      <th>industry</th>\n",
       "      <th>function</th>\n",
       "    </tr>\n",
       "  </thead>\n",
       "  <tbody>\n",
       "    <tr>\n",
       "      <th>13016</th>\n",
       "      <td>net develop c sql soa ssi albani ny provid ful...</td>\n",
       "      <td>0</td>\n",
       "      <td>0</td>\n",
       "      <td>0</td>\n",
       "      <td>2</td>\n",
       "      <td>0</td>\n",
       "      <td>0</td>\n",
       "      <td>23</td>\n",
       "      <td>0</td>\n",
       "    </tr>\n",
       "    <tr>\n",
       "      <th>15068</th>\n",
       "      <td>ne busi admin apprenticeship avail na year old...</td>\n",
       "      <td>0</td>\n",
       "      <td>1</td>\n",
       "      <td>1</td>\n",
       "      <td>0</td>\n",
       "      <td>7</td>\n",
       "      <td>5</td>\n",
       "      <td>0</td>\n",
       "      <td>0</td>\n",
       "    </tr>\n",
       "    <tr>\n",
       "      <th>3147</th>\n",
       "      <td>softwar engin intern recombin provid clinic ge...</td>\n",
       "      <td>0</td>\n",
       "      <td>1</td>\n",
       "      <td>0</td>\n",
       "      <td>4</td>\n",
       "      <td>5</td>\n",
       "      <td>2</td>\n",
       "      <td>10</td>\n",
       "      <td>13</td>\n",
       "    </tr>\n",
       "    <tr>\n",
       "      <th>9157</th>\n",
       "      <td>senior test engin european dynam urlcffaceabda...</td>\n",
       "      <td>0</td>\n",
       "      <td>1</td>\n",
       "      <td>0</td>\n",
       "      <td>2</td>\n",
       "      <td>6</td>\n",
       "      <td>2</td>\n",
       "      <td>23</td>\n",
       "      <td>19</td>\n",
       "    </tr>\n",
       "    <tr>\n",
       "      <th>5224</th>\n",
       "      <td>graduat program sale work cubic seem like idea...</td>\n",
       "      <td>0</td>\n",
       "      <td>1</td>\n",
       "      <td>1</td>\n",
       "      <td>2</td>\n",
       "      <td>3</td>\n",
       "      <td>2</td>\n",
       "      <td>59</td>\n",
       "      <td>32</td>\n",
       "    </tr>\n",
       "  </tbody>\n",
       "</table>\n",
       "</div>"
      ],
      "text/plain": [
       "                                                    text  telecommuting  \\\n",
       "13016  net develop c sql soa ssi albani ny provid ful...              0   \n",
       "15068  ne busi admin apprenticeship avail na year old...              0   \n",
       "3147   softwar engin intern recombin provid clinic ge...              0   \n",
       "9157   senior test engin european dynam urlcffaceabda...              0   \n",
       "5224   graduat program sale work cubic seem like idea...              0   \n",
       "\n",
       "       has_company_logo  has_questions  employment_type  required_experience  \\\n",
       "13016                 0              0                2                    0   \n",
       "15068                 1              1                0                    7   \n",
       "3147                  1              0                4                    5   \n",
       "9157                  1              0                2                    6   \n",
       "5224                  1              1                2                    3   \n",
       "\n",
       "       required_education  industry  function  \n",
       "13016                   0        23         0  \n",
       "15068                   5         0         0  \n",
       "3147                    2        10        13  \n",
       "9157                    2        23        19  \n",
       "5224                    2        59        32  "
      ]
     },
     "execution_count": 46,
     "metadata": {},
     "output_type": "execute_result"
    }
   ],
   "source": [
    "X_train.head()"
   ]
  },
  {
   "cell_type": "code",
   "execution_count": 47,
   "metadata": {},
   "outputs": [],
   "source": [
    "# Train your own Word2Vec model using your own text corpus\n",
    "i=0\n",
    "train_sent_list=[]\n",
    "for sent in X_train['text'].values:\n",
    "    train_sent_list.append(sent.split())\n",
    "    \n",
    "\n",
    "i=0\n",
    "test_sent_list=[]\n",
    "for sent in X_test['text'].values:\n",
    "    test_sent_list.append(sent.split())"
   ]
  },
  {
   "cell_type": "code",
   "execution_count": 48,
   "metadata": {},
   "outputs": [],
   "source": [
    "from gensim.models import Word2Vec\n",
    "\n",
    "train_w2v_model= Word2Vec(train_sent_list,min_count=5,size=50, workers=4)\n",
    "train_w2v_words = list(train_w2v_model.wv.vocab)\n",
    "\n",
    "test_w2v_model= Word2Vec(test_sent_list,min_count=5,size=50, workers=4)\n",
    "test_w2v_words = list(test_w2v_model.wv.vocab)"
   ]
  },
  {
   "cell_type": "code",
   "execution_count": 49,
   "metadata": {},
   "outputs": [
    {
     "name": "stderr",
     "output_type": "stream",
     "text": [
      "100%|████████████████████████████████████████████████████████████████████████████| 13410/13410 [07:17<00:00, 30.68it/s]"
     ]
    },
    {
     "name": "stdout",
     "output_type": "stream",
     "text": [
      "13410\n",
      "50\n"
     ]
    },
    {
     "name": "stderr",
     "output_type": "stream",
     "text": [
      "\n"
     ]
    }
   ],
   "source": [
    "#Training data for average w2v\n",
    "\n",
    "from tqdm import tqdm\n",
    "\n",
    "train_sent_vectors = []\n",
    "for sent in tqdm(train_sent_list):\n",
    "    train_sent_vec = np.zeros(50)\n",
    "    cnt_words =0\n",
    "    for word in sent:\n",
    "        if word in train_w2v_words:\n",
    "            vec = train_w2v_model.wv[word]\n",
    "            train_sent_vec += vec\n",
    "            cnt_words += 1\n",
    "    if cnt_words != 0:\n",
    "        train_sent_vec /= cnt_words\n",
    "    train_sent_vectors.append(train_sent_vec)\n",
    "print(len(train_sent_vectors))\n",
    "print(len(train_sent_vectors[0]))"
   ]
  },
  {
   "cell_type": "code",
   "execution_count": 50,
   "metadata": {},
   "outputs": [
    {
     "name": "stderr",
     "output_type": "stream",
     "text": [
      "100%|██████████████████████████████████████████████████████████████████████████████| 4470/4470 [01:26<00:00, 51.46it/s]"
     ]
    },
    {
     "name": "stdout",
     "output_type": "stream",
     "text": [
      "4470\n",
      "50\n"
     ]
    },
    {
     "name": "stderr",
     "output_type": "stream",
     "text": [
      "\n"
     ]
    }
   ],
   "source": [
    "#Test data for average w2v\n",
    "\n",
    "test_sent_vectors = []\n",
    "for sent in tqdm(test_sent_list):\n",
    "    test_sent_vec = np.zeros(50)\n",
    "    cnt_words =0\n",
    "    for word in sent:\n",
    "        if word in test_w2v_words:\n",
    "            vec = test_w2v_model.wv[word]\n",
    "            test_sent_vec += vec\n",
    "            cnt_words += 1\n",
    "    if cnt_words != 0:\n",
    "        test_sent_vec /= cnt_words\n",
    "    test_sent_vectors.append(test_sent_vec)\n",
    "print(len(test_sent_vectors))\n",
    "print(len(test_sent_vectors[0]))"
   ]
  },
  {
   "cell_type": "markdown",
   "metadata": {},
   "source": [
    "# Method 2: Tf- IDF "
   ]
  },
  {
   "cell_type": "code",
   "execution_count": 136,
   "metadata": {},
   "outputs": [
    {
     "data": {
      "text/html": [
       "<div>\n",
       "<style scoped>\n",
       "    .dataframe tbody tr th:only-of-type {\n",
       "        vertical-align: middle;\n",
       "    }\n",
       "\n",
       "    .dataframe tbody tr th {\n",
       "        vertical-align: top;\n",
       "    }\n",
       "\n",
       "    .dataframe thead th {\n",
       "        text-align: right;\n",
       "    }\n",
       "</style>\n",
       "<table border=\"1\" class=\"dataframe\">\n",
       "  <thead>\n",
       "    <tr style=\"text-align: right;\">\n",
       "      <th></th>\n",
       "      <th>text</th>\n",
       "      <th>telecommuting</th>\n",
       "      <th>has_company_logo</th>\n",
       "      <th>has_questions</th>\n",
       "      <th>employment_type</th>\n",
       "      <th>required_experience</th>\n",
       "      <th>required_education</th>\n",
       "      <th>industry</th>\n",
       "      <th>function</th>\n",
       "      <th>fraudulent</th>\n",
       "    </tr>\n",
       "  </thead>\n",
       "  <tbody>\n",
       "    <tr>\n",
       "      <th>0</th>\n",
       "      <td>market intern market food weve creat groundbre...</td>\n",
       "      <td>0</td>\n",
       "      <td>1</td>\n",
       "      <td>0</td>\n",
       "      <td>3</td>\n",
       "      <td>5</td>\n",
       "      <td>0</td>\n",
       "      <td>0</td>\n",
       "      <td>23</td>\n",
       "      <td>0</td>\n",
       "    </tr>\n",
       "    <tr>\n",
       "      <th>1</th>\n",
       "      <td>custom servic cloud video product success seco...</td>\n",
       "      <td>0</td>\n",
       "      <td>1</td>\n",
       "      <td>0</td>\n",
       "      <td>2</td>\n",
       "      <td>7</td>\n",
       "      <td>0</td>\n",
       "      <td>76</td>\n",
       "      <td>8</td>\n",
       "      <td>0</td>\n",
       "    </tr>\n",
       "    <tr>\n",
       "      <th>2</th>\n",
       "      <td>commiss machineri assist cma valor servic prov...</td>\n",
       "      <td>0</td>\n",
       "      <td>1</td>\n",
       "      <td>0</td>\n",
       "      <td>0</td>\n",
       "      <td>0</td>\n",
       "      <td>0</td>\n",
       "      <td>0</td>\n",
       "      <td>0</td>\n",
       "      <td>0</td>\n",
       "    </tr>\n",
       "    <tr>\n",
       "      <th>3</th>\n",
       "      <td>account execut washington dc sale passion impr...</td>\n",
       "      <td>0</td>\n",
       "      <td>1</td>\n",
       "      <td>0</td>\n",
       "      <td>2</td>\n",
       "      <td>6</td>\n",
       "      <td>2</td>\n",
       "      <td>23</td>\n",
       "      <td>32</td>\n",
       "      <td>0</td>\n",
       "    </tr>\n",
       "    <tr>\n",
       "      <th>4</th>\n",
       "      <td>bill review manag spotsourc solut llc global h...</td>\n",
       "      <td>0</td>\n",
       "      <td>1</td>\n",
       "      <td>1</td>\n",
       "      <td>2</td>\n",
       "      <td>6</td>\n",
       "      <td>2</td>\n",
       "      <td>52</td>\n",
       "      <td>17</td>\n",
       "      <td>0</td>\n",
       "    </tr>\n",
       "    <tr>\n",
       "      <th>...</th>\n",
       "      <td>...</td>\n",
       "      <td>...</td>\n",
       "      <td>...</td>\n",
       "      <td>...</td>\n",
       "      <td>...</td>\n",
       "      <td>...</td>\n",
       "      <td>...</td>\n",
       "      <td>...</td>\n",
       "      <td>...</td>\n",
       "      <td>...</td>\n",
       "    </tr>\n",
       "    <tr>\n",
       "      <th>17875</th>\n",
       "      <td>account director distribut sale vend look awes...</td>\n",
       "      <td>0</td>\n",
       "      <td>1</td>\n",
       "      <td>1</td>\n",
       "      <td>2</td>\n",
       "      <td>6</td>\n",
       "      <td>0</td>\n",
       "      <td>23</td>\n",
       "      <td>32</td>\n",
       "      <td>0</td>\n",
       "    </tr>\n",
       "    <tr>\n",
       "      <th>17876</th>\n",
       "      <td>payrol account account weblinc ecommerc platfo...</td>\n",
       "      <td>0</td>\n",
       "      <td>1</td>\n",
       "      <td>1</td>\n",
       "      <td>2</td>\n",
       "      <td>6</td>\n",
       "      <td>2</td>\n",
       "      <td>62</td>\n",
       "      <td>1</td>\n",
       "      <td>0</td>\n",
       "    </tr>\n",
       "    <tr>\n",
       "      <th>17877</th>\n",
       "      <td>project cost control staff engin cost control ...</td>\n",
       "      <td>0</td>\n",
       "      <td>0</td>\n",
       "      <td>0</td>\n",
       "      <td>2</td>\n",
       "      <td>0</td>\n",
       "      <td>0</td>\n",
       "      <td>0</td>\n",
       "      <td>0</td>\n",
       "      <td>0</td>\n",
       "    </tr>\n",
       "    <tr>\n",
       "      <th>17878</th>\n",
       "      <td>graphic design nemsia studio look experienc vi...</td>\n",
       "      <td>0</td>\n",
       "      <td>0</td>\n",
       "      <td>1</td>\n",
       "      <td>1</td>\n",
       "      <td>7</td>\n",
       "      <td>7</td>\n",
       "      <td>49</td>\n",
       "      <td>10</td>\n",
       "      <td>0</td>\n",
       "    </tr>\n",
       "    <tr>\n",
       "      <th>17879</th>\n",
       "      <td>web applic develop engin vend look awesom new ...</td>\n",
       "      <td>0</td>\n",
       "      <td>1</td>\n",
       "      <td>1</td>\n",
       "      <td>2</td>\n",
       "      <td>6</td>\n",
       "      <td>0</td>\n",
       "      <td>23</td>\n",
       "      <td>13</td>\n",
       "      <td>0</td>\n",
       "    </tr>\n",
       "  </tbody>\n",
       "</table>\n",
       "<p>17880 rows × 10 columns</p>\n",
       "</div>"
      ],
      "text/plain": [
       "                                                    text  telecommuting  \\\n",
       "0      market intern market food weve creat groundbre...              0   \n",
       "1      custom servic cloud video product success seco...              0   \n",
       "2      commiss machineri assist cma valor servic prov...              0   \n",
       "3      account execut washington dc sale passion impr...              0   \n",
       "4      bill review manag spotsourc solut llc global h...              0   \n",
       "...                                                  ...            ...   \n",
       "17875  account director distribut sale vend look awes...              0   \n",
       "17876  payrol account account weblinc ecommerc platfo...              0   \n",
       "17877  project cost control staff engin cost control ...              0   \n",
       "17878  graphic design nemsia studio look experienc vi...              0   \n",
       "17879  web applic develop engin vend look awesom new ...              0   \n",
       "\n",
       "       has_company_logo  has_questions  employment_type  required_experience  \\\n",
       "0                     1              0                3                    5   \n",
       "1                     1              0                2                    7   \n",
       "2                     1              0                0                    0   \n",
       "3                     1              0                2                    6   \n",
       "4                     1              1                2                    6   \n",
       "...                 ...            ...              ...                  ...   \n",
       "17875                 1              1                2                    6   \n",
       "17876                 1              1                2                    6   \n",
       "17877                 0              0                2                    0   \n",
       "17878                 0              1                1                    7   \n",
       "17879                 1              1                2                    6   \n",
       "\n",
       "       required_education  industry  function  fraudulent  \n",
       "0                       0         0        23           0  \n",
       "1                       0        76         8           0  \n",
       "2                       0         0         0           0  \n",
       "3                       2        23        32           0  \n",
       "4                       2        52        17           0  \n",
       "...                   ...       ...       ...         ...  \n",
       "17875                   0        23        32           0  \n",
       "17876                   2        62         1           0  \n",
       "17877                   0         0         0           0  \n",
       "17878                   7        49        10           0  \n",
       "17879                   0        23        13           0  \n",
       "\n",
       "[17880 rows x 10 columns]"
      ]
     },
     "execution_count": 136,
     "metadata": {},
     "output_type": "execute_result"
    }
   ],
   "source": [
    "df"
   ]
  },
  {
   "cell_type": "code",
   "execution_count": 44,
   "metadata": {},
   "outputs": [],
   "source": [
    "cv = TfidfVectorizer(max_features = 100)\n",
    "x = cv.fit_transform(df['text'])\n",
    "df1 = pd.DataFrame(x.toarray(), columns=cv.get_feature_names())\n",
    "df.drop([\"text\"], axis=1, inplace=True)\n",
    "main_df = pd.concat([df1,df], axis=1)"
   ]
  },
  {
   "cell_type": "markdown",
   "metadata": {},
   "source": [
    "# Data Standardization"
   ]
  },
  {
   "cell_type": "code",
   "execution_count": 55,
   "metadata": {},
   "outputs": [],
   "source": [
    "from sklearn.preprocessing import StandardScaler\n",
    "scaler = StandardScaler()\n",
    "\n",
    "df[['employment_type', 'required_experience', 'required_education','industry','function']] = StandardScaler().fit_transform(df[['employment_type', 'required_experience', 'required_education','industry','function']])\n"
   ]
  },
  {
   "cell_type": "code",
   "execution_count": 56,
   "metadata": {},
   "outputs": [
    {
     "data": {
      "text/html": [
       "<div>\n",
       "<style scoped>\n",
       "    .dataframe tbody tr th:only-of-type {\n",
       "        vertical-align: middle;\n",
       "    }\n",
       "\n",
       "    .dataframe tbody tr th {\n",
       "        vertical-align: top;\n",
       "    }\n",
       "\n",
       "    .dataframe thead th {\n",
       "        text-align: right;\n",
       "    }\n",
       "</style>\n",
       "<table border=\"1\" class=\"dataframe\">\n",
       "  <thead>\n",
       "    <tr style=\"text-align: right;\">\n",
       "      <th></th>\n",
       "      <th>telecommuting</th>\n",
       "      <th>has_company_logo</th>\n",
       "      <th>has_questions</th>\n",
       "      <th>employment_type</th>\n",
       "      <th>required_experience</th>\n",
       "      <th>required_education</th>\n",
       "      <th>industry</th>\n",
       "      <th>function</th>\n",
       "      <th>fraudulent</th>\n",
       "    </tr>\n",
       "  </thead>\n",
       "  <tbody>\n",
       "    <tr>\n",
       "      <th>0</th>\n",
       "      <td>0</td>\n",
       "      <td>1</td>\n",
       "      <td>0</td>\n",
       "      <td>1.290338</td>\n",
       "      <td>0.965807</td>\n",
       "      <td>-0.756563</td>\n",
       "      <td>-1.115956</td>\n",
       "      <td>1.063009</td>\n",
       "      <td>0</td>\n",
       "    </tr>\n",
       "    <tr>\n",
       "      <th>1</th>\n",
       "      <td>0</td>\n",
       "      <td>1</td>\n",
       "      <td>0</td>\n",
       "      <td>0.321040</td>\n",
       "      <td>1.731617</td>\n",
       "      <td>-0.756563</td>\n",
       "      <td>1.041755</td>\n",
       "      <td>-0.275616</td>\n",
       "      <td>0</td>\n",
       "    </tr>\n",
       "    <tr>\n",
       "      <th>2</th>\n",
       "      <td>0</td>\n",
       "      <td>1</td>\n",
       "      <td>0</td>\n",
       "      <td>-1.617558</td>\n",
       "      <td>-0.948718</td>\n",
       "      <td>-0.756563</td>\n",
       "      <td>-1.115956</td>\n",
       "      <td>-0.989549</td>\n",
       "      <td>0</td>\n",
       "    </tr>\n",
       "    <tr>\n",
       "      <th>3</th>\n",
       "      <td>0</td>\n",
       "      <td>1</td>\n",
       "      <td>0</td>\n",
       "      <td>0.321040</td>\n",
       "      <td>1.348712</td>\n",
       "      <td>-0.086046</td>\n",
       "      <td>-0.462964</td>\n",
       "      <td>1.866184</td>\n",
       "      <td>0</td>\n",
       "    </tr>\n",
       "    <tr>\n",
       "      <th>4</th>\n",
       "      <td>0</td>\n",
       "      <td>1</td>\n",
       "      <td>1</td>\n",
       "      <td>0.321040</td>\n",
       "      <td>1.348712</td>\n",
       "      <td>-0.086046</td>\n",
       "      <td>0.360373</td>\n",
       "      <td>0.527559</td>\n",
       "      <td>0</td>\n",
       "    </tr>\n",
       "    <tr>\n",
       "      <th>...</th>\n",
       "      <td>...</td>\n",
       "      <td>...</td>\n",
       "      <td>...</td>\n",
       "      <td>...</td>\n",
       "      <td>...</td>\n",
       "      <td>...</td>\n",
       "      <td>...</td>\n",
       "      <td>...</td>\n",
       "      <td>...</td>\n",
       "    </tr>\n",
       "    <tr>\n",
       "      <th>17875</th>\n",
       "      <td>0</td>\n",
       "      <td>1</td>\n",
       "      <td>1</td>\n",
       "      <td>0.321040</td>\n",
       "      <td>1.348712</td>\n",
       "      <td>-0.756563</td>\n",
       "      <td>-0.462964</td>\n",
       "      <td>1.866184</td>\n",
       "      <td>0</td>\n",
       "    </tr>\n",
       "    <tr>\n",
       "      <th>17876</th>\n",
       "      <td>0</td>\n",
       "      <td>1</td>\n",
       "      <td>1</td>\n",
       "      <td>0.321040</td>\n",
       "      <td>1.348712</td>\n",
       "      <td>-0.086046</td>\n",
       "      <td>0.644282</td>\n",
       "      <td>-0.900308</td>\n",
       "      <td>0</td>\n",
       "    </tr>\n",
       "    <tr>\n",
       "      <th>17877</th>\n",
       "      <td>0</td>\n",
       "      <td>0</td>\n",
       "      <td>0</td>\n",
       "      <td>0.321040</td>\n",
       "      <td>-0.948718</td>\n",
       "      <td>-0.756563</td>\n",
       "      <td>-1.115956</td>\n",
       "      <td>-0.989549</td>\n",
       "      <td>0</td>\n",
       "    </tr>\n",
       "    <tr>\n",
       "      <th>17878</th>\n",
       "      <td>0</td>\n",
       "      <td>0</td>\n",
       "      <td>1</td>\n",
       "      <td>-0.648259</td>\n",
       "      <td>1.731617</td>\n",
       "      <td>1.590246</td>\n",
       "      <td>0.275200</td>\n",
       "      <td>-0.097133</td>\n",
       "      <td>0</td>\n",
       "    </tr>\n",
       "    <tr>\n",
       "      <th>17879</th>\n",
       "      <td>0</td>\n",
       "      <td>1</td>\n",
       "      <td>1</td>\n",
       "      <td>0.321040</td>\n",
       "      <td>1.348712</td>\n",
       "      <td>-0.756563</td>\n",
       "      <td>-0.462964</td>\n",
       "      <td>0.170592</td>\n",
       "      <td>0</td>\n",
       "    </tr>\n",
       "  </tbody>\n",
       "</table>\n",
       "<p>17880 rows × 9 columns</p>\n",
       "</div>"
      ],
      "text/plain": [
       "       telecommuting  has_company_logo  has_questions  employment_type  \\\n",
       "0                  0                 1              0         1.290338   \n",
       "1                  0                 1              0         0.321040   \n",
       "2                  0                 1              0        -1.617558   \n",
       "3                  0                 1              0         0.321040   \n",
       "4                  0                 1              1         0.321040   \n",
       "...              ...               ...            ...              ...   \n",
       "17875              0                 1              1         0.321040   \n",
       "17876              0                 1              1         0.321040   \n",
       "17877              0                 0              0         0.321040   \n",
       "17878              0                 0              1        -0.648259   \n",
       "17879              0                 1              1         0.321040   \n",
       "\n",
       "       required_experience  required_education  industry  function  fraudulent  \n",
       "0                 0.965807           -0.756563 -1.115956  1.063009           0  \n",
       "1                 1.731617           -0.756563  1.041755 -0.275616           0  \n",
       "2                -0.948718           -0.756563 -1.115956 -0.989549           0  \n",
       "3                 1.348712           -0.086046 -0.462964  1.866184           0  \n",
       "4                 1.348712           -0.086046  0.360373  0.527559           0  \n",
       "...                    ...                 ...       ...       ...         ...  \n",
       "17875             1.348712           -0.756563 -0.462964  1.866184           0  \n",
       "17876             1.348712           -0.086046  0.644282 -0.900308           0  \n",
       "17877            -0.948718           -0.756563 -1.115956 -0.989549           0  \n",
       "17878             1.731617            1.590246  0.275200 -0.097133           0  \n",
       "17879             1.348712           -0.756563 -0.462964  0.170592           0  \n",
       "\n",
       "[17880 rows x 9 columns]"
      ]
     },
     "execution_count": 56,
     "metadata": {},
     "output_type": "execute_result"
    }
   ],
   "source": [
    "df"
   ]
  },
  {
   "cell_type": "code",
   "execution_count": 47,
   "metadata": {},
   "outputs": [
    {
     "data": {
      "text/html": [
       "<div>\n",
       "<style scoped>\n",
       "    .dataframe tbody tr th:only-of-type {\n",
       "        vertical-align: middle;\n",
       "    }\n",
       "\n",
       "    .dataframe tbody tr th {\n",
       "        vertical-align: top;\n",
       "    }\n",
       "\n",
       "    .dataframe thead th {\n",
       "        text-align: right;\n",
       "    }\n",
       "</style>\n",
       "<table border=\"1\" class=\"dataframe\">\n",
       "  <thead>\n",
       "    <tr style=\"text-align: right;\">\n",
       "      <th></th>\n",
       "      <th>abil</th>\n",
       "      <th>account</th>\n",
       "      <th>also</th>\n",
       "      <th>amp</th>\n",
       "      <th>applic</th>\n",
       "      <th>base</th>\n",
       "      <th>benefit</th>\n",
       "      <th>best</th>\n",
       "      <th>build</th>\n",
       "      <th>busi</th>\n",
       "      <th>...</th>\n",
       "      <th>year</th>\n",
       "      <th>telecommuting</th>\n",
       "      <th>has_company_logo</th>\n",
       "      <th>has_questions</th>\n",
       "      <th>employment_type</th>\n",
       "      <th>required_experience</th>\n",
       "      <th>required_education</th>\n",
       "      <th>industry</th>\n",
       "      <th>function</th>\n",
       "      <th>fraudulent</th>\n",
       "    </tr>\n",
       "  </thead>\n",
       "  <tbody>\n",
       "    <tr>\n",
       "      <th>0</th>\n",
       "      <td>0.000000</td>\n",
       "      <td>0.000000</td>\n",
       "      <td>0.116434</td>\n",
       "      <td>0.102818</td>\n",
       "      <td>0.000000</td>\n",
       "      <td>0.000000</td>\n",
       "      <td>0.000000</td>\n",
       "      <td>0.119893</td>\n",
       "      <td>0.000000</td>\n",
       "      <td>0.091077</td>\n",
       "      <td>...</td>\n",
       "      <td>0.000000</td>\n",
       "      <td>0</td>\n",
       "      <td>1</td>\n",
       "      <td>0</td>\n",
       "      <td>3</td>\n",
       "      <td>5</td>\n",
       "      <td>0</td>\n",
       "      <td>0</td>\n",
       "      <td>23</td>\n",
       "      <td>0</td>\n",
       "    </tr>\n",
       "    <tr>\n",
       "      <th>1</th>\n",
       "      <td>0.000000</td>\n",
       "      <td>0.041469</td>\n",
       "      <td>0.033522</td>\n",
       "      <td>0.059203</td>\n",
       "      <td>0.000000</td>\n",
       "      <td>0.061404</td>\n",
       "      <td>0.000000</td>\n",
       "      <td>0.000000</td>\n",
       "      <td>0.000000</td>\n",
       "      <td>0.104886</td>\n",
       "      <td>...</td>\n",
       "      <td>0.000000</td>\n",
       "      <td>0</td>\n",
       "      <td>1</td>\n",
       "      <td>0</td>\n",
       "      <td>2</td>\n",
       "      <td>7</td>\n",
       "      <td>0</td>\n",
       "      <td>76</td>\n",
       "      <td>8</td>\n",
       "      <td>0</td>\n",
       "    </tr>\n",
       "    <tr>\n",
       "      <th>2</th>\n",
       "      <td>0.000000</td>\n",
       "      <td>0.000000</td>\n",
       "      <td>0.000000</td>\n",
       "      <td>0.092825</td>\n",
       "      <td>0.000000</td>\n",
       "      <td>0.000000</td>\n",
       "      <td>0.000000</td>\n",
       "      <td>0.000000</td>\n",
       "      <td>0.000000</td>\n",
       "      <td>0.000000</td>\n",
       "      <td>...</td>\n",
       "      <td>0.000000</td>\n",
       "      <td>0</td>\n",
       "      <td>1</td>\n",
       "      <td>0</td>\n",
       "      <td>0</td>\n",
       "      <td>0</td>\n",
       "      <td>0</td>\n",
       "      <td>0</td>\n",
       "      <td>0</td>\n",
       "      <td>0</td>\n",
       "    </tr>\n",
       "    <tr>\n",
       "      <th>3</th>\n",
       "      <td>0.039152</td>\n",
       "      <td>0.566401</td>\n",
       "      <td>0.000000</td>\n",
       "      <td>0.000000</td>\n",
       "      <td>0.000000</td>\n",
       "      <td>0.000000</td>\n",
       "      <td>0.089800</td>\n",
       "      <td>0.000000</td>\n",
       "      <td>0.118249</td>\n",
       "      <td>0.293025</td>\n",
       "      <td>...</td>\n",
       "      <td>0.058842</td>\n",
       "      <td>0</td>\n",
       "      <td>1</td>\n",
       "      <td>0</td>\n",
       "      <td>2</td>\n",
       "      <td>6</td>\n",
       "      <td>2</td>\n",
       "      <td>23</td>\n",
       "      <td>32</td>\n",
       "      <td>0</td>\n",
       "    </tr>\n",
       "    <tr>\n",
       "      <th>4</th>\n",
       "      <td>0.000000</td>\n",
       "      <td>0.109922</td>\n",
       "      <td>0.000000</td>\n",
       "      <td>0.000000</td>\n",
       "      <td>0.086042</td>\n",
       "      <td>0.000000</td>\n",
       "      <td>0.095852</td>\n",
       "      <td>0.182991</td>\n",
       "      <td>0.000000</td>\n",
       "      <td>0.069505</td>\n",
       "      <td>...</td>\n",
       "      <td>0.062808</td>\n",
       "      <td>0</td>\n",
       "      <td>1</td>\n",
       "      <td>1</td>\n",
       "      <td>2</td>\n",
       "      <td>6</td>\n",
       "      <td>2</td>\n",
       "      <td>52</td>\n",
       "      <td>17</td>\n",
       "      <td>0</td>\n",
       "    </tr>\n",
       "  </tbody>\n",
       "</table>\n",
       "<p>5 rows × 109 columns</p>\n",
       "</div>"
      ],
      "text/plain": [
       "       abil   account      also       amp    applic      base   benefit  \\\n",
       "0  0.000000  0.000000  0.116434  0.102818  0.000000  0.000000  0.000000   \n",
       "1  0.000000  0.041469  0.033522  0.059203  0.000000  0.061404  0.000000   \n",
       "2  0.000000  0.000000  0.000000  0.092825  0.000000  0.000000  0.000000   \n",
       "3  0.039152  0.566401  0.000000  0.000000  0.000000  0.000000  0.089800   \n",
       "4  0.000000  0.109922  0.000000  0.000000  0.086042  0.000000  0.095852   \n",
       "\n",
       "       best     build      busi  ...      year  telecommuting  \\\n",
       "0  0.119893  0.000000  0.091077  ...  0.000000              0   \n",
       "1  0.000000  0.000000  0.104886  ...  0.000000              0   \n",
       "2  0.000000  0.000000  0.000000  ...  0.000000              0   \n",
       "3  0.000000  0.118249  0.293025  ...  0.058842              0   \n",
       "4  0.182991  0.000000  0.069505  ...  0.062808              0   \n",
       "\n",
       "   has_company_logo  has_questions  employment_type  required_experience  \\\n",
       "0                 1              0                3                    5   \n",
       "1                 1              0                2                    7   \n",
       "2                 1              0                0                    0   \n",
       "3                 1              0                2                    6   \n",
       "4                 1              1                2                    6   \n",
       "\n",
       "   required_education  industry  function  fraudulent  \n",
       "0                   0         0        23           0  \n",
       "1                   0        76         8           0  \n",
       "2                   0         0         0           0  \n",
       "3                   2        23        32           0  \n",
       "4                   2        52        17           0  \n",
       "\n",
       "[5 rows x 109 columns]"
      ]
     },
     "execution_count": 47,
     "metadata": {},
     "output_type": "execute_result"
    }
   ],
   "source": [
    "main_df.head()"
   ]
  },
  {
   "cell_type": "code",
   "execution_count": 57,
   "metadata": {},
   "outputs": [],
   "source": [
    "Y = main_df.iloc[:,-1]\n",
    "X = main_df.iloc[:,:-1]"
   ]
  },
  {
   "cell_type": "code",
   "execution_count": 58,
   "metadata": {},
   "outputs": [
    {
     "data": {
      "text/html": [
       "<div>\n",
       "<style scoped>\n",
       "    .dataframe tbody tr th:only-of-type {\n",
       "        vertical-align: middle;\n",
       "    }\n",
       "\n",
       "    .dataframe tbody tr th {\n",
       "        vertical-align: top;\n",
       "    }\n",
       "\n",
       "    .dataframe thead th {\n",
       "        text-align: right;\n",
       "    }\n",
       "</style>\n",
       "<table border=\"1\" class=\"dataframe\">\n",
       "  <thead>\n",
       "    <tr style=\"text-align: right;\">\n",
       "      <th></th>\n",
       "      <th>abil</th>\n",
       "      <th>account</th>\n",
       "      <th>also</th>\n",
       "      <th>amp</th>\n",
       "      <th>applic</th>\n",
       "      <th>base</th>\n",
       "      <th>benefit</th>\n",
       "      <th>best</th>\n",
       "      <th>build</th>\n",
       "      <th>busi</th>\n",
       "      <th>...</th>\n",
       "      <th>year</th>\n",
       "      <th>telecommuting</th>\n",
       "      <th>has_company_logo</th>\n",
       "      <th>has_questions</th>\n",
       "      <th>employment_type</th>\n",
       "      <th>required_experience</th>\n",
       "      <th>required_education</th>\n",
       "      <th>industry</th>\n",
       "      <th>function</th>\n",
       "      <th>fraudulent</th>\n",
       "    </tr>\n",
       "  </thead>\n",
       "  <tbody>\n",
       "    <tr>\n",
       "      <th>0</th>\n",
       "      <td>0.000000</td>\n",
       "      <td>0.000000</td>\n",
       "      <td>0.116434</td>\n",
       "      <td>0.102818</td>\n",
       "      <td>0.000000</td>\n",
       "      <td>0.000000</td>\n",
       "      <td>0.000000</td>\n",
       "      <td>0.119893</td>\n",
       "      <td>0.000000</td>\n",
       "      <td>0.091077</td>\n",
       "      <td>...</td>\n",
       "      <td>0.000000</td>\n",
       "      <td>0</td>\n",
       "      <td>1</td>\n",
       "      <td>0</td>\n",
       "      <td>3</td>\n",
       "      <td>5</td>\n",
       "      <td>0</td>\n",
       "      <td>0</td>\n",
       "      <td>23</td>\n",
       "      <td>0</td>\n",
       "    </tr>\n",
       "    <tr>\n",
       "      <th>1</th>\n",
       "      <td>0.000000</td>\n",
       "      <td>0.041469</td>\n",
       "      <td>0.033522</td>\n",
       "      <td>0.059203</td>\n",
       "      <td>0.000000</td>\n",
       "      <td>0.061404</td>\n",
       "      <td>0.000000</td>\n",
       "      <td>0.000000</td>\n",
       "      <td>0.000000</td>\n",
       "      <td>0.104886</td>\n",
       "      <td>...</td>\n",
       "      <td>0.000000</td>\n",
       "      <td>0</td>\n",
       "      <td>1</td>\n",
       "      <td>0</td>\n",
       "      <td>2</td>\n",
       "      <td>7</td>\n",
       "      <td>0</td>\n",
       "      <td>76</td>\n",
       "      <td>8</td>\n",
       "      <td>0</td>\n",
       "    </tr>\n",
       "    <tr>\n",
       "      <th>2</th>\n",
       "      <td>0.000000</td>\n",
       "      <td>0.000000</td>\n",
       "      <td>0.000000</td>\n",
       "      <td>0.092825</td>\n",
       "      <td>0.000000</td>\n",
       "      <td>0.000000</td>\n",
       "      <td>0.000000</td>\n",
       "      <td>0.000000</td>\n",
       "      <td>0.000000</td>\n",
       "      <td>0.000000</td>\n",
       "      <td>...</td>\n",
       "      <td>0.000000</td>\n",
       "      <td>0</td>\n",
       "      <td>1</td>\n",
       "      <td>0</td>\n",
       "      <td>0</td>\n",
       "      <td>0</td>\n",
       "      <td>0</td>\n",
       "      <td>0</td>\n",
       "      <td>0</td>\n",
       "      <td>0</td>\n",
       "    </tr>\n",
       "    <tr>\n",
       "      <th>3</th>\n",
       "      <td>0.039152</td>\n",
       "      <td>0.566401</td>\n",
       "      <td>0.000000</td>\n",
       "      <td>0.000000</td>\n",
       "      <td>0.000000</td>\n",
       "      <td>0.000000</td>\n",
       "      <td>0.089800</td>\n",
       "      <td>0.000000</td>\n",
       "      <td>0.118249</td>\n",
       "      <td>0.293025</td>\n",
       "      <td>...</td>\n",
       "      <td>0.058842</td>\n",
       "      <td>0</td>\n",
       "      <td>1</td>\n",
       "      <td>0</td>\n",
       "      <td>2</td>\n",
       "      <td>6</td>\n",
       "      <td>2</td>\n",
       "      <td>23</td>\n",
       "      <td>32</td>\n",
       "      <td>0</td>\n",
       "    </tr>\n",
       "    <tr>\n",
       "      <th>4</th>\n",
       "      <td>0.000000</td>\n",
       "      <td>0.109922</td>\n",
       "      <td>0.000000</td>\n",
       "      <td>0.000000</td>\n",
       "      <td>0.086042</td>\n",
       "      <td>0.000000</td>\n",
       "      <td>0.095852</td>\n",
       "      <td>0.182991</td>\n",
       "      <td>0.000000</td>\n",
       "      <td>0.069505</td>\n",
       "      <td>...</td>\n",
       "      <td>0.062808</td>\n",
       "      <td>0</td>\n",
       "      <td>1</td>\n",
       "      <td>1</td>\n",
       "      <td>2</td>\n",
       "      <td>6</td>\n",
       "      <td>2</td>\n",
       "      <td>52</td>\n",
       "      <td>17</td>\n",
       "      <td>0</td>\n",
       "    </tr>\n",
       "    <tr>\n",
       "      <th>...</th>\n",
       "      <td>...</td>\n",
       "      <td>...</td>\n",
       "      <td>...</td>\n",
       "      <td>...</td>\n",
       "      <td>...</td>\n",
       "      <td>...</td>\n",
       "      <td>...</td>\n",
       "      <td>...</td>\n",
       "      <td>...</td>\n",
       "      <td>...</td>\n",
       "      <td>...</td>\n",
       "      <td>...</td>\n",
       "      <td>...</td>\n",
       "      <td>...</td>\n",
       "      <td>...</td>\n",
       "      <td>...</td>\n",
       "      <td>...</td>\n",
       "      <td>...</td>\n",
       "      <td>...</td>\n",
       "      <td>...</td>\n",
       "      <td>...</td>\n",
       "    </tr>\n",
       "    <tr>\n",
       "      <th>17875</th>\n",
       "      <td>0.038962</td>\n",
       "      <td>0.153725</td>\n",
       "      <td>0.082843</td>\n",
       "      <td>0.146310</td>\n",
       "      <td>0.000000</td>\n",
       "      <td>0.037937</td>\n",
       "      <td>0.000000</td>\n",
       "      <td>0.085304</td>\n",
       "      <td>0.117677</td>\n",
       "      <td>0.097202</td>\n",
       "      <td>...</td>\n",
       "      <td>0.000000</td>\n",
       "      <td>0</td>\n",
       "      <td>1</td>\n",
       "      <td>1</td>\n",
       "      <td>2</td>\n",
       "      <td>6</td>\n",
       "      <td>0</td>\n",
       "      <td>23</td>\n",
       "      <td>32</td>\n",
       "      <td>0</td>\n",
       "    </tr>\n",
       "    <tr>\n",
       "      <th>17876</th>\n",
       "      <td>0.090792</td>\n",
       "      <td>0.776149</td>\n",
       "      <td>0.048262</td>\n",
       "      <td>0.127853</td>\n",
       "      <td>0.046733</td>\n",
       "      <td>0.088404</td>\n",
       "      <td>0.052061</td>\n",
       "      <td>0.000000</td>\n",
       "      <td>0.000000</td>\n",
       "      <td>0.000000</td>\n",
       "      <td>...</td>\n",
       "      <td>0.068227</td>\n",
       "      <td>0</td>\n",
       "      <td>1</td>\n",
       "      <td>1</td>\n",
       "      <td>2</td>\n",
       "      <td>6</td>\n",
       "      <td>2</td>\n",
       "      <td>62</td>\n",
       "      <td>1</td>\n",
       "      <td>0</td>\n",
       "    </tr>\n",
       "    <tr>\n",
       "      <th>17877</th>\n",
       "      <td>0.000000</td>\n",
       "      <td>0.174196</td>\n",
       "      <td>0.000000</td>\n",
       "      <td>0.000000</td>\n",
       "      <td>0.000000</td>\n",
       "      <td>0.000000</td>\n",
       "      <td>0.000000</td>\n",
       "      <td>0.000000</td>\n",
       "      <td>0.000000</td>\n",
       "      <td>0.055073</td>\n",
       "      <td>...</td>\n",
       "      <td>0.099533</td>\n",
       "      <td>0</td>\n",
       "      <td>0</td>\n",
       "      <td>0</td>\n",
       "      <td>2</td>\n",
       "      <td>0</td>\n",
       "      <td>0</td>\n",
       "      <td>0</td>\n",
       "      <td>0</td>\n",
       "      <td>0</td>\n",
       "    </tr>\n",
       "    <tr>\n",
       "      <th>17878</th>\n",
       "      <td>0.000000</td>\n",
       "      <td>0.000000</td>\n",
       "      <td>0.000000</td>\n",
       "      <td>0.205171</td>\n",
       "      <td>0.000000</td>\n",
       "      <td>0.106399</td>\n",
       "      <td>0.000000</td>\n",
       "      <td>0.000000</td>\n",
       "      <td>0.000000</td>\n",
       "      <td>0.000000</td>\n",
       "      <td>...</td>\n",
       "      <td>0.000000</td>\n",
       "      <td>0</td>\n",
       "      <td>0</td>\n",
       "      <td>1</td>\n",
       "      <td>1</td>\n",
       "      <td>7</td>\n",
       "      <td>7</td>\n",
       "      <td>49</td>\n",
       "      <td>10</td>\n",
       "      <td>0</td>\n",
       "    </tr>\n",
       "    <tr>\n",
       "      <th>17879</th>\n",
       "      <td>0.000000</td>\n",
       "      <td>0.000000</td>\n",
       "      <td>0.093702</td>\n",
       "      <td>0.000000</td>\n",
       "      <td>0.136103</td>\n",
       "      <td>0.085821</td>\n",
       "      <td>0.000000</td>\n",
       "      <td>0.096486</td>\n",
       "      <td>0.000000</td>\n",
       "      <td>0.036648</td>\n",
       "      <td>...</td>\n",
       "      <td>0.066234</td>\n",
       "      <td>0</td>\n",
       "      <td>1</td>\n",
       "      <td>1</td>\n",
       "      <td>2</td>\n",
       "      <td>6</td>\n",
       "      <td>0</td>\n",
       "      <td>23</td>\n",
       "      <td>13</td>\n",
       "      <td>0</td>\n",
       "    </tr>\n",
       "  </tbody>\n",
       "</table>\n",
       "<p>17880 rows × 109 columns</p>\n",
       "</div>"
      ],
      "text/plain": [
       "           abil   account      also       amp    applic      base   benefit  \\\n",
       "0      0.000000  0.000000  0.116434  0.102818  0.000000  0.000000  0.000000   \n",
       "1      0.000000  0.041469  0.033522  0.059203  0.000000  0.061404  0.000000   \n",
       "2      0.000000  0.000000  0.000000  0.092825  0.000000  0.000000  0.000000   \n",
       "3      0.039152  0.566401  0.000000  0.000000  0.000000  0.000000  0.089800   \n",
       "4      0.000000  0.109922  0.000000  0.000000  0.086042  0.000000  0.095852   \n",
       "...         ...       ...       ...       ...       ...       ...       ...   \n",
       "17875  0.038962  0.153725  0.082843  0.146310  0.000000  0.037937  0.000000   \n",
       "17876  0.090792  0.776149  0.048262  0.127853  0.046733  0.088404  0.052061   \n",
       "17877  0.000000  0.174196  0.000000  0.000000  0.000000  0.000000  0.000000   \n",
       "17878  0.000000  0.000000  0.000000  0.205171  0.000000  0.106399  0.000000   \n",
       "17879  0.000000  0.000000  0.093702  0.000000  0.136103  0.085821  0.000000   \n",
       "\n",
       "           best     build      busi  ...      year  telecommuting  \\\n",
       "0      0.119893  0.000000  0.091077  ...  0.000000              0   \n",
       "1      0.000000  0.000000  0.104886  ...  0.000000              0   \n",
       "2      0.000000  0.000000  0.000000  ...  0.000000              0   \n",
       "3      0.000000  0.118249  0.293025  ...  0.058842              0   \n",
       "4      0.182991  0.000000  0.069505  ...  0.062808              0   \n",
       "...         ...       ...       ...  ...       ...            ...   \n",
       "17875  0.085304  0.117677  0.097202  ...  0.000000              0   \n",
       "17876  0.000000  0.000000  0.000000  ...  0.068227              0   \n",
       "17877  0.000000  0.000000  0.055073  ...  0.099533              0   \n",
       "17878  0.000000  0.000000  0.000000  ...  0.000000              0   \n",
       "17879  0.096486  0.000000  0.036648  ...  0.066234              0   \n",
       "\n",
       "       has_company_logo  has_questions  employment_type  required_experience  \\\n",
       "0                     1              0                3                    5   \n",
       "1                     1              0                2                    7   \n",
       "2                     1              0                0                    0   \n",
       "3                     1              0                2                    6   \n",
       "4                     1              1                2                    6   \n",
       "...                 ...            ...              ...                  ...   \n",
       "17875                 1              1                2                    6   \n",
       "17876                 1              1                2                    6   \n",
       "17877                 0              0                2                    0   \n",
       "17878                 0              1                1                    7   \n",
       "17879                 1              1                2                    6   \n",
       "\n",
       "       required_education  industry  function  fraudulent  \n",
       "0                       0         0        23           0  \n",
       "1                       0        76         8           0  \n",
       "2                       0         0         0           0  \n",
       "3                       2        23        32           0  \n",
       "4                       2        52        17           0  \n",
       "...                   ...       ...       ...         ...  \n",
       "17875                   0        23        32           0  \n",
       "17876                   2        62         1           0  \n",
       "17877                   0         0         0           0  \n",
       "17878                   7        49        10           0  \n",
       "17879                   0        23        13           0  \n",
       "\n",
       "[17880 rows x 109 columns]"
      ]
     },
     "execution_count": 58,
     "metadata": {},
     "output_type": "execute_result"
    }
   ],
   "source": [
    "main_df"
   ]
  },
  {
   "cell_type": "code",
   "execution_count": 59,
   "metadata": {},
   "outputs": [],
   "source": [
    "X_train, X_test, y_train, y_test = train_test_split(X, Y, test_size=0.25, random_state=42)\n"
   ]
  },
  {
   "cell_type": "code",
   "execution_count": 60,
   "metadata": {},
   "outputs": [
    {
     "data": {
      "text/plain": [
       "0    12767\n",
       "1      643\n",
       "Name: fraudulent, dtype: int64"
      ]
     },
     "execution_count": 60,
     "metadata": {},
     "output_type": "execute_result"
    }
   ],
   "source": [
    "y_train.value_counts()"
   ]
  },
  {
   "cell_type": "markdown",
   "metadata": {},
   "source": [
    "# Balancing the Dataset\n"
   ]
  },
  {
   "cell_type": "markdown",
   "metadata": {},
   "source": [
    "SMOTE: class imbalance\n",
    "SMOTE sampling on the training data such that even number of observations with each class\n",
    "This funciton also does 80/20 train/test split\n",
    "\n",
    "SMOTE: synethic minority over-sampling technique\n",
    "Synthesize new examples for the minority class rateher than oversample, which doesn't add any new information.\n",
    "\n",
    "\"… SMOTE first selects a minority class instance a at random and finds its k nearest minority class neighbors. The synthetic instance is then created by choosing one of the k nearest neighbors b at random and connecting a and b to form a line segment in the feature space. The synthetic instances are generated as a convex combination of the two chosen instances a and b\""
   ]
  },
  {
   "cell_type": "code",
   "execution_count": 61,
   "metadata": {},
   "outputs": [],
   "source": [
    "from imblearn.over_sampling import SMOTE\n",
    "smk  = SMOTE()\n",
    "X_res,Y_res= smk.fit_resample(X_train,y_train)"
   ]
  },
  {
   "cell_type": "code",
   "execution_count": 62,
   "metadata": {},
   "outputs": [
    {
     "data": {
      "text/plain": [
       "((25534, 108), (25534,))"
      ]
     },
     "execution_count": 62,
     "metadata": {},
     "output_type": "execute_result"
    }
   ],
   "source": [
    "X_res.shape,Y_res.shape"
   ]
  },
  {
   "cell_type": "code",
   "execution_count": 63,
   "metadata": {},
   "outputs": [
    {
     "data": {
      "text/plain": [
       "0    12767\n",
       "1    12767\n",
       "Name: fraudulent, dtype: int64"
      ]
     },
     "execution_count": 63,
     "metadata": {},
     "output_type": "execute_result"
    }
   ],
   "source": [
    "Y_res.value_counts()"
   ]
  },
  {
   "cell_type": "code",
   "execution_count": 64,
   "metadata": {},
   "outputs": [
    {
     "data": {
      "text/plain": [
       "<AxesSubplot:ylabel='fraudulent'>"
      ]
     },
     "execution_count": 64,
     "metadata": {},
     "output_type": "execute_result"
    },
    {
     "data": {
      "image/png": "[encoded data removed]",
      "text/plain": [
       "<Figure size 432x288 with 1 Axes>"
      ]
     },
     "metadata": {},
     "output_type": "display_data"
    }
   ],
   "source": [
    "Y_res.value_counts().plot(kind=\"pie\")"
   ]
  },
  {
   "cell_type": "code",
   "execution_count": null,
   "metadata": {},
   "outputs": [],
   "source": []
  },
  {
   "cell_type": "markdown",
   "metadata": {},
   "source": [
    "# Applying Smote on the vectors of Word2Vec vectors"
   ]
  },
  {
   "cell_type": "code",
   "execution_count": 53,
   "metadata": {},
   "outputs": [],
   "source": [
    "from imblearn.over_sampling import SMOTE\n",
    "smk  = SMOTE()\n",
    "X_bal,Y_bal= smk.fit_resample(train_sent_vectors,y_train)"
   ]
  },
  {
   "cell_type": "code",
   "execution_count": 55,
   "metadata": {},
   "outputs": [
    {
     "data": {
      "text/plain": [
       "0    12767\n",
       "1    12767\n",
       "Name: fraudulent, dtype: int64"
      ]
     },
     "execution_count": 55,
     "metadata": {},
     "output_type": "execute_result"
    }
   ],
   "source": [
    "Y_bal.value_counts()"
   ]
  },
  {
   "cell_type": "markdown",
   "metadata": {},
   "source": [
    "Data is Balanced"
   ]
  },
  {
   "cell_type": "markdown",
   "metadata": {},
   "source": [
    "# Ensemble Tree Models"
   ]
  },
  {
   "cell_type": "markdown",
   "metadata": {},
   "source": [
    "# Random Forest With Avg Word2Vec"
   ]
  },
  {
   "cell_type": "code",
   "execution_count": 56,
   "metadata": {},
   "outputs": [],
   "source": [
    "Rand = RandomForestClassifier(n_jobs=3,oob_score=True,n_estimators=100,criterion=\"entropy\")\n",
    "model=Rand.fit(X_bal,Y_bal)"
   ]
  },
  {
   "cell_type": "code",
   "execution_count": 60,
   "metadata": {},
   "outputs": [],
   "source": [
    "rfc_predict = model.predict(test_sent_vectors)"
   ]
  },
  {
   "cell_type": "code",
   "execution_count": 62,
   "metadata": {},
   "outputs": [
    {
     "data": {
      "text/plain": [
       "0.9501118568232663"
      ]
     },
     "execution_count": 62,
     "metadata": {},
     "output_type": "execute_result"
    }
   ],
   "source": [
    "from sklearn.metrics import accuracy_score\n",
    "accuracy_score(y_test,rfc_predict)"
   ]
  },
  {
   "cell_type": "code",
   "execution_count": 63,
   "metadata": {},
   "outputs": [
    {
     "name": "stdout",
     "output_type": "stream",
     "text": [
      "              precision    recall  f1-score   support\n",
      "\n",
      "           0       0.95      1.00      0.97      4247\n",
      "           1       0.00      0.00      0.00       223\n",
      "\n",
      "    accuracy                           0.95      4470\n",
      "   macro avg       0.48      0.50      0.49      4470\n",
      "weighted avg       0.90      0.95      0.93      4470\n",
      "\n"
     ]
    }
   ],
   "source": [
    "print(classification_report(y_test, rfc_predict))"
   ]
  },
  {
   "cell_type": "markdown",
   "metadata": {},
   "source": [
    "# Random Forest with TF-IDF"
   ]
  },
  {
   "cell_type": "code",
   "execution_count": 72,
   "metadata": {},
   "outputs": [],
   "source": [
    "from sklearn.metrics import accuracy_score,classification_report,confusion_matrix\n",
    "rfc = RandomForestClassifier(n_jobs=3,oob_score=True,n_estimators=100,criterion=\"entropy\")\n",
    "model=rfc.fit(X_res,Y_res)"
   ]
  },
  {
   "cell_type": "code",
   "execution_count": 74,
   "metadata": {},
   "outputs": [],
   "source": [
    "rfc_predict = rfc.predict(X_test)"
   ]
  },
  {
   "cell_type": "code",
   "execution_count": 75,
   "metadata": {},
   "outputs": [
    {
     "data": {
      "text/plain": [
       "0.9758389261744966"
      ]
     },
     "execution_count": 75,
     "metadata": {},
     "output_type": "execute_result"
    }
   ],
   "source": [
    "accuracy_score(y_test,rfc_predict)"
   ]
  },
  {
   "cell_type": "code",
   "execution_count": 76,
   "metadata": {},
   "outputs": [
    {
     "name": "stdout",
     "output_type": "stream",
     "text": [
      "              precision    recall  f1-score   support\n",
      "\n",
      "           0       0.98      1.00      0.99      4247\n",
      "           1       0.87      0.61      0.72       223\n",
      "\n",
      "    accuracy                           0.98      4470\n",
      "   macro avg       0.92      0.80      0.85      4470\n",
      "weighted avg       0.97      0.98      0.97      4470\n",
      "\n"
     ]
    }
   ],
   "source": [
    "print(classification_report(y_test, rfc_predict))"
   ]
  },
  {
   "cell_type": "code",
   "execution_count": 77,
   "metadata": {},
   "outputs": [
    {
     "data": {
      "text/plain": [
       "array([[4226,   21],\n",
       "       [  87,  136]], dtype=int64)"
      ]
     },
     "execution_count": 77,
     "metadata": {},
     "output_type": "execute_result"
    }
   ],
   "source": [
    "confusion_matrix(y_test, rfc_predict)"
   ]
  },
  {
   "cell_type": "markdown",
   "metadata": {},
   "source": [
    "Comparison : Clearly we can see that Random Forest gives higher accuracy for TF-IDF Vectorization form. "
   ]
  },
  {
   "cell_type": "markdown",
   "metadata": {},
   "source": [
    "# Xg_Boost with TF-IDF"
   ]
  },
  {
   "cell_type": "code",
   "execution_count": 187,
   "metadata": {},
   "outputs": [
    {
     "data": {
      "text/plain": [
       "XGBClassifier(base_score=0.5, booster='gbtree', colsample_bylevel=1,\n",
       "              colsample_bynode=1, colsample_bytree=1, gamma=0, gpu_id=-1,\n",
       "              importance_type='gain', interaction_constraints='',\n",
       "              learning_rate=0.300000012, max_delta_step=0, max_depth=6,\n",
       "              min_child_weight=1, missing=nan, monotone_constraints='()',\n",
       "              n_estimators=100, n_jobs=0, num_parallel_tree=1, random_state=0,\n",
       "              reg_alpha=0, reg_lambda=1, scale_pos_weight=1, subsample=1,\n",
       "              tree_method='exact', validate_parameters=1, verbosity=None)"
      ]
     },
     "execution_count": 187,
     "metadata": {},
     "output_type": "execute_result"
    }
   ],
   "source": [
    "import xgboost as xgb\n",
    "from xgboost import XGBClassifier\n",
    "from sklearn.metrics import accuracy_score\n",
    "clf = XGBClassifier()\n",
    "\n",
    "clf.fit(X_res, Y_res)"
   ]
  },
  {
   "cell_type": "code",
   "execution_count": 188,
   "metadata": {},
   "outputs": [],
   "source": [
    "y_Pred_xgbi= clf.predict(X_test)"
   ]
  },
  {
   "cell_type": "code",
   "execution_count": 189,
   "metadata": {},
   "outputs": [
    {
     "data": {
      "text/plain": [
       "0.976062639821029"
      ]
     },
     "execution_count": 189,
     "metadata": {},
     "output_type": "execute_result"
    }
   ],
   "source": [
    "accuracy_score(y_test, y_Pred_xgbi)"
   ]
  },
  {
   "cell_type": "code",
   "execution_count": 190,
   "metadata": {},
   "outputs": [
    {
     "name": "stdout",
     "output_type": "stream",
     "text": [
      "              precision    recall  f1-score   support\n",
      "\n",
      "           0       0.98      0.99      0.99      4247\n",
      "           1       0.80      0.70      0.74       223\n",
      "\n",
      "    accuracy                           0.98      4470\n",
      "   macro avg       0.89      0.85      0.87      4470\n",
      "weighted avg       0.97      0.98      0.98      4470\n",
      "\n"
     ]
    }
   ],
   "source": [
    "print(classification_report(y_test,y_Pred_xgbi ))"
   ]
  },
  {
   "cell_type": "code",
   "execution_count": 191,
   "metadata": {},
   "outputs": [
    {
     "name": "stdout",
     "output_type": "stream",
     "text": [
      "confusion matrix of Decision tress:\n",
      " [[4207   40]\n",
      " [  67  156]] \n",
      "\n"
     ]
    }
   ],
   "source": [
    "cm = confusion_matrix(y_test,y_Pred_xgb)\n",
    "print(\"confusion matrix of Decision tress:\\n\", cm, \"\\n\")\n"
   ]
  },
  {
   "cell_type": "markdown",
   "metadata": {},
   "source": [
    "# Xg-Boost with Avg Word2Vec"
   ]
  },
  {
   "cell_type": "code",
   "execution_count": 192,
   "metadata": {},
   "outputs": [
    {
     "data": {
      "text/plain": [
       "XGBClassifier(base_score=0.5, booster='gbtree', colsample_bylevel=1,\n",
       "              colsample_bynode=1, colsample_bytree=1, gamma=0, gpu_id=-1,\n",
       "              importance_type='gain', interaction_constraints='',\n",
       "              learning_rate=0.300000012, max_delta_step=0, max_depth=6,\n",
       "              min_child_weight=1, missing=nan, monotone_constraints='()',\n",
       "              n_estimators=100, n_jobs=0, num_parallel_tree=1, random_state=0,\n",
       "              reg_alpha=0, reg_lambda=1, scale_pos_weight=1, subsample=1,\n",
       "              tree_method='exact', validate_parameters=1, verbosity=None)"
      ]
     },
     "execution_count": 192,
     "metadata": {},
     "output_type": "execute_result"
    }
   ],
   "source": [
    "import xgboost as xgb\n",
    "from xgboost import XGBClassifier\n",
    "from sklearn.metrics import accuracy_score\n",
    "clf = XGBClassifier(objective='binary:logistic')\n",
    "\n",
    "clf.fit(X_bal, Y_bal)"
   ]
  },
  {
   "cell_type": "code",
   "execution_count": 193,
   "metadata": {},
   "outputs": [],
   "source": [
    "y_Pred_xgb= clf.predict(test_sent_vectors)"
   ]
  },
  {
   "cell_type": "code",
   "execution_count": 196,
   "metadata": {},
   "outputs": [
    {
     "data": {
      "text/plain": [
       "0.976062639821029"
      ]
     },
     "execution_count": 196,
     "metadata": {},
     "output_type": "execute_result"
    }
   ],
   "source": [
    "accuracy_score(y_test, y_Pred_xgb)"
   ]
  },
  {
   "cell_type": "code",
   "execution_count": 194,
   "metadata": {},
   "outputs": [
    {
     "name": "stdout",
     "output_type": "stream",
     "text": [
      "              precision    recall  f1-score   support\n",
      "\n",
      "           0       0.98      0.99      0.99      4247\n",
      "           1       0.80      0.70      0.74       223\n",
      "\n",
      "    accuracy                           0.98      4470\n",
      "   macro avg       0.89      0.85      0.87      4470\n",
      "weighted avg       0.97      0.98      0.98      4470\n",
      "\n"
     ]
    }
   ],
   "source": [
    "print(classification_report(y_test,y_Pred_xgb ))"
   ]
  },
  {
   "cell_type": "code",
   "execution_count": 195,
   "metadata": {},
   "outputs": [
    {
     "name": "stdout",
     "output_type": "stream",
     "text": [
      "confusion matrix of Decision tress:\n",
      " [[4207   40]\n",
      " [  67  156]] \n",
      "\n"
     ]
    }
   ],
   "source": [
    "\n",
    "cm = confusion_matrix(y_test,y_Pred_xgb)\n",
    "print(\"confusion matrix of Decision tress:\\n\", cm, \"\\n\")\n"
   ]
  },
  {
   "cell_type": "markdown",
   "metadata": {},
   "source": [
    "Comparison : Clearly we can see that Xg-Boost approximately same accuracy accuracy for Both TF-IDF and Avg Word2Vec form."
   ]
  },
  {
   "cell_type": "markdown",
   "metadata": {},
   "source": [
    "# Decision Tree with Avg Word2Vec"
   ]
  },
  {
   "cell_type": "code",
   "execution_count": 67,
   "metadata": {},
   "outputs": [
    {
     "data": {
      "text/plain": [
       "DecisionTreeClassifier()"
      ]
     },
     "execution_count": 67,
     "metadata": {},
     "output_type": "execute_result"
    }
   ],
   "source": [
    "from sklearn.tree import DecisionTreeClassifier\n",
    "dsci= DecisionTreeClassifier()\n",
    "dsci.fit(X_bal,Y_bal)"
   ]
  },
  {
   "cell_type": "code",
   "execution_count": 68,
   "metadata": {},
   "outputs": [],
   "source": [
    "y_Pred_dsci= dsci.predict(test_sent_vectors)"
   ]
  },
  {
   "cell_type": "code",
   "execution_count": 69,
   "metadata": {},
   "outputs": [
    {
     "data": {
      "text/plain": [
       "0.7053691275167785"
      ]
     },
     "execution_count": 69,
     "metadata": {},
     "output_type": "execute_result"
    }
   ],
   "source": [
    "accuracy_score(y_test, y_Pred_dsci)"
   ]
  },
  {
   "cell_type": "code",
   "execution_count": 70,
   "metadata": {},
   "outputs": [
    {
     "name": "stdout",
     "output_type": "stream",
     "text": [
      "              precision    recall  f1-score   support\n",
      "\n",
      "           0       0.96      0.72      0.82      4247\n",
      "           1       0.07      0.40      0.12       223\n",
      "\n",
      "    accuracy                           0.71      4470\n",
      "   macro avg       0.51      0.56      0.47      4470\n",
      "weighted avg       0.91      0.71      0.79      4470\n",
      "\n"
     ]
    }
   ],
   "source": [
    "print(classification_report(y_test,y_Pred_dsci ))"
   ]
  },
  {
   "cell_type": "code",
   "execution_count": 71,
   "metadata": {},
   "outputs": [
    {
     "name": "stdout",
     "output_type": "stream",
     "text": [
      "confusion matrix of Decision tress:\n",
      " [[3063 1184]\n",
      " [ 133   90]] \n",
      "\n"
     ]
    }
   ],
   "source": [
    "from sklearn.metrics import confusion_matrix\n",
    "cm = confusion_matrix(y_test,y_Pred_dsci)\n",
    "print(\"confusion matrix of Decision tress:\\n\", cm, \"\\n\")"
   ]
  },
  {
   "cell_type": "markdown",
   "metadata": {},
   "source": [
    "# Decision Tree with TF-IDF"
   ]
  },
  {
   "cell_type": "code",
   "execution_count": 78,
   "metadata": {},
   "outputs": [
    {
     "data": {
      "text/plain": [
       "DecisionTreeClassifier()"
      ]
     },
     "execution_count": 78,
     "metadata": {},
     "output_type": "execute_result"
    }
   ],
   "source": [
    "from sklearn.tree import DecisionTreeClassifier\n",
    "dsc= DecisionTreeClassifier()\n",
    "dsc.fit(X_res,Y_res)"
   ]
  },
  {
   "cell_type": "code",
   "execution_count": 163,
   "metadata": {},
   "outputs": [
    {
     "data": {
      "text/plain": [
       "1.0"
      ]
     },
     "execution_count": 163,
     "metadata": {},
     "output_type": "execute_result"
    }
   ],
   "source": [
    "dsc.score(X_res,Y_res)"
   ]
  },
  {
   "cell_type": "code",
   "execution_count": 164,
   "metadata": {},
   "outputs": [
    {
     "data": {
      "text/plain": [
       "0.9395973154362416"
      ]
     },
     "execution_count": 164,
     "metadata": {},
     "output_type": "execute_result"
    }
   ],
   "source": [
    "dsc.score(X_test,y_test)"
   ]
  },
  {
   "cell_type": "code",
   "execution_count": 79,
   "metadata": {},
   "outputs": [],
   "source": [
    "y_Pred_dsc= dsc.predict(X_test)"
   ]
  },
  {
   "cell_type": "code",
   "execution_count": 80,
   "metadata": {},
   "outputs": [
    {
     "data": {
      "text/plain": [
       "0.9413870246085011"
      ]
     },
     "execution_count": 80,
     "metadata": {},
     "output_type": "execute_result"
    }
   ],
   "source": [
    "accuracy_score(y_test,y_Pred_dsc)"
   ]
  },
  {
   "cell_type": "code",
   "execution_count": 166,
   "metadata": {},
   "outputs": [
    {
     "name": "stdout",
     "output_type": "stream",
     "text": [
      "              precision    recall  f1-score   support\n",
      "\n",
      "           0       0.98      0.96      0.97      4247\n",
      "           1       0.43      0.61      0.50       223\n",
      "\n",
      "    accuracy                           0.94      4470\n",
      "   macro avg       0.70      0.78      0.73      4470\n",
      "weighted avg       0.95      0.94      0.94      4470\n",
      "\n"
     ]
    }
   ],
   "source": [
    "print(classification_report(y_test,y_Pred_dsc ))"
   ]
  },
  {
   "cell_type": "code",
   "execution_count": 167,
   "metadata": {},
   "outputs": [
    {
     "name": "stdout",
     "output_type": "stream",
     "text": [
      "confusion matrix of Decision tress:\n",
      " [[4065  182]\n",
      " [  88  135]] \n",
      "\n"
     ]
    }
   ],
   "source": [
    "from sklearn.metrics import accuracy_score, confusion_matrix\n",
    "cm = confusion_matrix(y_test,y_Pred_dsc)\n",
    "print(\"confusion matrix of Decision tress:\\n\", cm, \"\\n\")\n"
   ]
  },
  {
   "cell_type": "markdown",
   "metadata": {},
   "source": [
    "Comparison : Clearly we can see that Decision Tree gives higher accuracy for TF-IDF Vectorization form."
   ]
  },
  {
   "cell_type": "markdown",
   "metadata": {},
   "source": [
    "# Logistic Regression with Avg Word2Vec"
   ]
  },
  {
   "cell_type": "code",
   "execution_count": 72,
   "metadata": {},
   "outputs": [
    {
     "data": {
      "text/plain": [
       "LogisticRegression()"
      ]
     },
     "execution_count": 72,
     "metadata": {},
     "output_type": "execute_result"
    }
   ],
   "source": [
    "from sklearn.linear_model import LogisticRegression\n",
    "from sklearn.metrics import accuracy_score, confusion_matrix\n",
    "\n",
    "# fit data using logistic regression\n",
    "log_regress = LogisticRegression()\n",
    "log_regress.fit(X_bal,Y_bal)"
   ]
  },
  {
   "cell_type": "code",
   "execution_count": 73,
   "metadata": {},
   "outputs": [],
   "source": [
    "# predict output of the test data set\n",
    "y_pred = log_regress.predict(test_sent_vectors)"
   ]
  },
  {
   "cell_type": "code",
   "execution_count": 74,
   "metadata": {},
   "outputs": [
    {
     "name": "stdout",
     "output_type": "stream",
     "text": [
      "Testing accuracy score of Logistic Regression: 0.9463087248322147 \n",
      "\n"
     ]
    }
   ],
   "source": [
    "# get accuracy\n",
    "print(\"Testing accuracy score of Logistic Regression:\", accuracy_score(y_pred, y_test), \"\\n\")"
   ]
  },
  {
   "cell_type": "code",
   "execution_count": 75,
   "metadata": {},
   "outputs": [
    {
     "name": "stdout",
     "output_type": "stream",
     "text": [
      "confusion matrix of Logistic Regression:\n",
      " [[4229   18]\n",
      " [ 222    1]] \n",
      "\n",
      "classification report:\n",
      "               precision    recall  f1-score   support\n",
      "\n",
      "           0       0.95      1.00      0.97      4247\n",
      "           1       0.05      0.00      0.01       223\n",
      "\n",
      "    accuracy                           0.95      4470\n",
      "   macro avg       0.50      0.50      0.49      4470\n",
      "weighted avg       0.91      0.95      0.92      4470\n",
      " \n",
      "\n"
     ]
    }
   ],
   "source": [
    "# creating a confusion matrix \n",
    "cm = confusion_matrix(y_test,y_pred)\n",
    "print(\"confusion matrix of Logistic Regression:\\n\", cm, \"\\n\")\n",
    "\n",
    "# create a classifcation report\n",
    "print(\"classification report:\\n\", classification_report(y_test,y_pred), \"\\n\")"
   ]
  },
  {
   "cell_type": "markdown",
   "metadata": {},
   "source": [
    "# Logistic Regression with TF-IDF"
   ]
  },
  {
   "cell_type": "code",
   "execution_count": 168,
   "metadata": {},
   "outputs": [
    {
     "data": {
      "text/plain": [
       "LogisticRegression()"
      ]
     },
     "execution_count": 168,
     "metadata": {},
     "output_type": "execute_result"
    }
   ],
   "source": [
    "from sklearn.linear_model import LogisticRegression\n",
    "from sklearn.metrics import accuracy_score, confusion_matrix\n",
    "\n",
    "# fit data using logistic regression\n",
    "log_regress = LogisticRegression()\n",
    "log_regress.fit(X_res,Y_res)\n"
   ]
  },
  {
   "cell_type": "code",
   "execution_count": 169,
   "metadata": {},
   "outputs": [],
   "source": [
    "# predict output of the test data set\n",
    "y_pred = log_regress.predict(X_test)\n",
    "\n"
   ]
  },
  {
   "cell_type": "code",
   "execution_count": 170,
   "metadata": {},
   "outputs": [
    {
     "name": "stdout",
     "output_type": "stream",
     "text": [
      "Testing accuracy score of Logistic Regression: 0.8429530201342282 \n",
      "\n"
     ]
    }
   ],
   "source": [
    "# get accuracy\n",
    "print(\"Testing accuracy score of Logistic Regression:\", accuracy_score(y_pred, y_test), \"\\n\")\n"
   ]
  },
  {
   "cell_type": "code",
   "execution_count": 171,
   "metadata": {},
   "outputs": [
    {
     "name": "stdout",
     "output_type": "stream",
     "text": [
      "confusion matrix of Logistic Regression:\n",
      " [[3585  662]\n",
      " [  40  183]] \n",
      "\n",
      "classification report:\n",
      "               precision    recall  f1-score   support\n",
      "\n",
      "           0       0.99      0.84      0.91      4247\n",
      "           1       0.22      0.82      0.34       223\n",
      "\n",
      "    accuracy                           0.84      4470\n",
      "   macro avg       0.60      0.83      0.63      4470\n",
      "weighted avg       0.95      0.84      0.88      4470\n",
      " \n",
      "\n"
     ]
    }
   ],
   "source": [
    "# creating a confusion matrix \n",
    "cm = confusion_matrix(y_test,y_pred)\n",
    "print(\"confusion matrix of Logistic Regression:\\n\", cm, \"\\n\")\n",
    "\n",
    "# create a classifcation report\n",
    "print(\"classification report:\\n\", classification_report(y_test,y_pred), \"\\n\")"
   ]
  },
  {
   "cell_type": "markdown",
   "metadata": {},
   "source": [
    "Comparison : Clearly we can see that Logistic Regression gives higher accuracy for Avg Word2Vec Vectorization form."
   ]
  },
  {
   "cell_type": "markdown",
   "metadata": {},
   "source": [
    "# Support Vector Machine With Avg Word2Vec"
   ]
  },
  {
   "cell_type": "code",
   "execution_count": 76,
   "metadata": {},
   "outputs": [
    {
     "data": {
      "text/plain": [
       "SVC()"
      ]
     },
     "execution_count": 76,
     "metadata": {},
     "output_type": "execute_result"
    }
   ],
   "source": [
    "from sklearn.svm import SVC\n",
    "\n",
    "# fit data using SVC\n",
    "svc = SVC(kernel='rbf')\n",
    "svc.fit(X_bal, Y_bal)"
   ]
  },
  {
   "cell_type": "code",
   "execution_count": 77,
   "metadata": {},
   "outputs": [],
   "source": [
    "# predict output of the test data set\n",
    "predicted = svc.predict(test_sent_vectors)"
   ]
  },
  {
   "cell_type": "code",
   "execution_count": 78,
   "metadata": {},
   "outputs": [
    {
     "name": "stdout",
     "output_type": "stream",
     "text": [
      "accuracy score of Support Vector Machine: 0.9503355704697987 \n",
      "\n"
     ]
    }
   ],
   "source": [
    "# get accuracy\n",
    "print(\"accuracy score of Support Vector Machine:\", accuracy_score(predicted, y_test), \"\\n\")\n"
   ]
  },
  {
   "cell_type": "code",
   "execution_count": 79,
   "metadata": {},
   "outputs": [
    {
     "name": "stdout",
     "output_type": "stream",
     "text": [
      "confusion matrix of SVM:\n",
      " [[4246    1]\n",
      " [ 221    2]] \n",
      "\n",
      "classification report:\n",
      "               precision    recall  f1-score   support\n",
      "\n",
      "           0       0.95      1.00      0.97      4247\n",
      "           1       0.67      0.01      0.02       223\n",
      "\n",
      "    accuracy                           0.95      4470\n",
      "   macro avg       0.81      0.50      0.50      4470\n",
      "weighted avg       0.94      0.95      0.93      4470\n",
      " \n",
      "\n"
     ]
    }
   ],
   "source": [
    "# creating a confusion matrix \n",
    "cm = confusion_matrix(y_test, predicted)\n",
    "print(\"confusion matrix of SVM:\\n\", cm, \"\\n\")\n",
    "\n",
    "# create a classifcation report\n",
    "print(\"classification report:\\n\", classification_report(y_test, predicted), \"\\n\")"
   ]
  },
  {
   "cell_type": "markdown",
   "metadata": {},
   "source": [
    "# Support Vector Machine with TF-IDF"
   ]
  },
  {
   "cell_type": "code",
   "execution_count": 172,
   "metadata": {},
   "outputs": [
    {
     "data": {
      "text/plain": [
       "SVC()"
      ]
     },
     "execution_count": 172,
     "metadata": {},
     "output_type": "execute_result"
    }
   ],
   "source": [
    "from sklearn.svm import SVC\n",
    "\n",
    "# fit data using SVC\n",
    "svc = SVC(kernel='rbf')\n",
    "svc.fit(X_res, Y_res)\n"
   ]
  },
  {
   "cell_type": "code",
   "execution_count": 173,
   "metadata": {},
   "outputs": [],
   "source": [
    "# predict output of the test data set\n",
    "predicted = svc.predict(X_test)"
   ]
  },
  {
   "cell_type": "code",
   "execution_count": 174,
   "metadata": {},
   "outputs": [
    {
     "name": "stdout",
     "output_type": "stream",
     "text": [
      "accuracy score of Support Vector Machine: 0.9505592841163311 \n",
      "\n"
     ]
    }
   ],
   "source": [
    "# get accuracy\n",
    "print(\"accuracy score of Support Vector Machine:\", accuracy_score(predicted, y_test), \"\\n\")"
   ]
  },
  {
   "cell_type": "code",
   "execution_count": 176,
   "metadata": {},
   "outputs": [
    {
     "name": "stdout",
     "output_type": "stream",
     "text": [
      "confusion matrix of SVM:\n",
      " [[4072  175]\n",
      " [  46  177]] \n",
      "\n",
      "classification report:\n",
      "               precision    recall  f1-score   support\n",
      "\n",
      "           0       0.99      0.96      0.97      4247\n",
      "           1       0.50      0.79      0.62       223\n",
      "\n",
      "    accuracy                           0.95      4470\n",
      "   macro avg       0.75      0.88      0.79      4470\n",
      "weighted avg       0.96      0.95      0.96      4470\n",
      " \n",
      "\n"
     ]
    }
   ],
   "source": [
    "# creating a confusion matrix \n",
    "cm = confusion_matrix(y_test, predicted)\n",
    "print(\"confusion matrix of SVM:\\n\", cm, \"\\n\")\n",
    "\n",
    "# create a classifcation report\n",
    "print(\"classification report:\\n\", classification_report(y_test, predicted), \"\\n\")"
   ]
  },
  {
   "cell_type": "markdown",
   "metadata": {},
   "source": [
    "Let's try hyperparameter tuning in order to increase the accuracy"
   ]
  },
  {
   "cell_type": "code",
   "execution_count": null,
   "metadata": {},
   "outputs": [],
   "source": []
  },
  {
   "cell_type": "code",
   "execution_count": 65,
   "metadata": {},
   "outputs": [
    {
     "name": "stdout",
     "output_type": "stream",
     "text": [
      "Fitting 5 folds for each of 6 candidates, totalling 30 fits\n"
     ]
    },
    {
     "data": {
      "text/plain": [
       "GridSearchCV(estimator=SVC(), n_jobs=-1,\n",
       "             param_grid={'C': [0.1, 1], 'gamma': [0.1, 0.01, 0.001]},\n",
       "             verbose=3)"
      ]
     },
     "execution_count": 65,
     "metadata": {},
     "output_type": "execute_result"
    }
   ],
   "source": [
    "from sklearn.model_selection import GridSearchCV\n",
    "param_grid={'C':[0.1,1],'gamma':[0.1,0.01,0.001]}\n",
    "grid= GridSearchCV(SVC(),param_grid, verbose=3, n_jobs=-1)\n",
    "grid.fit(X_res,Y_res)"
   ]
  },
  {
   "cell_type": "code",
   "execution_count": 66,
   "metadata": {},
   "outputs": [
    {
     "data": {
      "text/plain": [
       "{'C': 1, 'gamma': 0.1}"
      ]
     },
     "execution_count": 66,
     "metadata": {},
     "output_type": "execute_result"
    }
   ],
   "source": [
    "grid.best_params_"
   ]
  },
  {
   "cell_type": "code",
   "execution_count": 70,
   "metadata": {},
   "outputs": [
    {
     "data": {
      "text/plain": [
       "SVC(C=1, gamma=0.1)"
      ]
     },
     "execution_count": 70,
     "metadata": {},
     "output_type": "execute_result"
    }
   ],
   "source": [
    "model_new=SVC(kernel='rbf',C=1, gamma=0.1)\n",
    "model_new.fit(X_res,Y_res)"
   ]
  },
  {
   "cell_type": "code",
   "execution_count": 75,
   "metadata": {},
   "outputs": [
    {
     "data": {
      "text/plain": [
       "0.9527964205816555"
      ]
     },
     "execution_count": 75,
     "metadata": {},
     "output_type": "execute_result"
    }
   ],
   "source": [
    "model_new.score(X_test,y_test)"
   ]
  },
  {
   "cell_type": "markdown",
   "metadata": {},
   "source": [
    "Comparison : Clearly we can see that SVM gives higher accuracy for TF-IDF Vectorization form."
   ]
  },
  {
   "cell_type": "markdown",
   "metadata": {},
   "source": [
    "# K-Nearest Neighbors with Avg Word2Vec"
   ]
  },
  {
   "cell_type": "code",
   "execution_count": 80,
   "metadata": {},
   "outputs": [
    {
     "data": {
      "text/plain": [
       "KNeighborsClassifier()"
      ]
     },
     "execution_count": 80,
     "metadata": {},
     "output_type": "execute_result"
    }
   ],
   "source": [
    "from sklearn.neighbors import KNeighborsClassifier\n",
    "from sklearn.model_selection import cross_val_score\n",
    "knn = KNeighborsClassifier()\n",
    "from sklearn.metrics import accuracy_score, confusion_matrix\n",
    "knn.fit(X_bal,Y_bal)"
   ]
  },
  {
   "cell_type": "code",
   "execution_count": 81,
   "metadata": {},
   "outputs": [],
   "source": [
    "y_pred = knn.predict(test_sent_vectors)"
   ]
  },
  {
   "cell_type": "code",
   "execution_count": 82,
   "metadata": {},
   "outputs": [
    {
     "name": "stdout",
     "output_type": "stream",
     "text": [
      "The accuracy score is :  0.8353467561521253\n"
     ]
    }
   ],
   "source": [
    "print(\"The accuracy score is : \", accuracy_score(y_test,y_pred))"
   ]
  },
  {
   "cell_type": "code",
   "execution_count": 83,
   "metadata": {},
   "outputs": [
    {
     "name": "stdout",
     "output_type": "stream",
     "text": [
      "confusion matrix of KNN:\n",
      " [[3664  583]\n",
      " [ 153   70]] \n",
      "\n",
      "classification report:\n",
      "               precision    recall  f1-score   support\n",
      "\n",
      "           0       0.96      0.86      0.91      4247\n",
      "           1       0.11      0.31      0.16       223\n",
      "\n",
      "    accuracy                           0.84      4470\n",
      "   macro avg       0.53      0.59      0.53      4470\n",
      "weighted avg       0.92      0.84      0.87      4470\n",
      " \n",
      "\n"
     ]
    }
   ],
   "source": [
    "# creating a confusion matrix \n",
    "cm = confusion_matrix(y_test,y_pred)\n",
    "print(\"confusion matrix of KNN:\\n\", cm, \"\\n\")\n",
    "\n",
    "# create a classifcation report\n",
    "print(\"classification report:\\n\", classification_report(y_test, y_pred), \"\\n\")"
   ]
  },
  {
   "cell_type": "markdown",
   "metadata": {},
   "source": [
    "# K-Nearest Neighbors with TF-IDF"
   ]
  },
  {
   "cell_type": "code",
   "execution_count": 177,
   "metadata": {},
   "outputs": [
    {
     "data": {
      "text/plain": [
       "KNeighborsClassifier()"
      ]
     },
     "execution_count": 177,
     "metadata": {},
     "output_type": "execute_result"
    }
   ],
   "source": [
    "from sklearn.neighbors import KNeighborsClassifier\n",
    "from sklearn.model_selection import cross_val_score\n",
    "knn = KNeighborsClassifier()\n",
    "from sklearn.metrics import accuracy_score, confusion_matrix\n",
    "knn.fit(X_res,Y_res)"
   ]
  },
  {
   "cell_type": "code",
   "execution_count": 178,
   "metadata": {},
   "outputs": [],
   "source": [
    "y_pred = knn.predict(X_test)"
   ]
  },
  {
   "cell_type": "code",
   "execution_count": 180,
   "metadata": {},
   "outputs": [
    {
     "name": "stdout",
     "output_type": "stream",
     "text": [
      "The accuracy score is :  0.8923937360178971\n"
     ]
    }
   ],
   "source": [
    "print(\"The accuracy score is : \", accuracy_score(y_test,y_pred))"
   ]
  },
  {
   "cell_type": "code",
   "execution_count": 181,
   "metadata": {},
   "outputs": [
    {
     "name": "stdout",
     "output_type": "stream",
     "text": [
      "confusion matrix of KNN:\n",
      " [[3786  461]\n",
      " [  20  203]] \n",
      "\n",
      "classification report:\n",
      "               precision    recall  f1-score   support\n",
      "\n",
      "           0       0.99      0.89      0.94      4247\n",
      "           1       0.31      0.91      0.46       223\n",
      "\n",
      "    accuracy                           0.89      4470\n",
      "   macro avg       0.65      0.90      0.70      4470\n",
      "weighted avg       0.96      0.89      0.92      4470\n",
      " \n",
      "\n"
     ]
    }
   ],
   "source": [
    "\n",
    "# creating a confusion matrix \n",
    "cm = confusion_matrix(y_test,y_pred)\n",
    "print(\"confusion matrix of KNN:\\n\", cm, \"\\n\")\n",
    "\n",
    "# create a classifcation report\n",
    "print(\"classification report:\\n\", classification_report(y_test, y_pred), \"\\n\")"
   ]
  },
  {
   "cell_type": "markdown",
   "metadata": {},
   "source": [
    "Let's try to increase the accuracy by using hyperparameter tuning."
   ]
  },
  {
   "cell_type": "code",
   "execution_count": 63,
   "metadata": {},
   "outputs": [
    {
     "name": "stdout",
     "output_type": "stream",
     "text": [
      "Fitting 5 folds for each of 168 candidates, totalling 840 fits\n",
      "[CV 1/5] END algorithm=ball_tree, leaf_size=18, n_neighbors=3;, score=0.955 total time=   6.3s\n",
      "[CV 2/5] END algorithm=ball_tree, leaf_size=18, n_neighbors=3;, score=0.958 total time=   4.9s\n",
      "[CV 3/5] END algorithm=ball_tree, leaf_size=18, n_neighbors=3;, score=0.963 total time=   5.3s\n",
      "[CV 4/5] END algorithm=ball_tree, leaf_size=18, n_neighbors=3;, score=0.952 total time=   4.8s\n",
      "[CV 5/5] END algorithm=ball_tree, leaf_size=18, n_neighbors=3;, score=0.953 total time=   6.5s\n",
      "[CV 1/5] END algorithm=ball_tree, leaf_size=18, n_neighbors=5;, score=0.948 total time=   5.5s\n",
      "[CV 2/5] END algorithm=ball_tree, leaf_size=18, n_neighbors=5;, score=0.948 total time=   5.6s\n",
      "[CV 3/5] END algorithm=ball_tree, leaf_size=18, n_neighbors=5;, score=0.955 total time=   5.6s\n",
      "[CV 4/5] END algorithm=ball_tree, leaf_size=18, n_neighbors=5;, score=0.939 total time=   5.2s\n",
      "[CV 5/5] END algorithm=ball_tree, leaf_size=18, n_neighbors=5;, score=0.948 total time=   5.3s\n",
      "[CV 1/5] END algorithm=ball_tree, leaf_size=18, n_neighbors=7;, score=0.942 total time=   5.4s\n",
      "[CV 2/5] END algorithm=ball_tree, leaf_size=18, n_neighbors=7;, score=0.940 total time=   5.2s\n",
      "[CV 3/5] END algorithm=ball_tree, leaf_size=18, n_neighbors=7;, score=0.945 total time=   5.3s\n",
      "[CV 4/5] END algorithm=ball_tree, leaf_size=18, n_neighbors=7;, score=0.931 total time=   5.1s\n",
      "[CV 5/5] END algorithm=ball_tree, leaf_size=18, n_neighbors=7;, score=0.939 total time=   5.2s\n",
      "[CV 1/5] END algorithm=ball_tree, leaf_size=18, n_neighbors=9;, score=0.933 total time=   5.5s\n",
      "[CV 2/5] END algorithm=ball_tree, leaf_size=18, n_neighbors=9;, score=0.934 total time=   5.3s\n",
      "[CV 3/5] END algorithm=ball_tree, leaf_size=18, n_neighbors=9;, score=0.938 total time=   5.5s\n",
      "[CV 4/5] END algorithm=ball_tree, leaf_size=18, n_neighbors=9;, score=0.926 total time=   5.7s\n",
      "[CV 5/5] END algorithm=ball_tree, leaf_size=18, n_neighbors=9;, score=0.933 total time=   6.5s\n",
      "[CV 1/5] END algorithm=ball_tree, leaf_size=18, n_neighbors=10;, score=0.936 total time=   5.8s\n",
      "[CV 2/5] END algorithm=ball_tree, leaf_size=18, n_neighbors=10;, score=0.936 total time=   5.5s\n",
      "[CV 3/5] END algorithm=ball_tree, leaf_size=18, n_neighbors=10;, score=0.939 total time=   5.8s\n",
      "[CV 4/5] END algorithm=ball_tree, leaf_size=18, n_neighbors=10;, score=0.928 total time=   5.9s\n",
      "[CV 5/5] END algorithm=ball_tree, leaf_size=18, n_neighbors=10;, score=0.937 total time=   5.5s\n",
      "[CV 1/5] END algorithm=ball_tree, leaf_size=18, n_neighbors=11;, score=0.929 total time=   5.7s\n",
      "[CV 2/5] END algorithm=ball_tree, leaf_size=18, n_neighbors=11;, score=0.928 total time=   5.3s\n",
      "[CV 3/5] END algorithm=ball_tree, leaf_size=18, n_neighbors=11;, score=0.932 total time=   6.2s\n",
      "[CV 4/5] END algorithm=ball_tree, leaf_size=18, n_neighbors=11;, score=0.920 total time=   5.5s\n",
      "[CV 5/5] END algorithm=ball_tree, leaf_size=18, n_neighbors=11;, score=0.927 total time=   5.6s\n",
      "[CV 1/5] END algorithm=ball_tree, leaf_size=18, n_neighbors=12;, score=0.931 total time=   5.7s\n",
      "[CV 2/5] END algorithm=ball_tree, leaf_size=18, n_neighbors=12;, score=0.929 total time=   5.4s\n",
      "[CV 3/5] END algorithm=ball_tree, leaf_size=18, n_neighbors=12;, score=0.935 total time=   5.7s\n",
      "[CV 4/5] END algorithm=ball_tree, leaf_size=18, n_neighbors=12;, score=0.922 total time=   5.3s\n",
      "[CV 5/5] END algorithm=ball_tree, leaf_size=18, n_neighbors=12;, score=0.929 total time=   5.3s\n",
      "[CV 1/5] END algorithm=ball_tree, leaf_size=18, n_neighbors=13;, score=0.923 total time=   5.5s\n",
      "[CV 2/5] END algorithm=ball_tree, leaf_size=18, n_neighbors=13;, score=0.920 total time=   5.5s\n",
      "[CV 3/5] END algorithm=ball_tree, leaf_size=18, n_neighbors=13;, score=0.929 total time=   5.5s\n",
      "[CV 4/5] END algorithm=ball_tree, leaf_size=18, n_neighbors=13;, score=0.913 total time=   5.3s\n",
      "[CV 5/5] END algorithm=ball_tree, leaf_size=18, n_neighbors=13;, score=0.923 total time=   5.7s\n",
      "[CV 1/5] END algorithm=ball_tree, leaf_size=20, n_neighbors=3;, score=0.955 total time=   5.8s\n",
      "[CV 2/5] END algorithm=ball_tree, leaf_size=20, n_neighbors=3;, score=0.958 total time=   5.4s\n",
      "[CV 3/5] END algorithm=ball_tree, leaf_size=20, n_neighbors=3;, score=0.963 total time=   5.7s\n",
      "[CV 4/5] END algorithm=ball_tree, leaf_size=20, n_neighbors=3;, score=0.952 total time=   5.6s\n",
      "[CV 5/5] END algorithm=ball_tree, leaf_size=20, n_neighbors=3;, score=0.953 total time=   5.5s\n",
      "[CV 1/5] END algorithm=ball_tree, leaf_size=20, n_neighbors=5;, score=0.948 total time=   5.7s\n",
      "[CV 2/5] END algorithm=ball_tree, leaf_size=20, n_neighbors=5;, score=0.948 total time=   5.8s\n",
      "[CV 3/5] END algorithm=ball_tree, leaf_size=20, n_neighbors=5;, score=0.955 total time=   6.1s\n",
      "[CV 4/5] END algorithm=ball_tree, leaf_size=20, n_neighbors=5;, score=0.939 total time=   5.5s\n",
      "[CV 5/5] END algorithm=ball_tree, leaf_size=20, n_neighbors=5;, score=0.948 total time=   5.4s\n",
      "[CV 1/5] END algorithm=ball_tree, leaf_size=20, n_neighbors=7;, score=0.942 total time=   5.7s\n",
      "[CV 2/5] END algorithm=ball_tree, leaf_size=20, n_neighbors=7;, score=0.940 total time=   5.6s\n",
      "[CV 3/5] END algorithm=ball_tree, leaf_size=20, n_neighbors=7;, score=0.945 total time=   5.6s\n",
      "[CV 4/5] END algorithm=ball_tree, leaf_size=20, n_neighbors=7;, score=0.931 total time=   5.6s\n",
      "[CV 5/5] END algorithm=ball_tree, leaf_size=20, n_neighbors=7;, score=0.939 total time=   5.7s\n",
      "[CV 1/5] END algorithm=ball_tree, leaf_size=20, n_neighbors=9;, score=0.933 total time=   6.1s\n",
      "[CV 2/5] END algorithm=ball_tree, leaf_size=20, n_neighbors=9;, score=0.934 total time=   5.9s\n",
      "[CV 3/5] END algorithm=ball_tree, leaf_size=20, n_neighbors=9;, score=0.938 total time=   6.0s\n",
      "[CV 4/5] END algorithm=ball_tree, leaf_size=20, n_neighbors=9;, score=0.926 total time=   5.9s\n",
      "[CV 5/5] END algorithm=ball_tree, leaf_size=20, n_neighbors=9;, score=0.933 total time=   5.9s\n",
      "[CV 1/5] END algorithm=ball_tree, leaf_size=20, n_neighbors=10;, score=0.936 total time=   5.7s\n",
      "[CV 2/5] END algorithm=ball_tree, leaf_size=20, n_neighbors=10;, score=0.936 total time=   6.0s\n",
      "[CV 3/5] END algorithm=ball_tree, leaf_size=20, n_neighbors=10;, score=0.939 total time=   5.9s\n",
      "[CV 4/5] END algorithm=ball_tree, leaf_size=20, n_neighbors=10;, score=0.928 total time=   5.5s\n",
      "[CV 5/5] END algorithm=ball_tree, leaf_size=20, n_neighbors=10;, score=0.937 total time=   5.5s\n",
      "[CV 1/5] END algorithm=ball_tree, leaf_size=20, n_neighbors=11;, score=0.929 total time=   5.6s\n",
      "[CV 2/5] END algorithm=ball_tree, leaf_size=20, n_neighbors=11;, score=0.928 total time=   5.5s\n",
      "[CV 3/5] END algorithm=ball_tree, leaf_size=20, n_neighbors=11;, score=0.932 total time=   5.9s\n",
      "[CV 4/5] END algorithm=ball_tree, leaf_size=20, n_neighbors=11;, score=0.920 total time=   5.9s\n",
      "[CV 5/5] END algorithm=ball_tree, leaf_size=20, n_neighbors=11;, score=0.927 total time=   5.9s\n",
      "[CV 1/5] END algorithm=ball_tree, leaf_size=20, n_neighbors=12;, score=0.931 total time=   6.3s\n",
      "[CV 2/5] END algorithm=ball_tree, leaf_size=20, n_neighbors=12;, score=0.929 total time=   6.2s\n",
      "[CV 3/5] END algorithm=ball_tree, leaf_size=20, n_neighbors=12;, score=0.935 total time=   6.4s\n",
      "[CV 4/5] END algorithm=ball_tree, leaf_size=20, n_neighbors=12;, score=0.922 total time=   6.0s\n",
      "[CV 5/5] END algorithm=ball_tree, leaf_size=20, n_neighbors=12;, score=0.929 total time=   6.0s\n",
      "[CV 1/5] END algorithm=ball_tree, leaf_size=20, n_neighbors=13;, score=0.923 total time=   5.6s\n",
      "[CV 2/5] END algorithm=ball_tree, leaf_size=20, n_neighbors=13;, score=0.920 total time=   5.6s\n",
      "[CV 3/5] END algorithm=ball_tree, leaf_size=20, n_neighbors=13;, score=0.929 total time=   5.8s\n",
      "[CV 4/5] END algorithm=ball_tree, leaf_size=20, n_neighbors=13;, score=0.913 total time=   5.6s\n",
      "[CV 5/5] END algorithm=ball_tree, leaf_size=20, n_neighbors=13;, score=0.923 total time=   5.7s\n",
      "[CV 1/5] END algorithm=ball_tree, leaf_size=25, n_neighbors=3;, score=0.955 total time=   5.2s\n",
      "[CV 2/5] END algorithm=ball_tree, leaf_size=25, n_neighbors=3;, score=0.958 total time=   5.2s\n",
      "[CV 3/5] END algorithm=ball_tree, leaf_size=25, n_neighbors=3;, score=0.963 total time=   5.3s\n",
      "[CV 4/5] END algorithm=ball_tree, leaf_size=25, n_neighbors=3;, score=0.952 total time=   5.2s\n",
      "[CV 5/5] END algorithm=ball_tree, leaf_size=25, n_neighbors=3;, score=0.953 total time=   5.4s\n",
      "[CV 1/5] END algorithm=ball_tree, leaf_size=25, n_neighbors=5;, score=0.948 total time=   5.3s\n"
     ]
    },
    {
     "name": "stdout",
     "output_type": "stream",
     "text": [
      "[CV 2/5] END algorithm=ball_tree, leaf_size=25, n_neighbors=5;, score=0.948 total time=   5.3s\n",
      "[CV 3/5] END algorithm=ball_tree, leaf_size=25, n_neighbors=5;, score=0.955 total time=   5.5s\n",
      "[CV 4/5] END algorithm=ball_tree, leaf_size=25, n_neighbors=5;, score=0.939 total time=   5.3s\n",
      "[CV 5/5] END algorithm=ball_tree, leaf_size=25, n_neighbors=5;, score=0.948 total time=   5.5s\n",
      "[CV 1/5] END algorithm=ball_tree, leaf_size=25, n_neighbors=7;, score=0.942 total time=   6.1s\n",
      "[CV 2/5] END algorithm=ball_tree, leaf_size=25, n_neighbors=7;, score=0.940 total time=   5.5s\n",
      "[CV 3/5] END algorithm=ball_tree, leaf_size=25, n_neighbors=7;, score=0.945 total time=   5.9s\n",
      "[CV 4/5] END algorithm=ball_tree, leaf_size=25, n_neighbors=7;, score=0.931 total time=   5.6s\n",
      "[CV 5/5] END algorithm=ball_tree, leaf_size=25, n_neighbors=7;, score=0.939 total time=   5.9s\n",
      "[CV 1/5] END algorithm=ball_tree, leaf_size=25, n_neighbors=9;, score=0.933 total time=   6.0s\n",
      "[CV 2/5] END algorithm=ball_tree, leaf_size=25, n_neighbors=9;, score=0.934 total time=   6.1s\n",
      "[CV 3/5] END algorithm=ball_tree, leaf_size=25, n_neighbors=9;, score=0.938 total time=   5.6s\n",
      "[CV 4/5] END algorithm=ball_tree, leaf_size=25, n_neighbors=9;, score=0.926 total time=   5.5s\n",
      "[CV 5/5] END algorithm=ball_tree, leaf_size=25, n_neighbors=9;, score=0.933 total time=   5.5s\n",
      "[CV 1/5] END algorithm=ball_tree, leaf_size=25, n_neighbors=10;, score=0.936 total time=   5.6s\n",
      "[CV 2/5] END algorithm=ball_tree, leaf_size=25, n_neighbors=10;, score=0.936 total time=   5.5s\n",
      "[CV 3/5] END algorithm=ball_tree, leaf_size=25, n_neighbors=10;, score=0.939 total time=   5.7s\n",
      "[CV 4/5] END algorithm=ball_tree, leaf_size=25, n_neighbors=10;, score=0.928 total time=   5.5s\n",
      "[CV 5/5] END algorithm=ball_tree, leaf_size=25, n_neighbors=10;, score=0.937 total time=   5.6s\n",
      "[CV 1/5] END algorithm=ball_tree, leaf_size=25, n_neighbors=11;, score=0.929 total time=   5.6s\n",
      "[CV 2/5] END algorithm=ball_tree, leaf_size=25, n_neighbors=11;, score=0.928 total time=   5.6s\n",
      "[CV 3/5] END algorithm=ball_tree, leaf_size=25, n_neighbors=11;, score=0.932 total time=   6.0s\n",
      "[CV 4/5] END algorithm=ball_tree, leaf_size=25, n_neighbors=11;, score=0.920 total time=   5.5s\n",
      "[CV 5/5] END algorithm=ball_tree, leaf_size=25, n_neighbors=11;, score=0.927 total time=   5.5s\n",
      "[CV 1/5] END algorithm=ball_tree, leaf_size=25, n_neighbors=12;, score=0.931 total time=   5.6s\n",
      "[CV 2/5] END algorithm=ball_tree, leaf_size=25, n_neighbors=12;, score=0.929 total time=   5.6s\n",
      "[CV 3/5] END algorithm=ball_tree, leaf_size=25, n_neighbors=12;, score=0.935 total time=   5.7s\n",
      "[CV 4/5] END algorithm=ball_tree, leaf_size=25, n_neighbors=12;, score=0.922 total time=   5.8s\n",
      "[CV 5/5] END algorithm=ball_tree, leaf_size=25, n_neighbors=12;, score=0.929 total time=   5.7s\n",
      "[CV 1/5] END algorithm=ball_tree, leaf_size=25, n_neighbors=13;, score=0.923 total time=   5.7s\n",
      "[CV 2/5] END algorithm=ball_tree, leaf_size=25, n_neighbors=13;, score=0.920 total time=   5.6s\n",
      "[CV 3/5] END algorithm=ball_tree, leaf_size=25, n_neighbors=13;, score=0.929 total time=   5.8s\n",
      "[CV 4/5] END algorithm=ball_tree, leaf_size=25, n_neighbors=13;, score=0.913 total time=   5.8s\n",
      "[CV 5/5] END algorithm=ball_tree, leaf_size=25, n_neighbors=13;, score=0.923 total time=   5.7s\n",
      "[CV 1/5] END algorithm=ball_tree, leaf_size=27, n_neighbors=3;, score=0.955 total time=   5.1s\n",
      "[CV 2/5] END algorithm=ball_tree, leaf_size=27, n_neighbors=3;, score=0.958 total time=   5.2s\n",
      "[CV 3/5] END algorithm=ball_tree, leaf_size=27, n_neighbors=3;, score=0.963 total time=   5.3s\n",
      "[CV 4/5] END algorithm=ball_tree, leaf_size=27, n_neighbors=3;, score=0.952 total time=   5.2s\n",
      "[CV 5/5] END algorithm=ball_tree, leaf_size=27, n_neighbors=3;, score=0.953 total time=   5.2s\n",
      "[CV 1/5] END algorithm=ball_tree, leaf_size=27, n_neighbors=5;, score=0.948 total time=   5.4s\n",
      "[CV 2/5] END algorithm=ball_tree, leaf_size=27, n_neighbors=5;, score=0.948 total time=   5.3s\n",
      "[CV 3/5] END algorithm=ball_tree, leaf_size=27, n_neighbors=5;, score=0.955 total time=   5.4s\n",
      "[CV 4/5] END algorithm=ball_tree, leaf_size=27, n_neighbors=5;, score=0.939 total time=   5.3s\n",
      "[CV 5/5] END algorithm=ball_tree, leaf_size=27, n_neighbors=5;, score=0.948 total time=   5.3s\n",
      "[CV 1/5] END algorithm=ball_tree, leaf_size=27, n_neighbors=7;, score=0.942 total time=   5.6s\n",
      "[CV 2/5] END algorithm=ball_tree, leaf_size=27, n_neighbors=7;, score=0.940 total time=   5.4s\n",
      "[CV 3/5] END algorithm=ball_tree, leaf_size=27, n_neighbors=7;, score=0.945 total time=   5.6s\n",
      "[CV 4/5] END algorithm=ball_tree, leaf_size=27, n_neighbors=7;, score=0.931 total time=   5.4s\n",
      "[CV 5/5] END algorithm=ball_tree, leaf_size=27, n_neighbors=7;, score=0.939 total time=   5.4s\n",
      "[CV 1/5] END algorithm=ball_tree, leaf_size=27, n_neighbors=9;, score=0.933 total time=   5.6s\n",
      "[CV 2/5] END algorithm=ball_tree, leaf_size=27, n_neighbors=9;, score=0.934 total time=   5.5s\n",
      "[CV 3/5] END algorithm=ball_tree, leaf_size=27, n_neighbors=9;, score=0.938 total time=   5.7s\n",
      "[CV 4/5] END algorithm=ball_tree, leaf_size=27, n_neighbors=9;, score=0.926 total time=   5.4s\n",
      "[CV 5/5] END algorithm=ball_tree, leaf_size=27, n_neighbors=9;, score=0.933 total time=   5.5s\n",
      "[CV 1/5] END algorithm=ball_tree, leaf_size=27, n_neighbors=10;, score=0.936 total time=   5.6s\n",
      "[CV 2/5] END algorithm=ball_tree, leaf_size=27, n_neighbors=10;, score=0.936 total time=   5.6s\n",
      "[CV 3/5] END algorithm=ball_tree, leaf_size=27, n_neighbors=10;, score=0.939 total time=   5.9s\n",
      "[CV 4/5] END algorithm=ball_tree, leaf_size=27, n_neighbors=10;, score=0.928 total time=   5.5s\n",
      "[CV 5/5] END algorithm=ball_tree, leaf_size=27, n_neighbors=10;, score=0.937 total time=   5.6s\n",
      "[CV 1/5] END algorithm=ball_tree, leaf_size=27, n_neighbors=11;, score=0.929 total time=   5.6s\n",
      "[CV 2/5] END algorithm=ball_tree, leaf_size=27, n_neighbors=11;, score=0.928 total time=   5.5s\n",
      "[CV 3/5] END algorithm=ball_tree, leaf_size=27, n_neighbors=11;, score=0.932 total time=   5.7s\n",
      "[CV 4/5] END algorithm=ball_tree, leaf_size=27, n_neighbors=11;, score=0.920 total time=   5.5s\n",
      "[CV 5/5] END algorithm=ball_tree, leaf_size=27, n_neighbors=11;, score=0.927 total time=   5.6s\n",
      "[CV 1/5] END algorithm=ball_tree, leaf_size=27, n_neighbors=12;, score=0.931 total time=   5.7s\n",
      "[CV 2/5] END algorithm=ball_tree, leaf_size=27, n_neighbors=12;, score=0.929 total time=   5.6s\n",
      "[CV 3/5] END algorithm=ball_tree, leaf_size=27, n_neighbors=12;, score=0.935 total time=   5.7s\n",
      "[CV 4/5] END algorithm=ball_tree, leaf_size=27, n_neighbors=12;, score=0.922 total time=   5.7s\n",
      "[CV 5/5] END algorithm=ball_tree, leaf_size=27, n_neighbors=12;, score=0.929 total time=   5.7s\n",
      "[CV 1/5] END algorithm=ball_tree, leaf_size=27, n_neighbors=13;, score=0.923 total time=   5.7s\n",
      "[CV 2/5] END algorithm=ball_tree, leaf_size=27, n_neighbors=13;, score=0.920 total time=   5.7s\n",
      "[CV 3/5] END algorithm=ball_tree, leaf_size=27, n_neighbors=13;, score=0.929 total time=   5.8s\n",
      "[CV 4/5] END algorithm=ball_tree, leaf_size=27, n_neighbors=13;, score=0.913 total time=   5.6s\n",
      "[CV 5/5] END algorithm=ball_tree, leaf_size=27, n_neighbors=13;, score=0.923 total time=   5.7s\n",
      "[CV 1/5] END algorithm=ball_tree, leaf_size=30, n_neighbors=3;, score=0.955 total time=   5.3s\n",
      "[CV 2/5] END algorithm=ball_tree, leaf_size=30, n_neighbors=3;, score=0.958 total time=   5.4s\n",
      "[CV 3/5] END algorithm=ball_tree, leaf_size=30, n_neighbors=3;, score=0.963 total time=   5.4s\n",
      "[CV 4/5] END algorithm=ball_tree, leaf_size=30, n_neighbors=3;, score=0.952 total time=   5.2s\n",
      "[CV 5/5] END algorithm=ball_tree, leaf_size=30, n_neighbors=3;, score=0.953 total time=   5.3s\n",
      "[CV 1/5] END algorithm=ball_tree, leaf_size=30, n_neighbors=5;, score=0.948 total time=   5.7s\n",
      "[CV 2/5] END algorithm=ball_tree, leaf_size=30, n_neighbors=5;, score=0.948 total time=   5.4s\n",
      "[CV 3/5] END algorithm=ball_tree, leaf_size=30, n_neighbors=5;, score=0.955 total time=   5.6s\n",
      "[CV 4/5] END algorithm=ball_tree, leaf_size=30, n_neighbors=5;, score=0.939 total time=   5.4s\n",
      "[CV 5/5] END algorithm=ball_tree, leaf_size=30, n_neighbors=5;, score=0.948 total time=   5.4s\n",
      "[CV 1/5] END algorithm=ball_tree, leaf_size=30, n_neighbors=7;, score=0.942 total time=   5.7s\n",
      "[CV 2/5] END algorithm=ball_tree, leaf_size=30, n_neighbors=7;, score=0.940 total time=   5.9s\n"
     ]
    },
    {
     "name": "stdout",
     "output_type": "stream",
     "text": [
      "[CV 3/5] END algorithm=ball_tree, leaf_size=30, n_neighbors=7;, score=0.945 total time=   5.7s\n",
      "[CV 4/5] END algorithm=ball_tree, leaf_size=30, n_neighbors=7;, score=0.931 total time=   5.4s\n",
      "[CV 5/5] END algorithm=ball_tree, leaf_size=30, n_neighbors=7;, score=0.939 total time=   5.5s\n",
      "[CV 1/5] END algorithm=ball_tree, leaf_size=30, n_neighbors=9;, score=0.933 total time=   5.7s\n",
      "[CV 2/5] END algorithm=ball_tree, leaf_size=30, n_neighbors=9;, score=0.934 total time=   5.6s\n",
      "[CV 3/5] END algorithm=ball_tree, leaf_size=30, n_neighbors=9;, score=0.938 total time=   6.0s\n",
      "[CV 4/5] END algorithm=ball_tree, leaf_size=30, n_neighbors=9;, score=0.926 total time=   5.6s\n",
      "[CV 5/5] END algorithm=ball_tree, leaf_size=30, n_neighbors=9;, score=0.933 total time=   5.6s\n",
      "[CV 1/5] END algorithm=ball_tree, leaf_size=30, n_neighbors=10;, score=0.936 total time=   5.8s\n",
      "[CV 2/5] END algorithm=ball_tree, leaf_size=30, n_neighbors=10;, score=0.936 total time=   5.6s\n",
      "[CV 3/5] END algorithm=ball_tree, leaf_size=30, n_neighbors=10;, score=0.939 total time=   5.8s\n",
      "[CV 4/5] END algorithm=ball_tree, leaf_size=30, n_neighbors=10;, score=0.928 total time=   5.5s\n",
      "[CV 5/5] END algorithm=ball_tree, leaf_size=30, n_neighbors=10;, score=0.937 total time=   5.7s\n",
      "[CV 1/5] END algorithm=ball_tree, leaf_size=30, n_neighbors=11;, score=0.929 total time=   5.7s\n",
      "[CV 2/5] END algorithm=ball_tree, leaf_size=30, n_neighbors=11;, score=0.928 total time=   5.7s\n",
      "[CV 3/5] END algorithm=ball_tree, leaf_size=30, n_neighbors=11;, score=0.932 total time=   5.8s\n",
      "[CV 4/5] END algorithm=ball_tree, leaf_size=30, n_neighbors=11;, score=0.920 total time=   5.8s\n",
      "[CV 5/5] END algorithm=ball_tree, leaf_size=30, n_neighbors=11;, score=0.927 total time=   5.7s\n",
      "[CV 1/5] END algorithm=ball_tree, leaf_size=30, n_neighbors=12;, score=0.931 total time=   5.7s\n",
      "[CV 2/5] END algorithm=ball_tree, leaf_size=30, n_neighbors=12;, score=0.929 total time=   5.6s\n",
      "[CV 3/5] END algorithm=ball_tree, leaf_size=30, n_neighbors=12;, score=0.935 total time=   5.9s\n",
      "[CV 4/5] END algorithm=ball_tree, leaf_size=30, n_neighbors=12;, score=0.922 total time=   5.7s\n",
      "[CV 5/5] END algorithm=ball_tree, leaf_size=30, n_neighbors=12;, score=0.929 total time=   5.7s\n",
      "[CV 1/5] END algorithm=ball_tree, leaf_size=30, n_neighbors=13;, score=0.923 total time=   5.8s\n",
      "[CV 2/5] END algorithm=ball_tree, leaf_size=30, n_neighbors=13;, score=0.920 total time=   5.8s\n",
      "[CV 3/5] END algorithm=ball_tree, leaf_size=30, n_neighbors=13;, score=0.929 total time=   5.9s\n",
      "[CV 4/5] END algorithm=ball_tree, leaf_size=30, n_neighbors=13;, score=0.913 total time=   5.8s\n",
      "[CV 5/5] END algorithm=ball_tree, leaf_size=30, n_neighbors=13;, score=0.923 total time=   6.0s\n",
      "[CV 1/5] END algorithm=ball_tree, leaf_size=32, n_neighbors=3;, score=0.955 total time=   5.4s\n",
      "[CV 2/5] END algorithm=ball_tree, leaf_size=32, n_neighbors=3;, score=0.958 total time=   5.3s\n",
      "[CV 3/5] END algorithm=ball_tree, leaf_size=32, n_neighbors=3;, score=0.963 total time=   5.4s\n",
      "[CV 4/5] END algorithm=ball_tree, leaf_size=32, n_neighbors=3;, score=0.952 total time=   5.3s\n",
      "[CV 5/5] END algorithm=ball_tree, leaf_size=32, n_neighbors=3;, score=0.953 total time=   5.2s\n",
      "[CV 1/5] END algorithm=ball_tree, leaf_size=32, n_neighbors=5;, score=0.948 total time=   5.5s\n",
      "[CV 2/5] END algorithm=ball_tree, leaf_size=32, n_neighbors=5;, score=0.948 total time=   5.4s\n",
      "[CV 3/5] END algorithm=ball_tree, leaf_size=32, n_neighbors=5;, score=0.955 total time=   5.6s\n",
      "[CV 4/5] END algorithm=ball_tree, leaf_size=32, n_neighbors=5;, score=0.939 total time=   5.4s\n",
      "[CV 5/5] END algorithm=ball_tree, leaf_size=32, n_neighbors=5;, score=0.948 total time=   5.4s\n",
      "[CV 1/5] END algorithm=ball_tree, leaf_size=32, n_neighbors=7;, score=0.942 total time=   5.6s\n",
      "[CV 2/5] END algorithm=ball_tree, leaf_size=32, n_neighbors=7;, score=0.940 total time=   5.7s\n",
      "[CV 3/5] END algorithm=ball_tree, leaf_size=32, n_neighbors=7;, score=0.945 total time=   5.7s\n",
      "[CV 4/5] END algorithm=ball_tree, leaf_size=32, n_neighbors=7;, score=0.931 total time=   5.5s\n",
      "[CV 5/5] END algorithm=ball_tree, leaf_size=32, n_neighbors=7;, score=0.939 total time=   5.5s\n",
      "[CV 1/5] END algorithm=ball_tree, leaf_size=32, n_neighbors=9;, score=0.933 total time=   5.8s\n",
      "[CV 2/5] END algorithm=ball_tree, leaf_size=32, n_neighbors=9;, score=0.934 total time=   5.6s\n",
      "[CV 3/5] END algorithm=ball_tree, leaf_size=32, n_neighbors=9;, score=0.938 total time=   5.8s\n",
      "[CV 4/5] END algorithm=ball_tree, leaf_size=32, n_neighbors=9;, score=0.926 total time=   5.9s\n",
      "[CV 5/5] END algorithm=ball_tree, leaf_size=32, n_neighbors=9;, score=0.933 total time=   5.7s\n",
      "[CV 1/5] END algorithm=ball_tree, leaf_size=32, n_neighbors=10;, score=0.936 total time=   5.7s\n",
      "[CV 2/5] END algorithm=ball_tree, leaf_size=32, n_neighbors=10;, score=0.936 total time=   5.6s\n",
      "[CV 3/5] END algorithm=ball_tree, leaf_size=32, n_neighbors=10;, score=0.939 total time=   5.9s\n",
      "[CV 4/5] END algorithm=ball_tree, leaf_size=32, n_neighbors=10;, score=0.928 total time=   5.6s\n",
      "[CV 5/5] END algorithm=ball_tree, leaf_size=32, n_neighbors=10;, score=0.937 total time=   5.5s\n",
      "[CV 1/5] END algorithm=ball_tree, leaf_size=32, n_neighbors=11;, score=0.929 total time=   6.2s\n",
      "[CV 2/5] END algorithm=ball_tree, leaf_size=32, n_neighbors=11;, score=0.928 total time=   5.6s\n",
      "[CV 3/5] END algorithm=ball_tree, leaf_size=32, n_neighbors=11;, score=0.932 total time=   5.7s\n",
      "[CV 4/5] END algorithm=ball_tree, leaf_size=32, n_neighbors=11;, score=0.920 total time=   5.5s\n",
      "[CV 5/5] END algorithm=ball_tree, leaf_size=32, n_neighbors=11;, score=0.927 total time=   5.6s\n",
      "[CV 1/5] END algorithm=ball_tree, leaf_size=32, n_neighbors=12;, score=0.931 total time=   5.6s\n",
      "[CV 2/5] END algorithm=ball_tree, leaf_size=32, n_neighbors=12;, score=0.929 total time=   5.6s\n",
      "[CV 3/5] END algorithm=ball_tree, leaf_size=32, n_neighbors=12;, score=0.935 total time=   5.7s\n",
      "[CV 4/5] END algorithm=ball_tree, leaf_size=32, n_neighbors=12;, score=0.922 total time=   5.7s\n",
      "[CV 5/5] END algorithm=ball_tree, leaf_size=32, n_neighbors=12;, score=0.929 total time=   5.7s\n",
      "[CV 1/5] END algorithm=ball_tree, leaf_size=32, n_neighbors=13;, score=0.923 total time=   5.6s\n",
      "[CV 2/5] END algorithm=ball_tree, leaf_size=32, n_neighbors=13;, score=0.920 total time=   5.5s\n",
      "[CV 3/5] END algorithm=ball_tree, leaf_size=32, n_neighbors=13;, score=0.929 total time=   5.7s\n",
      "[CV 4/5] END algorithm=ball_tree, leaf_size=32, n_neighbors=13;, score=0.913 total time=   5.5s\n",
      "[CV 5/5] END algorithm=ball_tree, leaf_size=32, n_neighbors=13;, score=0.923 total time=   5.6s\n",
      "[CV 1/5] END algorithm=ball_tree, leaf_size=34, n_neighbors=3;, score=0.955 total time=   5.3s\n",
      "[CV 2/5] END algorithm=ball_tree, leaf_size=34, n_neighbors=3;, score=0.958 total time=   5.1s\n",
      "[CV 3/5] END algorithm=ball_tree, leaf_size=34, n_neighbors=3;, score=0.963 total time=   5.3s\n",
      "[CV 4/5] END algorithm=ball_tree, leaf_size=34, n_neighbors=3;, score=0.952 total time=   5.1s\n",
      "[CV 5/5] END algorithm=ball_tree, leaf_size=34, n_neighbors=3;, score=0.953 total time=   5.1s\n",
      "[CV 1/5] END algorithm=ball_tree, leaf_size=34, n_neighbors=5;, score=0.948 total time=   5.5s\n",
      "[CV 2/5] END algorithm=ball_tree, leaf_size=34, n_neighbors=5;, score=0.948 total time=   5.1s\n",
      "[CV 3/5] END algorithm=ball_tree, leaf_size=34, n_neighbors=5;, score=0.955 total time=   5.3s\n",
      "[CV 4/5] END algorithm=ball_tree, leaf_size=34, n_neighbors=5;, score=0.939 total time=   5.6s\n",
      "[CV 5/5] END algorithm=ball_tree, leaf_size=34, n_neighbors=5;, score=0.948 total time=   5.9s\n",
      "[CV 1/5] END algorithm=ball_tree, leaf_size=34, n_neighbors=7;, score=0.942 total time=   4.6s\n",
      "[CV 2/5] END algorithm=ball_tree, leaf_size=34, n_neighbors=7;, score=0.940 total time=   5.6s\n",
      "[CV 3/5] END algorithm=ball_tree, leaf_size=34, n_neighbors=7;, score=0.945 total time=   6.1s\n",
      "[CV 4/5] END algorithm=ball_tree, leaf_size=34, n_neighbors=7;, score=0.931 total time=   5.5s\n",
      "[CV 5/5] END algorithm=ball_tree, leaf_size=34, n_neighbors=7;, score=0.939 total time=   4.8s\n",
      "[CV 1/5] END algorithm=ball_tree, leaf_size=34, n_neighbors=9;, score=0.933 total time=   4.7s\n",
      "[CV 2/5] END algorithm=ball_tree, leaf_size=34, n_neighbors=9;, score=0.934 total time=   5.3s\n",
      "[CV 3/5] END algorithm=ball_tree, leaf_size=34, n_neighbors=9;, score=0.938 total time=   5.6s\n"
     ]
    },
    {
     "name": "stdout",
     "output_type": "stream",
     "text": [
      "[CV 4/5] END algorithm=ball_tree, leaf_size=34, n_neighbors=9;, score=0.926 total time=   5.3s\n",
      "[CV 5/5] END algorithm=ball_tree, leaf_size=34, n_neighbors=9;, score=0.933 total time=   5.4s\n",
      "[CV 1/5] END algorithm=ball_tree, leaf_size=34, n_neighbors=10;, score=0.936 total time=   5.4s\n",
      "[CV 2/5] END algorithm=ball_tree, leaf_size=34, n_neighbors=10;, score=0.936 total time=   5.3s\n",
      "[CV 3/5] END algorithm=ball_tree, leaf_size=34, n_neighbors=10;, score=0.939 total time=   5.6s\n",
      "[CV 4/5] END algorithm=ball_tree, leaf_size=34, n_neighbors=10;, score=0.928 total time=   5.3s\n",
      "[CV 5/5] END algorithm=ball_tree, leaf_size=34, n_neighbors=10;, score=0.937 total time=   5.3s\n",
      "[CV 1/5] END algorithm=ball_tree, leaf_size=34, n_neighbors=11;, score=0.929 total time=   6.0s\n",
      "[CV 2/5] END algorithm=ball_tree, leaf_size=34, n_neighbors=11;, score=0.928 total time=   5.6s\n",
      "[CV 3/5] END algorithm=ball_tree, leaf_size=34, n_neighbors=11;, score=0.932 total time=   5.8s\n",
      "[CV 4/5] END algorithm=ball_tree, leaf_size=34, n_neighbors=11;, score=0.920 total time=   5.5s\n",
      "[CV 5/5] END algorithm=ball_tree, leaf_size=34, n_neighbors=11;, score=0.927 total time=   5.9s\n",
      "[CV 1/5] END algorithm=ball_tree, leaf_size=34, n_neighbors=12;, score=0.931 total time=   5.9s\n",
      "[CV 2/5] END algorithm=ball_tree, leaf_size=34, n_neighbors=12;, score=0.929 total time=   5.7s\n",
      "[CV 3/5] END algorithm=ball_tree, leaf_size=34, n_neighbors=12;, score=0.935 total time=   6.0s\n",
      "[CV 4/5] END algorithm=ball_tree, leaf_size=34, n_neighbors=12;, score=0.922 total time=   5.7s\n",
      "[CV 5/5] END algorithm=ball_tree, leaf_size=34, n_neighbors=12;, score=0.929 total time=   5.7s\n",
      "[CV 1/5] END algorithm=ball_tree, leaf_size=34, n_neighbors=13;, score=0.923 total time=   5.7s\n",
      "[CV 2/5] END algorithm=ball_tree, leaf_size=34, n_neighbors=13;, score=0.920 total time=   5.6s\n",
      "[CV 3/5] END algorithm=ball_tree, leaf_size=34, n_neighbors=13;, score=0.929 total time=   5.8s\n",
      "[CV 4/5] END algorithm=ball_tree, leaf_size=34, n_neighbors=13;, score=0.913 total time=   5.6s\n",
      "[CV 5/5] END algorithm=ball_tree, leaf_size=34, n_neighbors=13;, score=0.923 total time=   5.6s\n",
      "[CV 1/5] END algorithm=kd_tree, leaf_size=18, n_neighbors=3;, score=0.955 total time=   5.5s\n",
      "[CV 2/5] END algorithm=kd_tree, leaf_size=18, n_neighbors=3;, score=0.958 total time=   5.2s\n",
      "[CV 3/5] END algorithm=kd_tree, leaf_size=18, n_neighbors=3;, score=0.963 total time=   5.3s\n",
      "[CV 4/5] END algorithm=kd_tree, leaf_size=18, n_neighbors=3;, score=0.952 total time=   5.4s\n",
      "[CV 5/5] END algorithm=kd_tree, leaf_size=18, n_neighbors=3;, score=0.953 total time=   5.2s\n",
      "[CV 1/5] END algorithm=kd_tree, leaf_size=18, n_neighbors=5;, score=0.948 total time=   5.5s\n",
      "[CV 2/5] END algorithm=kd_tree, leaf_size=18, n_neighbors=5;, score=0.948 total time=   5.3s\n",
      "[CV 3/5] END algorithm=kd_tree, leaf_size=18, n_neighbors=5;, score=0.955 total time=   5.5s\n",
      "[CV 4/5] END algorithm=kd_tree, leaf_size=18, n_neighbors=5;, score=0.939 total time=   5.4s\n",
      "[CV 5/5] END algorithm=kd_tree, leaf_size=18, n_neighbors=5;, score=0.948 total time=   5.4s\n",
      "[CV 1/5] END algorithm=kd_tree, leaf_size=18, n_neighbors=7;, score=0.942 total time=   5.6s\n",
      "[CV 2/5] END algorithm=kd_tree, leaf_size=18, n_neighbors=7;, score=0.940 total time=   5.5s\n",
      "[CV 3/5] END algorithm=kd_tree, leaf_size=18, n_neighbors=7;, score=0.945 total time=   6.0s\n",
      "[CV 4/5] END algorithm=kd_tree, leaf_size=18, n_neighbors=7;, score=0.931 total time=   5.6s\n",
      "[CV 5/5] END algorithm=kd_tree, leaf_size=18, n_neighbors=7;, score=0.939 total time=   5.6s\n",
      "[CV 1/5] END algorithm=kd_tree, leaf_size=18, n_neighbors=9;, score=0.933 total time=   5.8s\n",
      "[CV 2/5] END algorithm=kd_tree, leaf_size=18, n_neighbors=9;, score=0.934 total time=   5.7s\n",
      "[CV 3/5] END algorithm=kd_tree, leaf_size=18, n_neighbors=9;, score=0.938 total time=   6.1s\n",
      "[CV 4/5] END algorithm=kd_tree, leaf_size=18, n_neighbors=9;, score=0.926 total time=   6.1s\n",
      "[CV 5/5] END algorithm=kd_tree, leaf_size=18, n_neighbors=9;, score=0.933 total time=   6.2s\n",
      "[CV 1/5] END algorithm=kd_tree, leaf_size=18, n_neighbors=10;, score=0.936 total time=   5.9s\n",
      "[CV 2/5] END algorithm=kd_tree, leaf_size=18, n_neighbors=10;, score=0.936 total time=   5.8s\n",
      "[CV 3/5] END algorithm=kd_tree, leaf_size=18, n_neighbors=10;, score=0.939 total time=   6.2s\n",
      "[CV 4/5] END algorithm=kd_tree, leaf_size=18, n_neighbors=10;, score=0.928 total time=   6.1s\n",
      "[CV 5/5] END algorithm=kd_tree, leaf_size=18, n_neighbors=10;, score=0.937 total time=   6.1s\n",
      "[CV 1/5] END algorithm=kd_tree, leaf_size=18, n_neighbors=11;, score=0.929 total time=   6.3s\n",
      "[CV 2/5] END algorithm=kd_tree, leaf_size=18, n_neighbors=11;, score=0.928 total time=   5.9s\n",
      "[CV 3/5] END algorithm=kd_tree, leaf_size=18, n_neighbors=11;, score=0.932 total time=   6.0s\n",
      "[CV 4/5] END algorithm=kd_tree, leaf_size=18, n_neighbors=11;, score=0.920 total time=   5.9s\n",
      "[CV 5/5] END algorithm=kd_tree, leaf_size=18, n_neighbors=11;, score=0.927 total time=   6.0s\n",
      "[CV 1/5] END algorithm=kd_tree, leaf_size=18, n_neighbors=12;, score=0.931 total time=   6.0s\n",
      "[CV 2/5] END algorithm=kd_tree, leaf_size=18, n_neighbors=12;, score=0.929 total time=   5.9s\n",
      "[CV 3/5] END algorithm=kd_tree, leaf_size=18, n_neighbors=12;, score=0.935 total time=   6.5s\n",
      "[CV 4/5] END algorithm=kd_tree, leaf_size=18, n_neighbors=12;, score=0.922 total time=   6.6s\n",
      "[CV 5/5] END algorithm=kd_tree, leaf_size=18, n_neighbors=12;, score=0.929 total time=   6.5s\n",
      "[CV 1/5] END algorithm=kd_tree, leaf_size=18, n_neighbors=13;, score=0.923 total time=   6.0s\n",
      "[CV 2/5] END algorithm=kd_tree, leaf_size=18, n_neighbors=13;, score=0.920 total time=   6.3s\n",
      "[CV 3/5] END algorithm=kd_tree, leaf_size=18, n_neighbors=13;, score=0.929 total time=   6.5s\n",
      "[CV 4/5] END algorithm=kd_tree, leaf_size=18, n_neighbors=13;, score=0.913 total time=   6.1s\n",
      "[CV 5/5] END algorithm=kd_tree, leaf_size=18, n_neighbors=13;, score=0.923 total time=   6.7s\n",
      "[CV 1/5] END algorithm=kd_tree, leaf_size=20, n_neighbors=3;, score=0.955 total time=   5.1s\n",
      "[CV 2/5] END algorithm=kd_tree, leaf_size=20, n_neighbors=3;, score=0.958 total time=   5.2s\n",
      "[CV 3/5] END algorithm=kd_tree, leaf_size=20, n_neighbors=3;, score=0.963 total time=   5.1s\n",
      "[CV 4/5] END algorithm=kd_tree, leaf_size=20, n_neighbors=3;, score=0.952 total time=   5.0s\n",
      "[CV 5/5] END algorithm=kd_tree, leaf_size=20, n_neighbors=3;, score=0.953 total time=   5.6s\n",
      "[CV 1/5] END algorithm=kd_tree, leaf_size=20, n_neighbors=5;, score=0.948 total time=   5.3s\n",
      "[CV 2/5] END algorithm=kd_tree, leaf_size=20, n_neighbors=5;, score=0.948 total time=   5.0s\n",
      "[CV 3/5] END algorithm=kd_tree, leaf_size=20, n_neighbors=5;, score=0.955 total time=   5.1s\n",
      "[CV 4/5] END algorithm=kd_tree, leaf_size=20, n_neighbors=5;, score=0.939 total time=   4.7s\n",
      "[CV 5/5] END algorithm=kd_tree, leaf_size=20, n_neighbors=5;, score=0.948 total time=   5.0s\n",
      "[CV 1/5] END algorithm=kd_tree, leaf_size=20, n_neighbors=7;, score=0.942 total time=   5.9s\n",
      "[CV 2/5] END algorithm=kd_tree, leaf_size=20, n_neighbors=7;, score=0.940 total time=   5.6s\n",
      "[CV 3/5] END algorithm=kd_tree, leaf_size=20, n_neighbors=7;, score=0.945 total time=   5.8s\n",
      "[CV 4/5] END algorithm=kd_tree, leaf_size=20, n_neighbors=7;, score=0.931 total time=   5.9s\n",
      "[CV 5/5] END algorithm=kd_tree, leaf_size=20, n_neighbors=7;, score=0.939 total time=   5.4s\n",
      "[CV 1/5] END algorithm=kd_tree, leaf_size=20, n_neighbors=9;, score=0.933 total time=   5.2s\n",
      "[CV 2/5] END algorithm=kd_tree, leaf_size=20, n_neighbors=9;, score=0.934 total time=   5.5s\n",
      "[CV 3/5] END algorithm=kd_tree, leaf_size=20, n_neighbors=9;, score=0.938 total time=   5.9s\n",
      "[CV 4/5] END algorithm=kd_tree, leaf_size=20, n_neighbors=9;, score=0.926 total time=   5.1s\n",
      "[CV 5/5] END algorithm=kd_tree, leaf_size=20, n_neighbors=9;, score=0.933 total time=   5.2s\n",
      "[CV 1/5] END algorithm=kd_tree, leaf_size=20, n_neighbors=10;, score=0.936 total time=   5.3s\n",
      "[CV 2/5] END algorithm=kd_tree, leaf_size=20, n_neighbors=10;, score=0.936 total time=   5.5s\n",
      "[CV 3/5] END algorithm=kd_tree, leaf_size=20, n_neighbors=10;, score=0.939 total time=   5.6s\n",
      "[CV 4/5] END algorithm=kd_tree, leaf_size=20, n_neighbors=10;, score=0.928 total time=   5.6s\n",
      "[CV 5/5] END algorithm=kd_tree, leaf_size=20, n_neighbors=10;, score=0.937 total time=   5.5s\n",
      "[CV 1/5] END algorithm=kd_tree, leaf_size=20, n_neighbors=11;, score=0.929 total time=   5.7s\n"
     ]
    },
    {
     "name": "stdout",
     "output_type": "stream",
     "text": [
      "[CV 2/5] END algorithm=kd_tree, leaf_size=20, n_neighbors=11;, score=0.928 total time=   5.3s\n",
      "[CV 3/5] END algorithm=kd_tree, leaf_size=20, n_neighbors=11;, score=0.932 total time=   5.6s\n",
      "[CV 4/5] END algorithm=kd_tree, leaf_size=20, n_neighbors=11;, score=0.920 total time=   5.8s\n",
      "[CV 5/5] END algorithm=kd_tree, leaf_size=20, n_neighbors=11;, score=0.927 total time=   5.6s\n",
      "[CV 1/5] END algorithm=kd_tree, leaf_size=20, n_neighbors=12;, score=0.931 total time=   5.4s\n",
      "[CV 2/5] END algorithm=kd_tree, leaf_size=20, n_neighbors=12;, score=0.929 total time=   5.6s\n",
      "[CV 3/5] END algorithm=kd_tree, leaf_size=20, n_neighbors=12;, score=0.935 total time=   5.6s\n",
      "[CV 4/5] END algorithm=kd_tree, leaf_size=20, n_neighbors=12;, score=0.922 total time=   5.6s\n",
      "[CV 5/5] END algorithm=kd_tree, leaf_size=20, n_neighbors=12;, score=0.929 total time=   5.6s\n",
      "[CV 1/5] END algorithm=kd_tree, leaf_size=20, n_neighbors=13;, score=0.923 total time=   5.8s\n",
      "[CV 2/5] END algorithm=kd_tree, leaf_size=20, n_neighbors=13;, score=0.920 total time=   5.4s\n",
      "[CV 3/5] END algorithm=kd_tree, leaf_size=20, n_neighbors=13;, score=0.929 total time=   5.9s\n",
      "[CV 4/5] END algorithm=kd_tree, leaf_size=20, n_neighbors=13;, score=0.913 total time=   5.6s\n",
      "[CV 5/5] END algorithm=kd_tree, leaf_size=20, n_neighbors=13;, score=0.923 total time=   5.8s\n",
      "[CV 1/5] END algorithm=kd_tree, leaf_size=25, n_neighbors=3;, score=0.955 total time=   5.2s\n",
      "[CV 2/5] END algorithm=kd_tree, leaf_size=25, n_neighbors=3;, score=0.958 total time=   5.1s\n",
      "[CV 3/5] END algorithm=kd_tree, leaf_size=25, n_neighbors=3;, score=0.963 total time=   5.0s\n",
      "[CV 4/5] END algorithm=kd_tree, leaf_size=25, n_neighbors=3;, score=0.952 total time=   5.0s\n",
      "[CV 5/5] END algorithm=kd_tree, leaf_size=25, n_neighbors=3;, score=0.953 total time=   5.1s\n",
      "[CV 1/5] END algorithm=kd_tree, leaf_size=25, n_neighbors=5;, score=0.948 total time=   5.0s\n",
      "[CV 2/5] END algorithm=kd_tree, leaf_size=25, n_neighbors=5;, score=0.948 total time=   5.1s\n",
      "[CV 3/5] END algorithm=kd_tree, leaf_size=25, n_neighbors=5;, score=0.955 total time=   5.1s\n",
      "[CV 4/5] END algorithm=kd_tree, leaf_size=25, n_neighbors=5;, score=0.939 total time=   5.0s\n",
      "[CV 5/5] END algorithm=kd_tree, leaf_size=25, n_neighbors=5;, score=0.948 total time=   5.1s\n",
      "[CV 1/5] END algorithm=kd_tree, leaf_size=25, n_neighbors=7;, score=0.942 total time=   5.2s\n",
      "[CV 2/5] END algorithm=kd_tree, leaf_size=25, n_neighbors=7;, score=0.940 total time=   5.2s\n",
      "[CV 3/5] END algorithm=kd_tree, leaf_size=25, n_neighbors=7;, score=0.945 total time=   5.7s\n",
      "[CV 4/5] END algorithm=kd_tree, leaf_size=25, n_neighbors=7;, score=0.931 total time=   5.4s\n",
      "[CV 5/5] END algorithm=kd_tree, leaf_size=25, n_neighbors=7;, score=0.939 total time=   5.3s\n",
      "[CV 1/5] END algorithm=kd_tree, leaf_size=25, n_neighbors=9;, score=0.933 total time=   5.4s\n",
      "[CV 2/5] END algorithm=kd_tree, leaf_size=25, n_neighbors=9;, score=0.934 total time=   5.3s\n",
      "[CV 3/5] END algorithm=kd_tree, leaf_size=25, n_neighbors=9;, score=0.938 total time=   5.3s\n",
      "[CV 4/5] END algorithm=kd_tree, leaf_size=25, n_neighbors=9;, score=0.926 total time=   5.3s\n",
      "[CV 5/5] END algorithm=kd_tree, leaf_size=25, n_neighbors=9;, score=0.933 total time=   5.3s\n",
      "[CV 1/5] END algorithm=kd_tree, leaf_size=25, n_neighbors=10;, score=0.936 total time=   5.3s\n",
      "[CV 2/5] END algorithm=kd_tree, leaf_size=25, n_neighbors=10;, score=0.936 total time=   5.4s\n",
      "[CV 3/5] END algorithm=kd_tree, leaf_size=25, n_neighbors=10;, score=0.939 total time=   5.3s\n",
      "[CV 4/5] END algorithm=kd_tree, leaf_size=25, n_neighbors=10;, score=0.928 total time=   5.4s\n",
      "[CV 5/5] END algorithm=kd_tree, leaf_size=25, n_neighbors=10;, score=0.937 total time=   5.4s\n",
      "[CV 1/5] END algorithm=kd_tree, leaf_size=25, n_neighbors=11;, score=0.929 total time=   5.4s\n",
      "[CV 2/5] END algorithm=kd_tree, leaf_size=25, n_neighbors=11;, score=0.928 total time=   6.2s\n",
      "[CV 3/5] END algorithm=kd_tree, leaf_size=25, n_neighbors=11;, score=0.932 total time=   5.4s\n",
      "[CV 4/5] END algorithm=kd_tree, leaf_size=25, n_neighbors=11;, score=0.920 total time=   6.0s\n",
      "[CV 5/5] END algorithm=kd_tree, leaf_size=25, n_neighbors=11;, score=0.927 total time=   6.6s\n",
      "[CV 1/5] END algorithm=kd_tree, leaf_size=25, n_neighbors=12;, score=0.931 total time=   5.7s\n",
      "[CV 2/5] END algorithm=kd_tree, leaf_size=25, n_neighbors=12;, score=0.929 total time=   5.6s\n",
      "[CV 3/5] END algorithm=kd_tree, leaf_size=25, n_neighbors=12;, score=0.935 total time=   5.7s\n",
      "[CV 4/5] END algorithm=kd_tree, leaf_size=25, n_neighbors=12;, score=0.922 total time=   5.6s\n",
      "[CV 5/5] END algorithm=kd_tree, leaf_size=25, n_neighbors=12;, score=0.929 total time=   5.8s\n",
      "[CV 1/5] END algorithm=kd_tree, leaf_size=25, n_neighbors=13;, score=0.923 total time=   5.8s\n",
      "[CV 2/5] END algorithm=kd_tree, leaf_size=25, n_neighbors=13;, score=0.920 total time=   5.9s\n",
      "[CV 3/5] END algorithm=kd_tree, leaf_size=25, n_neighbors=13;, score=0.929 total time=   5.7s\n",
      "[CV 4/5] END algorithm=kd_tree, leaf_size=25, n_neighbors=13;, score=0.913 total time=   5.7s\n",
      "[CV 5/5] END algorithm=kd_tree, leaf_size=25, n_neighbors=13;, score=0.923 total time=   5.8s\n",
      "[CV 1/5] END algorithm=kd_tree, leaf_size=27, n_neighbors=3;, score=0.955 total time=   5.0s\n",
      "[CV 2/5] END algorithm=kd_tree, leaf_size=27, n_neighbors=3;, score=0.958 total time=   4.9s\n",
      "[CV 3/5] END algorithm=kd_tree, leaf_size=27, n_neighbors=3;, score=0.963 total time=   5.2s\n",
      "[CV 4/5] END algorithm=kd_tree, leaf_size=27, n_neighbors=3;, score=0.952 total time=   5.7s\n",
      "[CV 5/5] END algorithm=kd_tree, leaf_size=27, n_neighbors=3;, score=0.953 total time=   5.1s\n",
      "[CV 1/5] END algorithm=kd_tree, leaf_size=27, n_neighbors=5;, score=0.948 total time=   5.1s\n",
      "[CV 2/5] END algorithm=kd_tree, leaf_size=27, n_neighbors=5;, score=0.948 total time=   5.3s\n",
      "[CV 3/5] END algorithm=kd_tree, leaf_size=27, n_neighbors=5;, score=0.955 total time=   5.6s\n",
      "[CV 4/5] END algorithm=kd_tree, leaf_size=27, n_neighbors=5;, score=0.939 total time=   5.5s\n",
      "[CV 5/5] END algorithm=kd_tree, leaf_size=27, n_neighbors=5;, score=0.948 total time=   5.2s\n",
      "[CV 1/5] END algorithm=kd_tree, leaf_size=27, n_neighbors=7;, score=0.942 total time=   5.2s\n",
      "[CV 2/5] END algorithm=kd_tree, leaf_size=27, n_neighbors=7;, score=0.940 total time=   5.3s\n",
      "[CV 3/5] END algorithm=kd_tree, leaf_size=27, n_neighbors=7;, score=0.945 total time=   5.6s\n",
      "[CV 4/5] END algorithm=kd_tree, leaf_size=27, n_neighbors=7;, score=0.931 total time=   5.5s\n",
      "[CV 5/5] END algorithm=kd_tree, leaf_size=27, n_neighbors=7;, score=0.939 total time=   5.2s\n",
      "[CV 1/5] END algorithm=kd_tree, leaf_size=27, n_neighbors=9;, score=0.933 total time=   5.4s\n",
      "[CV 2/5] END algorithm=kd_tree, leaf_size=27, n_neighbors=9;, score=0.934 total time=   5.4s\n",
      "[CV 3/5] END algorithm=kd_tree, leaf_size=27, n_neighbors=9;, score=0.938 total time=   5.7s\n",
      "[CV 4/5] END algorithm=kd_tree, leaf_size=27, n_neighbors=9;, score=0.926 total time=   5.4s\n",
      "[CV 5/5] END algorithm=kd_tree, leaf_size=27, n_neighbors=9;, score=0.933 total time=   5.5s\n",
      "[CV 1/5] END algorithm=kd_tree, leaf_size=27, n_neighbors=10;, score=0.936 total time=   5.8s\n",
      "[CV 2/5] END algorithm=kd_tree, leaf_size=27, n_neighbors=10;, score=0.936 total time=   5.5s\n",
      "[CV 3/5] END algorithm=kd_tree, leaf_size=27, n_neighbors=10;, score=0.939 total time=   5.3s\n",
      "[CV 4/5] END algorithm=kd_tree, leaf_size=27, n_neighbors=10;, score=0.928 total time=   6.0s\n",
      "[CV 5/5] END algorithm=kd_tree, leaf_size=27, n_neighbors=10;, score=0.937 total time=   5.5s\n",
      "[CV 1/5] END algorithm=kd_tree, leaf_size=27, n_neighbors=11;, score=0.929 total time=   5.8s\n",
      "[CV 2/5] END algorithm=kd_tree, leaf_size=27, n_neighbors=11;, score=0.928 total time=   5.5s\n",
      "[CV 3/5] END algorithm=kd_tree, leaf_size=27, n_neighbors=11;, score=0.932 total time=   5.7s\n",
      "[CV 4/5] END algorithm=kd_tree, leaf_size=27, n_neighbors=11;, score=0.920 total time=   5.8s\n",
      "[CV 5/5] END algorithm=kd_tree, leaf_size=27, n_neighbors=11;, score=0.927 total time=   5.2s\n",
      "[CV 1/5] END algorithm=kd_tree, leaf_size=27, n_neighbors=12;, score=0.931 total time=   5.7s\n",
      "[CV 2/5] END algorithm=kd_tree, leaf_size=27, n_neighbors=12;, score=0.929 total time=   5.9s\n",
      "[CV 3/5] END algorithm=kd_tree, leaf_size=27, n_neighbors=12;, score=0.935 total time=   5.6s\n",
      "[CV 4/5] END algorithm=kd_tree, leaf_size=27, n_neighbors=12;, score=0.922 total time=   5.2s\n"
     ]
    },
    {
     "name": "stdout",
     "output_type": "stream",
     "text": [
      "[CV 5/5] END algorithm=kd_tree, leaf_size=27, n_neighbors=12;, score=0.929 total time=   5.8s\n",
      "[CV 1/5] END algorithm=kd_tree, leaf_size=27, n_neighbors=13;, score=0.923 total time=   5.6s\n",
      "[CV 2/5] END algorithm=kd_tree, leaf_size=27, n_neighbors=13;, score=0.920 total time=   5.5s\n",
      "[CV 3/5] END algorithm=kd_tree, leaf_size=27, n_neighbors=13;, score=0.929 total time=   5.5s\n",
      "[CV 4/5] END algorithm=kd_tree, leaf_size=27, n_neighbors=13;, score=0.913 total time=   5.4s\n",
      "[CV 5/5] END algorithm=kd_tree, leaf_size=27, n_neighbors=13;, score=0.923 total time=   5.4s\n",
      "[CV 1/5] END algorithm=kd_tree, leaf_size=30, n_neighbors=3;, score=0.955 total time=   5.1s\n",
      "[CV 2/5] END algorithm=kd_tree, leaf_size=30, n_neighbors=3;, score=0.958 total time=   5.0s\n",
      "[CV 3/5] END algorithm=kd_tree, leaf_size=30, n_neighbors=3;, score=0.963 total time=   5.1s\n",
      "[CV 4/5] END algorithm=kd_tree, leaf_size=30, n_neighbors=3;, score=0.952 total time=   5.2s\n",
      "[CV 5/5] END algorithm=kd_tree, leaf_size=30, n_neighbors=3;, score=0.953 total time=   4.9s\n",
      "[CV 1/5] END algorithm=kd_tree, leaf_size=30, n_neighbors=5;, score=0.948 total time=   5.4s\n",
      "[CV 2/5] END algorithm=kd_tree, leaf_size=30, n_neighbors=5;, score=0.948 total time=   5.0s\n",
      "[CV 3/5] END algorithm=kd_tree, leaf_size=30, n_neighbors=5;, score=0.955 total time=   5.0s\n",
      "[CV 4/5] END algorithm=kd_tree, leaf_size=30, n_neighbors=5;, score=0.939 total time=   5.0s\n",
      "[CV 5/5] END algorithm=kd_tree, leaf_size=30, n_neighbors=5;, score=0.948 total time=   4.9s\n",
      "[CV 1/5] END algorithm=kd_tree, leaf_size=30, n_neighbors=7;, score=0.942 total time=   5.4s\n",
      "[CV 2/5] END algorithm=kd_tree, leaf_size=30, n_neighbors=7;, score=0.940 total time=   5.5s\n",
      "[CV 3/5] END algorithm=kd_tree, leaf_size=30, n_neighbors=7;, score=0.945 total time=   5.6s\n",
      "[CV 4/5] END algorithm=kd_tree, leaf_size=30, n_neighbors=7;, score=0.931 total time=   5.3s\n",
      "[CV 5/5] END algorithm=kd_tree, leaf_size=30, n_neighbors=7;, score=0.939 total time=   5.4s\n",
      "[CV 1/5] END algorithm=kd_tree, leaf_size=30, n_neighbors=9;, score=0.933 total time=   5.5s\n",
      "[CV 2/5] END algorithm=kd_tree, leaf_size=30, n_neighbors=9;, score=0.934 total time=   5.2s\n",
      "[CV 3/5] END algorithm=kd_tree, leaf_size=30, n_neighbors=9;, score=0.938 total time=   5.4s\n",
      "[CV 4/5] END algorithm=kd_tree, leaf_size=30, n_neighbors=9;, score=0.926 total time=   5.2s\n",
      "[CV 5/5] END algorithm=kd_tree, leaf_size=30, n_neighbors=9;, score=0.933 total time=   5.4s\n",
      "[CV 1/5] END algorithm=kd_tree, leaf_size=30, n_neighbors=10;, score=0.936 total time=   5.7s\n",
      "[CV 2/5] END algorithm=kd_tree, leaf_size=30, n_neighbors=10;, score=0.936 total time=   5.3s\n",
      "[CV 3/5] END algorithm=kd_tree, leaf_size=30, n_neighbors=10;, score=0.939 total time=   5.5s\n",
      "[CV 4/5] END algorithm=kd_tree, leaf_size=30, n_neighbors=10;, score=0.928 total time=   5.3s\n",
      "[CV 5/5] END algorithm=kd_tree, leaf_size=30, n_neighbors=10;, score=0.937 total time=   5.3s\n",
      "[CV 1/5] END algorithm=kd_tree, leaf_size=30, n_neighbors=11;, score=0.929 total time=   5.3s\n",
      "[CV 2/5] END algorithm=kd_tree, leaf_size=30, n_neighbors=11;, score=0.928 total time=   5.3s\n",
      "[CV 3/5] END algorithm=kd_tree, leaf_size=30, n_neighbors=11;, score=0.932 total time=   5.6s\n",
      "[CV 4/5] END algorithm=kd_tree, leaf_size=30, n_neighbors=11;, score=0.920 total time=   5.4s\n",
      "[CV 5/5] END algorithm=kd_tree, leaf_size=30, n_neighbors=11;, score=0.927 total time=   5.5s\n",
      "[CV 1/5] END algorithm=kd_tree, leaf_size=30, n_neighbors=12;, score=0.931 total time=   5.4s\n",
      "[CV 2/5] END algorithm=kd_tree, leaf_size=30, n_neighbors=12;, score=0.929 total time=   5.3s\n",
      "[CV 3/5] END algorithm=kd_tree, leaf_size=30, n_neighbors=12;, score=0.935 total time=   5.5s\n",
      "[CV 4/5] END algorithm=kd_tree, leaf_size=30, n_neighbors=12;, score=0.922 total time=   5.5s\n",
      "[CV 5/5] END algorithm=kd_tree, leaf_size=30, n_neighbors=12;, score=0.929 total time=   5.6s\n",
      "[CV 1/5] END algorithm=kd_tree, leaf_size=30, n_neighbors=13;, score=0.923 total time=   5.7s\n",
      "[CV 2/5] END algorithm=kd_tree, leaf_size=30, n_neighbors=13;, score=0.920 total time=   5.5s\n",
      "[CV 3/5] END algorithm=kd_tree, leaf_size=30, n_neighbors=13;, score=0.929 total time=   5.8s\n",
      "[CV 4/5] END algorithm=kd_tree, leaf_size=30, n_neighbors=13;, score=0.913 total time=   5.5s\n",
      "[CV 5/5] END algorithm=kd_tree, leaf_size=30, n_neighbors=13;, score=0.923 total time=   5.4s\n",
      "[CV 1/5] END algorithm=kd_tree, leaf_size=32, n_neighbors=3;, score=0.955 total time=   4.8s\n",
      "[CV 2/5] END algorithm=kd_tree, leaf_size=32, n_neighbors=3;, score=0.958 total time=   4.8s\n",
      "[CV 3/5] END algorithm=kd_tree, leaf_size=32, n_neighbors=3;, score=0.963 total time=   4.9s\n",
      "[CV 4/5] END algorithm=kd_tree, leaf_size=32, n_neighbors=3;, score=0.952 total time=   4.9s\n",
      "[CV 5/5] END algorithm=kd_tree, leaf_size=32, n_neighbors=3;, score=0.953 total time=   4.9s\n",
      "[CV 1/5] END algorithm=kd_tree, leaf_size=32, n_neighbors=5;, score=0.948 total time=   5.0s\n",
      "[CV 2/5] END algorithm=kd_tree, leaf_size=32, n_neighbors=5;, score=0.948 total time=   5.4s\n",
      "[CV 3/5] END algorithm=kd_tree, leaf_size=32, n_neighbors=5;, score=0.955 total time=   5.2s\n",
      "[CV 4/5] END algorithm=kd_tree, leaf_size=32, n_neighbors=5;, score=0.939 total time=   5.3s\n",
      "[CV 5/5] END algorithm=kd_tree, leaf_size=32, n_neighbors=5;, score=0.948 total time=   5.2s\n",
      "[CV 1/5] END algorithm=kd_tree, leaf_size=32, n_neighbors=7;, score=0.942 total time=   5.1s\n",
      "[CV 2/5] END algorithm=kd_tree, leaf_size=32, n_neighbors=7;, score=0.940 total time=   5.2s\n",
      "[CV 3/5] END algorithm=kd_tree, leaf_size=32, n_neighbors=7;, score=0.945 total time=   5.3s\n",
      "[CV 4/5] END algorithm=kd_tree, leaf_size=32, n_neighbors=7;, score=0.931 total time=   5.3s\n",
      "[CV 5/5] END algorithm=kd_tree, leaf_size=32, n_neighbors=7;, score=0.939 total time=   5.3s\n",
      "[CV 1/5] END algorithm=kd_tree, leaf_size=32, n_neighbors=9;, score=0.933 total time=   5.4s\n",
      "[CV 2/5] END algorithm=kd_tree, leaf_size=32, n_neighbors=9;, score=0.934 total time=   5.3s\n",
      "[CV 3/5] END algorithm=kd_tree, leaf_size=32, n_neighbors=9;, score=0.938 total time=   5.6s\n",
      "[CV 4/5] END algorithm=kd_tree, leaf_size=32, n_neighbors=9;, score=0.926 total time=   5.2s\n",
      "[CV 5/5] END algorithm=kd_tree, leaf_size=32, n_neighbors=9;, score=0.933 total time=   5.6s\n",
      "[CV 1/5] END algorithm=kd_tree, leaf_size=32, n_neighbors=10;, score=0.936 total time=   5.6s\n",
      "[CV 2/5] END algorithm=kd_tree, leaf_size=32, n_neighbors=10;, score=0.936 total time=   5.4s\n",
      "[CV 3/5] END algorithm=kd_tree, leaf_size=32, n_neighbors=10;, score=0.939 total time=   5.7s\n",
      "[CV 4/5] END algorithm=kd_tree, leaf_size=32, n_neighbors=10;, score=0.928 total time=   6.1s\n",
      "[CV 5/5] END algorithm=kd_tree, leaf_size=32, n_neighbors=10;, score=0.937 total time=   6.0s\n",
      "[CV 1/5] END algorithm=kd_tree, leaf_size=32, n_neighbors=11;, score=0.929 total time=   5.9s\n",
      "[CV 2/5] END algorithm=kd_tree, leaf_size=32, n_neighbors=11;, score=0.928 total time=   5.4s\n",
      "[CV 3/5] END algorithm=kd_tree, leaf_size=32, n_neighbors=11;, score=0.932 total time=   5.4s\n",
      "[CV 4/5] END algorithm=kd_tree, leaf_size=32, n_neighbors=11;, score=0.920 total time=   5.3s\n",
      "[CV 5/5] END algorithm=kd_tree, leaf_size=32, n_neighbors=11;, score=0.927 total time=   5.6s\n",
      "[CV 1/5] END algorithm=kd_tree, leaf_size=32, n_neighbors=12;, score=0.931 total time=   5.3s\n",
      "[CV 2/5] END algorithm=kd_tree, leaf_size=32, n_neighbors=12;, score=0.929 total time=   5.3s\n",
      "[CV 3/5] END algorithm=kd_tree, leaf_size=32, n_neighbors=12;, score=0.935 total time=   5.4s\n",
      "[CV 4/5] END algorithm=kd_tree, leaf_size=32, n_neighbors=12;, score=0.922 total time=   5.4s\n",
      "[CV 5/5] END algorithm=kd_tree, leaf_size=32, n_neighbors=12;, score=0.929 total time=   5.8s\n",
      "[CV 1/5] END algorithm=kd_tree, leaf_size=32, n_neighbors=13;, score=0.923 total time=   5.6s\n",
      "[CV 2/5] END algorithm=kd_tree, leaf_size=32, n_neighbors=13;, score=0.920 total time=   5.4s\n",
      "[CV 3/5] END algorithm=kd_tree, leaf_size=32, n_neighbors=13;, score=0.929 total time=   5.4s\n",
      "[CV 4/5] END algorithm=kd_tree, leaf_size=32, n_neighbors=13;, score=0.913 total time=   5.5s\n",
      "[CV 5/5] END algorithm=kd_tree, leaf_size=32, n_neighbors=13;, score=0.923 total time=   5.5s\n",
      "[CV 1/5] END algorithm=kd_tree, leaf_size=34, n_neighbors=3;, score=0.955 total time=   4.8s\n",
      "[CV 2/5] END algorithm=kd_tree, leaf_size=34, n_neighbors=3;, score=0.958 total time=   4.8s\n"
     ]
    },
    {
     "name": "stdout",
     "output_type": "stream",
     "text": [
      "[CV 3/5] END algorithm=kd_tree, leaf_size=34, n_neighbors=3;, score=0.963 total time=   4.9s\n",
      "[CV 4/5] END algorithm=kd_tree, leaf_size=34, n_neighbors=3;, score=0.952 total time=   4.8s\n",
      "[CV 5/5] END algorithm=kd_tree, leaf_size=34, n_neighbors=3;, score=0.953 total time=   4.7s\n",
      "[CV 1/5] END algorithm=kd_tree, leaf_size=34, n_neighbors=5;, score=0.948 total time=   4.9s\n",
      "[CV 2/5] END algorithm=kd_tree, leaf_size=34, n_neighbors=5;, score=0.948 total time=   4.9s\n",
      "[CV 3/5] END algorithm=kd_tree, leaf_size=34, n_neighbors=5;, score=0.955 total time=   5.2s\n",
      "[CV 4/5] END algorithm=kd_tree, leaf_size=34, n_neighbors=5;, score=0.939 total time=   5.4s\n",
      "[CV 5/5] END algorithm=kd_tree, leaf_size=34, n_neighbors=5;, score=0.948 total time=   5.4s\n",
      "[CV 1/5] END algorithm=kd_tree, leaf_size=34, n_neighbors=7;, score=0.942 total time=   5.3s\n",
      "[CV 2/5] END algorithm=kd_tree, leaf_size=34, n_neighbors=7;, score=0.940 total time=   5.3s\n",
      "[CV 3/5] END algorithm=kd_tree, leaf_size=34, n_neighbors=7;, score=0.945 total time=   5.5s\n",
      "[CV 4/5] END algorithm=kd_tree, leaf_size=34, n_neighbors=7;, score=0.931 total time=   6.2s\n",
      "[CV 5/5] END algorithm=kd_tree, leaf_size=34, n_neighbors=7;, score=0.939 total time=   6.2s\n",
      "[CV 1/5] END algorithm=kd_tree, leaf_size=34, n_neighbors=9;, score=0.933 total time=   5.3s\n",
      "[CV 2/5] END algorithm=kd_tree, leaf_size=34, n_neighbors=9;, score=0.934 total time=   5.3s\n",
      "[CV 3/5] END algorithm=kd_tree, leaf_size=34, n_neighbors=9;, score=0.938 total time=   5.7s\n",
      "[CV 4/5] END algorithm=kd_tree, leaf_size=34, n_neighbors=9;, score=0.926 total time=   5.3s\n",
      "[CV 5/5] END algorithm=kd_tree, leaf_size=34, n_neighbors=9;, score=0.933 total time=   5.8s\n",
      "[CV 1/5] END algorithm=kd_tree, leaf_size=34, n_neighbors=10;, score=0.936 total time=   5.6s\n",
      "[CV 2/5] END algorithm=kd_tree, leaf_size=34, n_neighbors=10;, score=0.936 total time=   6.2s\n",
      "[CV 3/5] END algorithm=kd_tree, leaf_size=34, n_neighbors=10;, score=0.939 total time=   5.3s\n",
      "[CV 4/5] END algorithm=kd_tree, leaf_size=34, n_neighbors=10;, score=0.928 total time=   5.4s\n",
      "[CV 5/5] END algorithm=kd_tree, leaf_size=34, n_neighbors=10;, score=0.937 total time=   5.9s\n",
      "[CV 1/5] END algorithm=kd_tree, leaf_size=34, n_neighbors=11;, score=0.929 total time=   6.0s\n",
      "[CV 2/5] END algorithm=kd_tree, leaf_size=34, n_neighbors=11;, score=0.928 total time=   6.2s\n",
      "[CV 3/5] END algorithm=kd_tree, leaf_size=34, n_neighbors=11;, score=0.932 total time=   6.4s\n",
      "[CV 4/5] END algorithm=kd_tree, leaf_size=34, n_neighbors=11;, score=0.920 total time=   6.2s\n",
      "[CV 5/5] END algorithm=kd_tree, leaf_size=34, n_neighbors=11;, score=0.927 total time=   6.0s\n",
      "[CV 1/5] END algorithm=kd_tree, leaf_size=34, n_neighbors=12;, score=0.931 total time=   5.8s\n",
      "[CV 2/5] END algorithm=kd_tree, leaf_size=34, n_neighbors=12;, score=0.929 total time=   5.9s\n",
      "[CV 3/5] END algorithm=kd_tree, leaf_size=34, n_neighbors=12;, score=0.935 total time=   5.7s\n",
      "[CV 4/5] END algorithm=kd_tree, leaf_size=34, n_neighbors=12;, score=0.922 total time=   5.6s\n",
      "[CV 5/5] END algorithm=kd_tree, leaf_size=34, n_neighbors=12;, score=0.929 total time=   5.8s\n",
      "[CV 1/5] END algorithm=kd_tree, leaf_size=34, n_neighbors=13;, score=0.923 total time=   5.7s\n",
      "[CV 2/5] END algorithm=kd_tree, leaf_size=34, n_neighbors=13;, score=0.920 total time=   6.3s\n",
      "[CV 3/5] END algorithm=kd_tree, leaf_size=34, n_neighbors=13;, score=0.929 total time=   6.4s\n",
      "[CV 4/5] END algorithm=kd_tree, leaf_size=34, n_neighbors=13;, score=0.913 total time=   5.6s\n",
      "[CV 5/5] END algorithm=kd_tree, leaf_size=34, n_neighbors=13;, score=0.923 total time=   5.9s\n",
      "[CV 1/5] END algorithm=brute, leaf_size=18, n_neighbors=3;, score=0.955 total time=  57.0s\n",
      "[CV 2/5] END algorithm=brute, leaf_size=18, n_neighbors=3;, score=0.958 total time=  25.8s\n",
      "[CV 3/5] END algorithm=brute, leaf_size=18, n_neighbors=3;, score=0.963 total time=  30.7s\n",
      "[CV 4/5] END algorithm=brute, leaf_size=18, n_neighbors=3;, score=0.952 total time=  50.5s\n",
      "[CV 5/5] END algorithm=brute, leaf_size=18, n_neighbors=3;, score=0.953 total time=   9.3s\n",
      "[CV 1/5] END algorithm=brute, leaf_size=18, n_neighbors=5;, score=0.948 total time=   5.9s\n",
      "[CV 2/5] END algorithm=brute, leaf_size=18, n_neighbors=5;, score=0.948 total time=   5.0s\n",
      "[CV 3/5] END algorithm=brute, leaf_size=18, n_neighbors=5;, score=0.955 total time=   4.6s\n",
      "[CV 4/5] END algorithm=brute, leaf_size=18, n_neighbors=5;, score=0.939 total time=   5.5s\n",
      "[CV 5/5] END algorithm=brute, leaf_size=18, n_neighbors=5;, score=0.948 total time=   4.8s\n",
      "[CV 1/5] END algorithm=brute, leaf_size=18, n_neighbors=7;, score=0.942 total time=   7.8s\n",
      "[CV 2/5] END algorithm=brute, leaf_size=18, n_neighbors=7;, score=0.940 total time=   7.5s\n",
      "[CV 3/5] END algorithm=brute, leaf_size=18, n_neighbors=7;, score=0.945 total time=   6.5s\n",
      "[CV 4/5] END algorithm=brute, leaf_size=18, n_neighbors=7;, score=0.931 total time=  19.0s\n",
      "[CV 5/5] END algorithm=brute, leaf_size=18, n_neighbors=7;, score=0.939 total time=  13.6s\n",
      "[CV 1/5] END algorithm=brute, leaf_size=18, n_neighbors=9;, score=0.933 total time=  50.0s\n",
      "[CV 2/5] END algorithm=brute, leaf_size=18, n_neighbors=9;, score=0.934 total time=   4.4s\n",
      "[CV 3/5] END algorithm=brute, leaf_size=18, n_neighbors=9;, score=0.938 total time=   4.6s\n",
      "[CV 4/5] END algorithm=brute, leaf_size=18, n_neighbors=9;, score=0.926 total time=   4.4s\n",
      "[CV 5/5] END algorithm=brute, leaf_size=18, n_neighbors=9;, score=0.933 total time=   5.0s\n",
      "[CV 1/5] END algorithm=brute, leaf_size=18, n_neighbors=10;, score=0.936 total time=   5.0s\n",
      "[CV 2/5] END algorithm=brute, leaf_size=18, n_neighbors=10;, score=0.936 total time=   4.5s\n",
      "[CV 3/5] END algorithm=brute, leaf_size=18, n_neighbors=10;, score=0.939 total time=   4.5s\n",
      "[CV 4/5] END algorithm=brute, leaf_size=18, n_neighbors=10;, score=0.928 total time=   4.7s\n",
      "[CV 5/5] END algorithm=brute, leaf_size=18, n_neighbors=10;, score=0.937 total time=   4.7s\n",
      "[CV 1/5] END algorithm=brute, leaf_size=18, n_neighbors=11;, score=0.929 total time=   4.6s\n",
      "[CV 2/5] END algorithm=brute, leaf_size=18, n_neighbors=11;, score=0.928 total time=   4.7s\n",
      "[CV 3/5] END algorithm=brute, leaf_size=18, n_neighbors=11;, score=0.932 total time=   4.5s\n",
      "[CV 4/5] END algorithm=brute, leaf_size=18, n_neighbors=11;, score=0.920 total time=   4.7s\n",
      "[CV 5/5] END algorithm=brute, leaf_size=18, n_neighbors=11;, score=0.927 total time=   4.9s\n",
      "[CV 1/5] END algorithm=brute, leaf_size=18, n_neighbors=12;, score=0.931 total time=   4.8s\n",
      "[CV 2/5] END algorithm=brute, leaf_size=18, n_neighbors=12;, score=0.929 total time=   5.1s\n",
      "[CV 3/5] END algorithm=brute, leaf_size=18, n_neighbors=12;, score=0.935 total time=   4.5s\n",
      "[CV 4/5] END algorithm=brute, leaf_size=18, n_neighbors=12;, score=0.922 total time=   4.7s\n",
      "[CV 5/5] END algorithm=brute, leaf_size=18, n_neighbors=12;, score=0.929 total time=   4.5s\n",
      "[CV 1/5] END algorithm=brute, leaf_size=18, n_neighbors=13;, score=0.923 total time=   4.8s\n",
      "[CV 2/5] END algorithm=brute, leaf_size=18, n_neighbors=13;, score=0.920 total time=   4.9s\n",
      "[CV 3/5] END algorithm=brute, leaf_size=18, n_neighbors=13;, score=0.929 total time=   4.6s\n",
      "[CV 4/5] END algorithm=brute, leaf_size=18, n_neighbors=13;, score=0.913 total time=   4.7s\n",
      "[CV 5/5] END algorithm=brute, leaf_size=18, n_neighbors=13;, score=0.923 total time=   4.5s\n",
      "[CV 1/5] END algorithm=brute, leaf_size=20, n_neighbors=3;, score=0.955 total time=   3.8s\n",
      "[CV 2/5] END algorithm=brute, leaf_size=20, n_neighbors=3;, score=0.958 total time=   3.5s\n",
      "[CV 3/5] END algorithm=brute, leaf_size=20, n_neighbors=3;, score=0.963 total time=   3.6s\n",
      "[CV 4/5] END algorithm=brute, leaf_size=20, n_neighbors=3;, score=0.952 total time=   3.9s\n",
      "[CV 5/5] END algorithm=brute, leaf_size=20, n_neighbors=3;, score=0.953 total time=   3.7s\n",
      "[CV 1/5] END algorithm=brute, leaf_size=20, n_neighbors=5;, score=0.948 total time=   4.7s\n",
      "[CV 2/5] END algorithm=brute, leaf_size=20, n_neighbors=5;, score=0.948 total time=   4.6s\n",
      "[CV 3/5] END algorithm=brute, leaf_size=20, n_neighbors=5;, score=0.955 total time=   4.4s\n",
      "[CV 4/5] END algorithm=brute, leaf_size=20, n_neighbors=5;, score=0.939 total time=   4.3s\n",
      "[CV 5/5] END algorithm=brute, leaf_size=20, n_neighbors=5;, score=0.948 total time=   4.6s\n",
      "[CV 1/5] END algorithm=brute, leaf_size=20, n_neighbors=7;, score=0.942 total time=   4.8s\n"
     ]
    },
    {
     "name": "stdout",
     "output_type": "stream",
     "text": [
      "[CV 2/5] END algorithm=brute, leaf_size=20, n_neighbors=7;, score=0.940 total time=   4.7s\n",
      "[CV 3/5] END algorithm=brute, leaf_size=20, n_neighbors=7;, score=0.945 total time=   4.5s\n",
      "[CV 4/5] END algorithm=brute, leaf_size=20, n_neighbors=7;, score=0.931 total time=   4.7s\n",
      "[CV 5/5] END algorithm=brute, leaf_size=20, n_neighbors=7;, score=0.939 total time=   4.5s\n",
      "[CV 1/5] END algorithm=brute, leaf_size=20, n_neighbors=9;, score=0.933 total time=   4.8s\n",
      "[CV 2/5] END algorithm=brute, leaf_size=20, n_neighbors=9;, score=0.934 total time=   4.8s\n",
      "[CV 3/5] END algorithm=brute, leaf_size=20, n_neighbors=9;, score=0.938 total time=   5.1s\n",
      "[CV 4/5] END algorithm=brute, leaf_size=20, n_neighbors=9;, score=0.926 total time=   4.8s\n",
      "[CV 5/5] END algorithm=brute, leaf_size=20, n_neighbors=9;, score=0.933 total time=   4.4s\n",
      "[CV 1/5] END algorithm=brute, leaf_size=20, n_neighbors=10;, score=0.936 total time=   5.1s\n",
      "[CV 2/5] END algorithm=brute, leaf_size=20, n_neighbors=10;, score=0.936 total time=   4.6s\n",
      "[CV 3/5] END algorithm=brute, leaf_size=20, n_neighbors=10;, score=0.939 total time=   4.7s\n",
      "[CV 4/5] END algorithm=brute, leaf_size=20, n_neighbors=10;, score=0.928 total time=   4.9s\n",
      "[CV 5/5] END algorithm=brute, leaf_size=20, n_neighbors=10;, score=0.937 total time=   4.9s\n",
      "[CV 1/5] END algorithm=brute, leaf_size=20, n_neighbors=11;, score=0.929 total time=   4.7s\n",
      "[CV 2/5] END algorithm=brute, leaf_size=20, n_neighbors=11;, score=0.928 total time=   4.8s\n",
      "[CV 3/5] END algorithm=brute, leaf_size=20, n_neighbors=11;, score=0.932 total time=   4.4s\n",
      "[CV 4/5] END algorithm=brute, leaf_size=20, n_neighbors=11;, score=0.920 total time=   4.6s\n",
      "[CV 5/5] END algorithm=brute, leaf_size=20, n_neighbors=11;, score=0.927 total time=   4.6s\n",
      "[CV 1/5] END algorithm=brute, leaf_size=20, n_neighbors=12;, score=0.931 total time=   4.8s\n",
      "[CV 2/5] END algorithm=brute, leaf_size=20, n_neighbors=12;, score=0.929 total time=   4.4s\n",
      "[CV 3/5] END algorithm=brute, leaf_size=20, n_neighbors=12;, score=0.935 total time=   4.5s\n",
      "[CV 4/5] END algorithm=brute, leaf_size=20, n_neighbors=12;, score=0.922 total time=   4.7s\n",
      "[CV 5/5] END algorithm=brute, leaf_size=20, n_neighbors=12;, score=0.929 total time=   4.5s\n",
      "[CV 1/5] END algorithm=brute, leaf_size=20, n_neighbors=13;, score=0.923 total time=   4.9s\n",
      "[CV 2/5] END algorithm=brute, leaf_size=20, n_neighbors=13;, score=0.920 total time=   5.5s\n",
      "[CV 3/5] END algorithm=brute, leaf_size=20, n_neighbors=13;, score=0.929 total time=   5.9s\n",
      "[CV 4/5] END algorithm=brute, leaf_size=20, n_neighbors=13;, score=0.913 total time=   4.4s\n",
      "[CV 5/5] END algorithm=brute, leaf_size=20, n_neighbors=13;, score=0.923 total time=   4.9s\n",
      "[CV 1/5] END algorithm=brute, leaf_size=25, n_neighbors=3;, score=0.955 total time=   4.3s\n",
      "[CV 2/5] END algorithm=brute, leaf_size=25, n_neighbors=3;, score=0.958 total time=   3.8s\n",
      "[CV 3/5] END algorithm=brute, leaf_size=25, n_neighbors=3;, score=0.963 total time=   3.8s\n",
      "[CV 4/5] END algorithm=brute, leaf_size=25, n_neighbors=3;, score=0.952 total time=   3.7s\n",
      "[CV 5/5] END algorithm=brute, leaf_size=25, n_neighbors=3;, score=0.953 total time=   3.9s\n",
      "[CV 1/5] END algorithm=brute, leaf_size=25, n_neighbors=5;, score=0.948 total time=   4.8s\n",
      "[CV 2/5] END algorithm=brute, leaf_size=25, n_neighbors=5;, score=0.948 total time=   4.8s\n",
      "[CV 3/5] END algorithm=brute, leaf_size=25, n_neighbors=5;, score=0.955 total time=   4.5s\n",
      "[CV 4/5] END algorithm=brute, leaf_size=25, n_neighbors=5;, score=0.939 total time=   4.5s\n",
      "[CV 5/5] END algorithm=brute, leaf_size=25, n_neighbors=5;, score=0.948 total time=   4.8s\n",
      "[CV 1/5] END algorithm=brute, leaf_size=25, n_neighbors=7;, score=0.942 total time=   4.9s\n",
      "[CV 2/5] END algorithm=brute, leaf_size=25, n_neighbors=7;, score=0.940 total time=   5.1s\n",
      "[CV 3/5] END algorithm=brute, leaf_size=25, n_neighbors=7;, score=0.945 total time=   4.5s\n",
      "[CV 4/5] END algorithm=brute, leaf_size=25, n_neighbors=7;, score=0.931 total time=   4.8s\n",
      "[CV 5/5] END algorithm=brute, leaf_size=25, n_neighbors=7;, score=0.939 total time=   4.9s\n",
      "[CV 1/5] END algorithm=brute, leaf_size=25, n_neighbors=9;, score=0.933 total time=   4.8s\n",
      "[CV 2/5] END algorithm=brute, leaf_size=25, n_neighbors=9;, score=0.934 total time=   4.5s\n",
      "[CV 3/5] END algorithm=brute, leaf_size=25, n_neighbors=9;, score=0.938 total time=   4.4s\n",
      "[CV 4/5] END algorithm=brute, leaf_size=25, n_neighbors=9;, score=0.926 total time=   4.5s\n",
      "[CV 5/5] END algorithm=brute, leaf_size=25, n_neighbors=9;, score=0.933 total time=   4.4s\n",
      "[CV 1/5] END algorithm=brute, leaf_size=25, n_neighbors=10;, score=0.936 total time=   4.6s\n",
      "[CV 2/5] END algorithm=brute, leaf_size=25, n_neighbors=10;, score=0.936 total time=   4.7s\n",
      "[CV 3/5] END algorithm=brute, leaf_size=25, n_neighbors=10;, score=0.939 total time=   4.3s\n",
      "[CV 4/5] END algorithm=brute, leaf_size=25, n_neighbors=10;, score=0.928 total time=   4.5s\n",
      "[CV 5/5] END algorithm=brute, leaf_size=25, n_neighbors=10;, score=0.937 total time=   4.8s\n",
      "[CV 1/5] END algorithm=brute, leaf_size=25, n_neighbors=11;, score=0.929 total time=   4.7s\n",
      "[CV 2/5] END algorithm=brute, leaf_size=25, n_neighbors=11;, score=0.928 total time=   4.8s\n",
      "[CV 3/5] END algorithm=brute, leaf_size=25, n_neighbors=11;, score=0.932 total time=   4.7s\n",
      "[CV 4/5] END algorithm=brute, leaf_size=25, n_neighbors=11;, score=0.920 total time=   4.6s\n",
      "[CV 5/5] END algorithm=brute, leaf_size=25, n_neighbors=11;, score=0.927 total time=   4.8s\n",
      "[CV 1/5] END algorithm=brute, leaf_size=25, n_neighbors=12;, score=0.931 total time=   4.9s\n",
      "[CV 2/5] END algorithm=brute, leaf_size=25, n_neighbors=12;, score=0.929 total time=   5.1s\n",
      "[CV 3/5] END algorithm=brute, leaf_size=25, n_neighbors=12;, score=0.935 total time=   4.8s\n",
      "[CV 4/5] END algorithm=brute, leaf_size=25, n_neighbors=12;, score=0.922 total time=   4.7s\n",
      "[CV 5/5] END algorithm=brute, leaf_size=25, n_neighbors=12;, score=0.929 total time=   4.6s\n",
      "[CV 1/5] END algorithm=brute, leaf_size=25, n_neighbors=13;, score=0.923 total time=   4.8s\n",
      "[CV 2/5] END algorithm=brute, leaf_size=25, n_neighbors=13;, score=0.920 total time=   4.7s\n",
      "[CV 3/5] END algorithm=brute, leaf_size=25, n_neighbors=13;, score=0.929 total time=   4.7s\n",
      "[CV 4/5] END algorithm=brute, leaf_size=25, n_neighbors=13;, score=0.913 total time=   4.5s\n",
      "[CV 5/5] END algorithm=brute, leaf_size=25, n_neighbors=13;, score=0.923 total time=   4.5s\n",
      "[CV 1/5] END algorithm=brute, leaf_size=27, n_neighbors=3;, score=0.955 total time=   3.9s\n",
      "[CV 2/5] END algorithm=brute, leaf_size=27, n_neighbors=3;, score=0.958 total time=   4.2s\n",
      "[CV 3/5] END algorithm=brute, leaf_size=27, n_neighbors=3;, score=0.963 total time=   4.0s\n",
      "[CV 4/5] END algorithm=brute, leaf_size=27, n_neighbors=3;, score=0.952 total time=   4.0s\n",
      "[CV 5/5] END algorithm=brute, leaf_size=27, n_neighbors=3;, score=0.953 total time=   3.9s\n",
      "[CV 1/5] END algorithm=brute, leaf_size=27, n_neighbors=5;, score=0.948 total time=   4.8s\n",
      "[CV 2/5] END algorithm=brute, leaf_size=27, n_neighbors=5;, score=0.948 total time=   4.8s\n",
      "[CV 3/5] END algorithm=brute, leaf_size=27, n_neighbors=5;, score=0.955 total time=   5.2s\n",
      "[CV 4/5] END algorithm=brute, leaf_size=27, n_neighbors=5;, score=0.939 total time=   4.4s\n",
      "[CV 5/5] END algorithm=brute, leaf_size=27, n_neighbors=5;, score=0.948 total time=   4.2s\n",
      "[CV 1/5] END algorithm=brute, leaf_size=27, n_neighbors=7;, score=0.942 total time=   4.7s\n",
      "[CV 2/5] END algorithm=brute, leaf_size=27, n_neighbors=7;, score=0.940 total time=   4.9s\n",
      "[CV 3/5] END algorithm=brute, leaf_size=27, n_neighbors=7;, score=0.945 total time=   4.4s\n",
      "[CV 4/5] END algorithm=brute, leaf_size=27, n_neighbors=7;, score=0.931 total time=   5.1s\n",
      "[CV 5/5] END algorithm=brute, leaf_size=27, n_neighbors=7;, score=0.939 total time=   4.6s\n",
      "[CV 1/5] END algorithm=brute, leaf_size=27, n_neighbors=9;, score=0.933 total time=   5.5s\n",
      "[CV 2/5] END algorithm=brute, leaf_size=27, n_neighbors=9;, score=0.934 total time=   4.6s\n",
      "[CV 3/5] END algorithm=brute, leaf_size=27, n_neighbors=9;, score=0.938 total time=   4.8s\n",
      "[CV 4/5] END algorithm=brute, leaf_size=27, n_neighbors=9;, score=0.926 total time=   4.7s\n",
      "[CV 5/5] END algorithm=brute, leaf_size=27, n_neighbors=9;, score=0.933 total time=   4.9s\n",
      "[CV 1/5] END algorithm=brute, leaf_size=27, n_neighbors=10;, score=0.936 total time=   5.4s\n"
     ]
    },
    {
     "name": "stdout",
     "output_type": "stream",
     "text": [
      "[CV 2/5] END algorithm=brute, leaf_size=27, n_neighbors=10;, score=0.936 total time=   4.8s\n",
      "[CV 3/5] END algorithm=brute, leaf_size=27, n_neighbors=10;, score=0.939 total time=   4.5s\n",
      "[CV 4/5] END algorithm=brute, leaf_size=27, n_neighbors=10;, score=0.928 total time=   5.1s\n",
      "[CV 5/5] END algorithm=brute, leaf_size=27, n_neighbors=10;, score=0.937 total time=   4.6s\n",
      "[CV 1/5] END algorithm=brute, leaf_size=27, n_neighbors=11;, score=0.929 total time=   4.8s\n",
      "[CV 2/5] END algorithm=brute, leaf_size=27, n_neighbors=11;, score=0.928 total time=   4.6s\n",
      "[CV 3/5] END algorithm=brute, leaf_size=27, n_neighbors=11;, score=0.932 total time=   4.3s\n",
      "[CV 4/5] END algorithm=brute, leaf_size=27, n_neighbors=11;, score=0.920 total time=   4.5s\n",
      "[CV 5/5] END algorithm=brute, leaf_size=27, n_neighbors=11;, score=0.927 total time=   4.7s\n",
      "[CV 1/5] END algorithm=brute, leaf_size=27, n_neighbors=12;, score=0.931 total time=   5.0s\n",
      "[CV 2/5] END algorithm=brute, leaf_size=27, n_neighbors=12;, score=0.929 total time=   5.0s\n",
      "[CV 3/5] END algorithm=brute, leaf_size=27, n_neighbors=12;, score=0.935 total time=   4.6s\n",
      "[CV 4/5] END algorithm=brute, leaf_size=27, n_neighbors=12;, score=0.922 total time=   4.5s\n",
      "[CV 5/5] END algorithm=brute, leaf_size=27, n_neighbors=12;, score=0.929 total time=   4.6s\n",
      "[CV 1/5] END algorithm=brute, leaf_size=27, n_neighbors=13;, score=0.923 total time=   4.9s\n",
      "[CV 2/5] END algorithm=brute, leaf_size=27, n_neighbors=13;, score=0.920 total time=   4.6s\n",
      "[CV 3/5] END algorithm=brute, leaf_size=27, n_neighbors=13;, score=0.929 total time=   4.4s\n",
      "[CV 4/5] END algorithm=brute, leaf_size=27, n_neighbors=13;, score=0.913 total time=   4.4s\n",
      "[CV 5/5] END algorithm=brute, leaf_size=27, n_neighbors=13;, score=0.923 total time=   4.4s\n",
      "[CV 1/5] END algorithm=brute, leaf_size=30, n_neighbors=3;, score=0.955 total time=   3.8s\n",
      "[CV 2/5] END algorithm=brute, leaf_size=30, n_neighbors=3;, score=0.958 total time=   3.9s\n",
      "[CV 3/5] END algorithm=brute, leaf_size=30, n_neighbors=3;, score=0.963 total time=   4.0s\n",
      "[CV 4/5] END algorithm=brute, leaf_size=30, n_neighbors=3;, score=0.952 total time=   3.6s\n",
      "[CV 5/5] END algorithm=brute, leaf_size=30, n_neighbors=3;, score=0.953 total time=   3.8s\n",
      "[CV 1/5] END algorithm=brute, leaf_size=30, n_neighbors=5;, score=0.948 total time=   5.5s\n",
      "[CV 2/5] END algorithm=brute, leaf_size=30, n_neighbors=5;, score=0.948 total time=   4.9s\n",
      "[CV 3/5] END algorithm=brute, leaf_size=30, n_neighbors=5;, score=0.955 total time=   4.4s\n",
      "[CV 4/5] END algorithm=brute, leaf_size=30, n_neighbors=5;, score=0.939 total time=   4.5s\n",
      "[CV 5/5] END algorithm=brute, leaf_size=30, n_neighbors=5;, score=0.948 total time=   4.5s\n",
      "[CV 1/5] END algorithm=brute, leaf_size=30, n_neighbors=7;, score=0.942 total time=   4.8s\n",
      "[CV 2/5] END algorithm=brute, leaf_size=30, n_neighbors=7;, score=0.940 total time=   4.8s\n",
      "[CV 3/5] END algorithm=brute, leaf_size=30, n_neighbors=7;, score=0.945 total time=   4.5s\n",
      "[CV 4/5] END algorithm=brute, leaf_size=30, n_neighbors=7;, score=0.931 total time=   4.9s\n",
      "[CV 5/5] END algorithm=brute, leaf_size=30, n_neighbors=7;, score=0.939 total time=   4.6s\n",
      "[CV 1/5] END algorithm=brute, leaf_size=30, n_neighbors=9;, score=0.933 total time=   5.1s\n",
      "[CV 2/5] END algorithm=brute, leaf_size=30, n_neighbors=9;, score=0.934 total time=   4.6s\n",
      "[CV 3/5] END algorithm=brute, leaf_size=30, n_neighbors=9;, score=0.938 total time=   4.5s\n",
      "[CV 4/5] END algorithm=brute, leaf_size=30, n_neighbors=9;, score=0.926 total time=   4.5s\n",
      "[CV 5/5] END algorithm=brute, leaf_size=30, n_neighbors=9;, score=0.933 total time=   4.7s\n",
      "[CV 1/5] END algorithm=brute, leaf_size=30, n_neighbors=10;, score=0.936 total time=   4.8s\n",
      "[CV 2/5] END algorithm=brute, leaf_size=30, n_neighbors=10;, score=0.936 total time=   4.6s\n",
      "[CV 3/5] END algorithm=brute, leaf_size=30, n_neighbors=10;, score=0.939 total time=   4.5s\n",
      "[CV 4/5] END algorithm=brute, leaf_size=30, n_neighbors=10;, score=0.928 total time=   4.3s\n",
      "[CV 5/5] END algorithm=brute, leaf_size=30, n_neighbors=10;, score=0.937 total time=   4.6s\n",
      "[CV 1/5] END algorithm=brute, leaf_size=30, n_neighbors=11;, score=0.929 total time=   4.5s\n",
      "[CV 2/5] END algorithm=brute, leaf_size=30, n_neighbors=11;, score=0.928 total time=   4.7s\n",
      "[CV 3/5] END algorithm=brute, leaf_size=30, n_neighbors=11;, score=0.932 total time=   4.5s\n",
      "[CV 4/5] END algorithm=brute, leaf_size=30, n_neighbors=11;, score=0.920 total time=   4.9s\n",
      "[CV 5/5] END algorithm=brute, leaf_size=30, n_neighbors=11;, score=0.927 total time=   4.5s\n",
      "[CV 1/5] END algorithm=brute, leaf_size=30, n_neighbors=12;, score=0.931 total time=   4.8s\n",
      "[CV 2/5] END algorithm=brute, leaf_size=30, n_neighbors=12;, score=0.929 total time=   4.6s\n",
      "[CV 3/5] END algorithm=brute, leaf_size=30, n_neighbors=12;, score=0.935 total time=   4.7s\n",
      "[CV 4/5] END algorithm=brute, leaf_size=30, n_neighbors=12;, score=0.922 total time=   5.0s\n",
      "[CV 5/5] END algorithm=brute, leaf_size=30, n_neighbors=12;, score=0.929 total time=   4.7s\n",
      "[CV 1/5] END algorithm=brute, leaf_size=30, n_neighbors=13;, score=0.923 total time=   5.1s\n",
      "[CV 2/5] END algorithm=brute, leaf_size=30, n_neighbors=13;, score=0.920 total time=   4.9s\n",
      "[CV 3/5] END algorithm=brute, leaf_size=30, n_neighbors=13;, score=0.929 total time=   4.4s\n",
      "[CV 4/5] END algorithm=brute, leaf_size=30, n_neighbors=13;, score=0.913 total time=   4.8s\n",
      "[CV 5/5] END algorithm=brute, leaf_size=30, n_neighbors=13;, score=0.923 total time=   4.6s\n",
      "[CV 1/5] END algorithm=brute, leaf_size=32, n_neighbors=3;, score=0.955 total time=   3.8s\n",
      "[CV 2/5] END algorithm=brute, leaf_size=32, n_neighbors=3;, score=0.958 total time=   3.7s\n",
      "[CV 3/5] END algorithm=brute, leaf_size=32, n_neighbors=3;, score=0.963 total time=   3.7s\n",
      "[CV 4/5] END algorithm=brute, leaf_size=32, n_neighbors=3;, score=0.952 total time=   3.6s\n",
      "[CV 5/5] END algorithm=brute, leaf_size=32, n_neighbors=3;, score=0.953 total time=   3.6s\n",
      "[CV 1/5] END algorithm=brute, leaf_size=32, n_neighbors=5;, score=0.948 total time=   4.6s\n",
      "[CV 2/5] END algorithm=brute, leaf_size=32, n_neighbors=5;, score=0.948 total time=   4.6s\n",
      "[CV 3/5] END algorithm=brute, leaf_size=32, n_neighbors=5;, score=0.955 total time=   4.5s\n",
      "[CV 4/5] END algorithm=brute, leaf_size=32, n_neighbors=5;, score=0.939 total time=   4.4s\n",
      "[CV 5/5] END algorithm=brute, leaf_size=32, n_neighbors=5;, score=0.948 total time=   4.5s\n",
      "[CV 1/5] END algorithm=brute, leaf_size=32, n_neighbors=7;, score=0.942 total time=   4.9s\n",
      "[CV 2/5] END algorithm=brute, leaf_size=32, n_neighbors=7;, score=0.940 total time=   5.0s\n",
      "[CV 3/5] END algorithm=brute, leaf_size=32, n_neighbors=7;, score=0.945 total time=   5.1s\n",
      "[CV 4/5] END algorithm=brute, leaf_size=32, n_neighbors=7;, score=0.931 total time=   4.5s\n",
      "[CV 5/5] END algorithm=brute, leaf_size=32, n_neighbors=7;, score=0.939 total time=   4.5s\n",
      "[CV 1/5] END algorithm=brute, leaf_size=32, n_neighbors=9;, score=0.933 total time=   4.6s\n",
      "[CV 2/5] END algorithm=brute, leaf_size=32, n_neighbors=9;, score=0.934 total time=   4.6s\n",
      "[CV 3/5] END algorithm=brute, leaf_size=32, n_neighbors=9;, score=0.938 total time=   4.7s\n",
      "[CV 4/5] END algorithm=brute, leaf_size=32, n_neighbors=9;, score=0.926 total time=   4.5s\n",
      "[CV 5/5] END algorithm=brute, leaf_size=32, n_neighbors=9;, score=0.933 total time=   4.6s\n",
      "[CV 1/5] END algorithm=brute, leaf_size=32, n_neighbors=10;, score=0.936 total time=   4.7s\n",
      "[CV 2/5] END algorithm=brute, leaf_size=32, n_neighbors=10;, score=0.936 total time=   4.3s\n",
      "[CV 3/5] END algorithm=brute, leaf_size=32, n_neighbors=10;, score=0.939 total time=   4.5s\n",
      "[CV 4/5] END algorithm=brute, leaf_size=32, n_neighbors=10;, score=0.928 total time=   4.5s\n",
      "[CV 5/5] END algorithm=brute, leaf_size=32, n_neighbors=10;, score=0.937 total time=   4.5s\n",
      "[CV 1/5] END algorithm=brute, leaf_size=32, n_neighbors=11;, score=0.929 total time=   4.7s\n",
      "[CV 2/5] END algorithm=brute, leaf_size=32, n_neighbors=11;, score=0.928 total time=   4.7s\n",
      "[CV 3/5] END algorithm=brute, leaf_size=32, n_neighbors=11;, score=0.932 total time=   4.7s\n",
      "[CV 4/5] END algorithm=brute, leaf_size=32, n_neighbors=11;, score=0.920 total time=   5.2s\n",
      "[CV 5/5] END algorithm=brute, leaf_size=32, n_neighbors=11;, score=0.927 total time=   5.0s\n",
      "[CV 1/5] END algorithm=brute, leaf_size=32, n_neighbors=12;, score=0.931 total time=   5.2s\n"
     ]
    },
    {
     "name": "stdout",
     "output_type": "stream",
     "text": [
      "[CV 2/5] END algorithm=brute, leaf_size=32, n_neighbors=12;, score=0.929 total time=   5.0s\n",
      "[CV 3/5] END algorithm=brute, leaf_size=32, n_neighbors=12;, score=0.935 total time=   4.7s\n",
      "[CV 4/5] END algorithm=brute, leaf_size=32, n_neighbors=12;, score=0.922 total time=   4.5s\n",
      "[CV 5/5] END algorithm=brute, leaf_size=32, n_neighbors=12;, score=0.929 total time=   4.8s\n",
      "[CV 1/5] END algorithm=brute, leaf_size=32, n_neighbors=13;, score=0.923 total time=   5.4s\n",
      "[CV 2/5] END algorithm=brute, leaf_size=32, n_neighbors=13;, score=0.920 total time=   4.9s\n",
      "[CV 3/5] END algorithm=brute, leaf_size=32, n_neighbors=13;, score=0.929 total time=   4.4s\n",
      "[CV 4/5] END algorithm=brute, leaf_size=32, n_neighbors=13;, score=0.913 total time=   4.6s\n",
      "[CV 5/5] END algorithm=brute, leaf_size=32, n_neighbors=13;, score=0.923 total time=   4.4s\n",
      "[CV 1/5] END algorithm=brute, leaf_size=34, n_neighbors=3;, score=0.955 total time=   3.6s\n",
      "[CV 2/5] END algorithm=brute, leaf_size=34, n_neighbors=3;, score=0.958 total time=   3.7s\n",
      "[CV 3/5] END algorithm=brute, leaf_size=34, n_neighbors=3;, score=0.963 total time=   3.7s\n",
      "[CV 4/5] END algorithm=brute, leaf_size=34, n_neighbors=3;, score=0.952 total time=   3.8s\n",
      "[CV 5/5] END algorithm=brute, leaf_size=34, n_neighbors=3;, score=0.953 total time=   4.0s\n",
      "[CV 1/5] END algorithm=brute, leaf_size=34, n_neighbors=5;, score=0.948 total time=   4.8s\n",
      "[CV 2/5] END algorithm=brute, leaf_size=34, n_neighbors=5;, score=0.948 total time=   4.8s\n",
      "[CV 3/5] END algorithm=brute, leaf_size=34, n_neighbors=5;, score=0.955 total time=   4.5s\n",
      "[CV 4/5] END algorithm=brute, leaf_size=34, n_neighbors=5;, score=0.939 total time=   4.5s\n",
      "[CV 5/5] END algorithm=brute, leaf_size=34, n_neighbors=5;, score=0.948 total time=   4.5s\n",
      "[CV 1/5] END algorithm=brute, leaf_size=34, n_neighbors=7;, score=0.942 total time=   4.6s\n",
      "[CV 2/5] END algorithm=brute, leaf_size=34, n_neighbors=7;, score=0.940 total time=   4.6s\n",
      "[CV 3/5] END algorithm=brute, leaf_size=34, n_neighbors=7;, score=0.945 total time=   4.6s\n",
      "[CV 4/5] END algorithm=brute, leaf_size=34, n_neighbors=7;, score=0.931 total time=   4.5s\n",
      "[CV 5/5] END algorithm=brute, leaf_size=34, n_neighbors=7;, score=0.939 total time=   4.6s\n",
      "[CV 1/5] END algorithm=brute, leaf_size=34, n_neighbors=9;, score=0.933 total time=   4.6s\n",
      "[CV 2/5] END algorithm=brute, leaf_size=34, n_neighbors=9;, score=0.934 total time=   4.6s\n",
      "[CV 3/5] END algorithm=brute, leaf_size=34, n_neighbors=9;, score=0.938 total time=   4.5s\n",
      "[CV 4/5] END algorithm=brute, leaf_size=34, n_neighbors=9;, score=0.926 total time=   4.4s\n",
      "[CV 5/5] END algorithm=brute, leaf_size=34, n_neighbors=9;, score=0.933 total time=   4.4s\n",
      "[CV 1/5] END algorithm=brute, leaf_size=34, n_neighbors=10;, score=0.936 total time=   4.7s\n",
      "[CV 2/5] END algorithm=brute, leaf_size=34, n_neighbors=10;, score=0.936 total time=   4.7s\n",
      "[CV 3/5] END algorithm=brute, leaf_size=34, n_neighbors=10;, score=0.939 total time=   4.4s\n",
      "[CV 4/5] END algorithm=brute, leaf_size=34, n_neighbors=10;, score=0.928 total time=   4.5s\n",
      "[CV 5/5] END algorithm=brute, leaf_size=34, n_neighbors=10;, score=0.937 total time=   4.3s\n",
      "[CV 1/5] END algorithm=brute, leaf_size=34, n_neighbors=11;, score=0.929 total time=   4.7s\n",
      "[CV 2/5] END algorithm=brute, leaf_size=34, n_neighbors=11;, score=0.928 total time=   4.5s\n",
      "[CV 3/5] END algorithm=brute, leaf_size=34, n_neighbors=11;, score=0.932 total time=   4.4s\n",
      "[CV 4/5] END algorithm=brute, leaf_size=34, n_neighbors=11;, score=0.920 total time=   4.7s\n",
      "[CV 5/5] END algorithm=brute, leaf_size=34, n_neighbors=11;, score=0.927 total time=   4.6s\n",
      "[CV 1/5] END algorithm=brute, leaf_size=34, n_neighbors=12;, score=0.931 total time=   4.7s\n",
      "[CV 2/5] END algorithm=brute, leaf_size=34, n_neighbors=12;, score=0.929 total time=   4.5s\n",
      "[CV 3/5] END algorithm=brute, leaf_size=34, n_neighbors=12;, score=0.935 total time=   4.4s\n",
      "[CV 4/5] END algorithm=brute, leaf_size=34, n_neighbors=12;, score=0.922 total time=   4.3s\n",
      "[CV 5/5] END algorithm=brute, leaf_size=34, n_neighbors=12;, score=0.929 total time=   4.4s\n",
      "[CV 1/5] END algorithm=brute, leaf_size=34, n_neighbors=13;, score=0.923 total time=   4.6s\n",
      "[CV 2/5] END algorithm=brute, leaf_size=34, n_neighbors=13;, score=0.920 total time=   4.6s\n",
      "[CV 3/5] END algorithm=brute, leaf_size=34, n_neighbors=13;, score=0.929 total time=   4.3s\n",
      "[CV 4/5] END algorithm=brute, leaf_size=34, n_neighbors=13;, score=0.913 total time=   4.7s\n",
      "[CV 5/5] END algorithm=brute, leaf_size=34, n_neighbors=13;, score=0.923 total time=   4.5s\n"
     ]
    },
    {
     "data": {
      "text/plain": [
       "GridSearchCV(estimator=KNeighborsClassifier(),\n",
       "             param_grid={'algorithm': ['ball_tree', 'kd_tree', 'brute'],\n",
       "                         'leaf_size': [18, 20, 25, 27, 30, 32, 34],\n",
       "                         'n_neighbors': [3, 5, 7, 9, 10, 11, 12, 13]},\n",
       "             verbose=3)"
      ]
     },
     "execution_count": 63,
     "metadata": {},
     "output_type": "execute_result"
    }
   ],
   "source": [
    "from sklearn.model_selection import GridSearchCV\n",
    "param_grid = { 'algorithm' : ['ball_tree', 'kd_tree', 'brute'],\n",
    "               'leaf_size' : [18,20,25,27,30,32,34],\n",
    "               'n_neighbors' : [3,5,7,9,10,11,12,13]\n",
    "              }\n",
    "\n",
    "gridsearch = GridSearchCV(knn, param_grid,verbose=3)\n",
    "gridsearch.fit(X_res,Y_res)"
   ]
  },
  {
   "cell_type": "code",
   "execution_count": 64,
   "metadata": {},
   "outputs": [
    {
     "data": {
      "text/plain": [
       "{'algorithm': 'ball_tree', 'leaf_size': 18, 'n_neighbors': 3}"
      ]
     },
     "execution_count": 64,
     "metadata": {},
     "output_type": "execute_result"
    }
   ],
   "source": [
    "# let's see the  best parameters according to gridsearch\n",
    "gridsearch.best_params_"
   ]
  },
  {
   "cell_type": "code",
   "execution_count": 65,
   "metadata": {},
   "outputs": [
    {
     "data": {
      "text/plain": [
       "KNeighborsClassifier(algorithm='ball_tree', leaf_size=18, n_neighbors=3)"
      ]
     },
     "execution_count": 65,
     "metadata": {},
     "output_type": "execute_result"
    }
   ],
   "source": [
    "# we will use the best parameters in our k-NN algorithm and check if accuracy is increasing.\n",
    "knn = KNeighborsClassifier(algorithm = 'ball_tree', leaf_size =18, n_neighbors =3)\n",
    "knn.fit(X_res,Y_res)"
   ]
  },
  {
   "cell_type": "code",
   "execution_count": 66,
   "metadata": {},
   "outputs": [
    {
     "data": {
      "text/plain": [
       "0.978342602020835"
      ]
     },
     "execution_count": 66,
     "metadata": {},
     "output_type": "execute_result"
    }
   ],
   "source": [
    "knn.score(X_res,Y_res)"
   ]
  },
  {
   "cell_type": "code",
   "execution_count": 67,
   "metadata": {},
   "outputs": [
    {
     "data": {
      "text/plain": [
       "0.9234899328859061"
      ]
     },
     "execution_count": 67,
     "metadata": {},
     "output_type": "execute_result"
    }
   ],
   "source": [
    "knn.score(X_test,y_test)"
   ]
  },
  {
   "cell_type": "markdown",
   "metadata": {},
   "source": [
    "Great, accuracy score has increased for our test data."
   ]
  },
  {
   "cell_type": "markdown",
   "metadata": {},
   "source": [
    "Comparison : Clearly we can see that KNN gives higher accuracy for TF-IDF Vectorization form."
   ]
  },
  {
   "cell_type": "markdown",
   "metadata": {},
   "source": [
    "# Naive Bayes With TF-IDF"
   ]
  },
  {
   "cell_type": "code",
   "execution_count": 90,
   "metadata": {},
   "outputs": [],
   "source": [
    "from sklearn.naive_bayes import GaussianNB\n",
    "from sklearn.metrics import accuracy_score, confusion_matrix, roc_curve, roc_auc_score\n",
    "model = GaussianNB()"
   ]
  },
  {
   "cell_type": "code",
   "execution_count": 91,
   "metadata": {},
   "outputs": [
    {
     "data": {
      "text/plain": [
       "GaussianNB()"
      ]
     },
     "execution_count": 91,
     "metadata": {},
     "output_type": "execute_result"
    }
   ],
   "source": [
    "model.fit(X_res,Y_res)"
   ]
  },
  {
   "cell_type": "code",
   "execution_count": 92,
   "metadata": {},
   "outputs": [],
   "source": [
    "y_pred_nvt = model.predict(X_test)"
   ]
  },
  {
   "cell_type": "code",
   "execution_count": 93,
   "metadata": {},
   "outputs": [
    {
     "data": {
      "text/plain": [
       "0.7715883668903804"
      ]
     },
     "execution_count": 93,
     "metadata": {},
     "output_type": "execute_result"
    }
   ],
   "source": [
    "accuracy_score(y_test,y_pred_nvt)"
   ]
  },
  {
   "cell_type": "code",
   "execution_count": 95,
   "metadata": {},
   "outputs": [
    {
     "name": "stdout",
     "output_type": "stream",
     "text": [
      "confusion matrix of KNN:\n",
      " [[3279  968]\n",
      " [  53  170]] \n",
      "\n",
      "classification report:\n",
      "               precision    recall  f1-score   support\n",
      "\n",
      "           0       0.98      0.77      0.87      4247\n",
      "           1       0.15      0.76      0.25       223\n",
      "\n",
      "    accuracy                           0.77      4470\n",
      "   macro avg       0.57      0.77      0.56      4470\n",
      "weighted avg       0.94      0.77      0.83      4470\n",
      " \n",
      "\n"
     ]
    }
   ],
   "source": [
    "# creating a confusion matrix \n",
    "cm = confusion_matrix(y_test,y_pred_nvt)\n",
    "print(\"confusion matrix of KNN:\\n\", cm, \"\\n\")\n",
    "\n",
    "# create a classifcation report\n",
    "print(\"classification report:\\n\", classification_report(y_test, y_pred_nvt), \"\\n\")"
   ]
  },
  {
   "cell_type": "markdown",
   "metadata": {},
   "source": [
    "# Naive Bayes with Avg Word2Vec"
   ]
  },
  {
   "cell_type": "code",
   "execution_count": 67,
   "metadata": {},
   "outputs": [],
   "source": [
    "from sklearn.naive_bayes import GaussianNB\n",
    "from sklearn.metrics import accuracy_score, confusion_matrix, roc_curve, roc_auc_score\n",
    "model = GaussianNB()"
   ]
  },
  {
   "cell_type": "code",
   "execution_count": 68,
   "metadata": {},
   "outputs": [
    {
     "data": {
      "text/plain": [
       "GaussianNB()"
      ]
     },
     "execution_count": 68,
     "metadata": {},
     "output_type": "execute_result"
    }
   ],
   "source": [
    "model.fit(X_bal,Y_bal)"
   ]
  },
  {
   "cell_type": "code",
   "execution_count": 86,
   "metadata": {},
   "outputs": [],
   "source": [
    "y_pred_nvb = model.predict(test_sent_vectors)"
   ]
  },
  {
   "cell_type": "code",
   "execution_count": 87,
   "metadata": {},
   "outputs": [
    {
     "data": {
      "text/plain": [
       "0.9534675615212528"
      ]
     },
     "execution_count": 87,
     "metadata": {},
     "output_type": "execute_result"
    }
   ],
   "source": [
    "accuracy_score(y_test,y_pred_nvb)"
   ]
  },
  {
   "cell_type": "code",
   "execution_count": 88,
   "metadata": {},
   "outputs": [
    {
     "name": "stdout",
     "output_type": "stream",
     "text": [
      "confusion matrix of KNN:\n",
      " [[4237   10]\n",
      " [ 198   25]] \n",
      "\n",
      "classification report:\n",
      "               precision    recall  f1-score   support\n",
      "\n",
      "           0       0.96      1.00      0.98      4247\n",
      "           1       0.71      0.11      0.19       223\n",
      "\n",
      "    accuracy                           0.95      4470\n",
      "   macro avg       0.83      0.55      0.58      4470\n",
      "weighted avg       0.94      0.95      0.94      4470\n",
      " \n",
      "\n"
     ]
    }
   ],
   "source": [
    "# creating a confusion matrix \n",
    "cm = confusion_matrix(y_test,y_pred_nvb)\n",
    "print(\"confusion matrix of KNN:\\n\", cm, \"\\n\")\n",
    "\n",
    "# create a classifcation report\n",
    "print(\"classification report:\\n\", classification_report(y_test, y_pred_nvb), \"\\n\")"
   ]
  },
  {
   "cell_type": "markdown",
   "metadata": {},
   "source": [
    "Comparison : Clearly we can see that Naive Bayes gives higher accuracy for Avg Word2Vec Vectorization form."
   ]
  },
  {
   "cell_type": "markdown",
   "metadata": {},
   "source": [
    "# Conclusion :"
   ]
  },
  {
   "cell_type": "code",
   "execution_count": 1,
   "metadata": {},
   "outputs": [],
   "source": [
    "dicti= { 'Random Forest' : [97.50, 95.01], 'Xg-Boost':[97.06,97.05],'Decision Tree':[94.06,76],'Logistic Regression':[84.29,94.03],\n",
    "       'Support Vector Machine':[95.05,95.03], 'KNN':[89.2,83.53],'Naive Bayes':[76.19,95.34]}"
   ]
  },
  {
   "cell_type": "code",
   "execution_count": 3,
   "metadata": {},
   "outputs": [],
   "source": [
    "import pandas as pd\n",
    "df= pd.DataFrame.from_dict(data=dicti,orient='index',columns= ['TF-IDF','Avg Word2Vec'])"
   ]
  },
  {
   "cell_type": "code",
   "execution_count": 4,
   "metadata": {},
   "outputs": [
    {
     "data": {
      "text/html": [
       "<div>\n",
       "<style scoped>\n",
       "    .dataframe tbody tr th:only-of-type {\n",
       "        vertical-align: middle;\n",
       "    }\n",
       "\n",
       "    .dataframe tbody tr th {\n",
       "        vertical-align: top;\n",
       "    }\n",
       "\n",
       "    .dataframe thead th {\n",
       "        text-align: right;\n",
       "    }\n",
       "</style>\n",
       "<table border=\"1\" class=\"dataframe\">\n",
       "  <thead>\n",
       "    <tr style=\"text-align: right;\">\n",
       "      <th></th>\n",
       "      <th>TF-IDF</th>\n",
       "      <th>Avg Word2Vec</th>\n",
       "    </tr>\n",
       "  </thead>\n",
       "  <tbody>\n",
       "    <tr>\n",
       "      <th>Random Forest</th>\n",
       "      <td>97.50</td>\n",
       "      <td>95.01</td>\n",
       "    </tr>\n",
       "    <tr>\n",
       "      <th>Xg-Boost</th>\n",
       "      <td>97.06</td>\n",
       "      <td>97.05</td>\n",
       "    </tr>\n",
       "    <tr>\n",
       "      <th>Decision Tree</th>\n",
       "      <td>94.06</td>\n",
       "      <td>76.00</td>\n",
       "    </tr>\n",
       "    <tr>\n",
       "      <th>Logistic Regression</th>\n",
       "      <td>84.29</td>\n",
       "      <td>94.03</td>\n",
       "    </tr>\n",
       "    <tr>\n",
       "      <th>Support Vector Machine</th>\n",
       "      <td>95.05</td>\n",
       "      <td>95.03</td>\n",
       "    </tr>\n",
       "    <tr>\n",
       "      <th>KNN</th>\n",
       "      <td>89.20</td>\n",
       "      <td>83.53</td>\n",
       "    </tr>\n",
       "    <tr>\n",
       "      <th>Naive Bayes</th>\n",
       "      <td>76.19</td>\n",
       "      <td>95.34</td>\n",
       "    </tr>\n",
       "  </tbody>\n",
       "</table>\n",
       "</div>"
      ],
      "text/plain": [
       "                        TF-IDF  Avg Word2Vec\n",
       "Random Forest            97.50         95.01\n",
       "Xg-Boost                 97.06         97.05\n",
       "Decision Tree            94.06         76.00\n",
       "Logistic Regression      84.29         94.03\n",
       "Support Vector Machine   95.05         95.03\n",
       "KNN                      89.20         83.53\n",
       "Naive Bayes              76.19         95.34"
      ]
     },
     "execution_count": 4,
     "metadata": {},
     "output_type": "execute_result"
    }
   ],
   "source": [
    "df"
   ]
  },
  {
   "cell_type": "markdown",
   "metadata": {},
   "source": [
    "Some Algorithm gives better Accuracy for TF-IDF and Some Algorithms gives better Accuracy for Word2Vec Vectorization form."
   ]
  },
  {
   "cell_type": "code",
   "execution_count": null,
   "metadata": {},
   "outputs": [],
   "source": []
  }
 ],
 "metadata": {
  "kernelspec": {
   "display_name": "Python 3",
   "language": "python",
   "name": "python3"
  },
  "language_info": {
   "codemirror_mode": {
    "name": "ipython",
    "version": 3
   },
   "file_extension": ".py",
   "mimetype": "text/x-python",
   "name": "python",
   "nbconvert_exporter": "python",
   "pygments_lexer": "ipython3",
   "version": "3.7.3"
  }
 },
 "nbformat": 4,
 "nbformat_minor": 4
}
