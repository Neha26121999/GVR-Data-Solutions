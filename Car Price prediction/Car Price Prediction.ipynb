{
 "cells": [
  {
   "cell_type": "markdown",
   "metadata": {
    "execution": {
     "iopub.execute_input": "2021-08-29T13:37:55.387817Z",
     "iopub.status.busy": "2021-08-29T13:37:55.387037Z",
     "iopub.status.idle": "2021-08-29T13:37:56.647944Z",
     "shell.execute_reply": "2021-08-29T13:37:56.647287Z",
     "shell.execute_reply.started": "2021-08-29T13:37:15.968285Z"
    },
    "papermill": {
     "duration": 1.306682,
     "end_time": "2021-08-29T13:37:56.648153",
     "exception": false,
     "start_time": "2021-08-29T13:37:55.341471",
     "status": "completed"
    },
    "tags": []
   },
   "source": [
    "# Audi Car Price Prediction"
   ]
  },
  {
   "cell_type": "markdown",
   "metadata": {},
   "source": [
    "# Importing all necessary Libraries"
   ]
  },
  {
   "cell_type": "code",
   "execution_count": 1,
   "metadata": {},
   "outputs": [],
   "source": [
    "import warnings\n",
    "warnings.filterwarnings(\"ignore\")"
   ]
  },
  {
   "cell_type": "code",
   "execution_count": 2,
   "metadata": {},
   "outputs": [],
   "source": [
    "import pandas as pd \n",
    "import numpy as np \n",
    "import matplotlib.pyplot as plt\n",
    "import seaborn as sns\n",
    "from sklearn.preprocessing import LabelEncoder\n",
    "from sklearn.preprocessing import MinMaxScaler\n",
    "from sklearn.model_selection import train_test_split\n",
    "from sklearn.ensemble import RandomForestRegressor\n",
    "from sklearn.tree import DecisionTreeRegressor\n",
    "from sklearn.svm import SVR\n",
    "from sklearn.linear_model import LinearRegression,Ridge,Lasso,RidgeCV, LassoCV\n",
    "from sklearn.metrics import  mean_squared_error"
   ]
  },
  {
   "cell_type": "code",
   "execution_count": 3,
   "metadata": {
    "execution": {
     "iopub.execute_input": "2021-08-29T13:37:56.690502Z",
     "iopub.status.busy": "2021-08-29T13:37:56.689800Z",
     "iopub.status.idle": "2021-08-29T13:37:56.768855Z",
     "shell.execute_reply": "2021-08-29T13:37:56.768358Z",
     "shell.execute_reply.started": "2021-08-29T13:37:15.979447Z"
    },
    "papermill": {
     "duration": 0.101778,
     "end_time": "2021-08-29T13:37:56.769008",
     "exception": false,
     "start_time": "2021-08-29T13:37:56.667230",
     "status": "completed"
    },
    "tags": []
   },
   "outputs": [
    {
     "data": {
      "text/html": [
       "<div>\n",
       "<style scoped>\n",
       "    .dataframe tbody tr th:only-of-type {\n",
       "        vertical-align: middle;\n",
       "    }\n",
       "\n",
       "    .dataframe tbody tr th {\n",
       "        vertical-align: top;\n",
       "    }\n",
       "\n",
       "    .dataframe thead th {\n",
       "        text-align: right;\n",
       "    }\n",
       "</style>\n",
       "<table border=\"1\" class=\"dataframe\">\n",
       "  <thead>\n",
       "    <tr style=\"text-align: right;\">\n",
       "      <th></th>\n",
       "      <th>model</th>\n",
       "      <th>year</th>\n",
       "      <th>price</th>\n",
       "      <th>transmission</th>\n",
       "      <th>mileage</th>\n",
       "      <th>fuelType</th>\n",
       "      <th>tax</th>\n",
       "      <th>mpg</th>\n",
       "      <th>engineSize</th>\n",
       "    </tr>\n",
       "  </thead>\n",
       "  <tbody>\n",
       "    <tr>\n",
       "      <th>0</th>\n",
       "      <td>A1</td>\n",
       "      <td>2017</td>\n",
       "      <td>12500</td>\n",
       "      <td>Manual</td>\n",
       "      <td>15735</td>\n",
       "      <td>Petrol</td>\n",
       "      <td>150</td>\n",
       "      <td>55.4</td>\n",
       "      <td>1.4</td>\n",
       "    </tr>\n",
       "    <tr>\n",
       "      <th>1</th>\n",
       "      <td>A6</td>\n",
       "      <td>2016</td>\n",
       "      <td>16500</td>\n",
       "      <td>Automatic</td>\n",
       "      <td>36203</td>\n",
       "      <td>Diesel</td>\n",
       "      <td>20</td>\n",
       "      <td>64.2</td>\n",
       "      <td>2.0</td>\n",
       "    </tr>\n",
       "    <tr>\n",
       "      <th>2</th>\n",
       "      <td>A1</td>\n",
       "      <td>2016</td>\n",
       "      <td>11000</td>\n",
       "      <td>Manual</td>\n",
       "      <td>29946</td>\n",
       "      <td>Petrol</td>\n",
       "      <td>30</td>\n",
       "      <td>55.4</td>\n",
       "      <td>1.4</td>\n",
       "    </tr>\n",
       "    <tr>\n",
       "      <th>3</th>\n",
       "      <td>A4</td>\n",
       "      <td>2017</td>\n",
       "      <td>16800</td>\n",
       "      <td>Automatic</td>\n",
       "      <td>25952</td>\n",
       "      <td>Diesel</td>\n",
       "      <td>145</td>\n",
       "      <td>67.3</td>\n",
       "      <td>2.0</td>\n",
       "    </tr>\n",
       "    <tr>\n",
       "      <th>4</th>\n",
       "      <td>A3</td>\n",
       "      <td>2019</td>\n",
       "      <td>17300</td>\n",
       "      <td>Manual</td>\n",
       "      <td>1998</td>\n",
       "      <td>Petrol</td>\n",
       "      <td>145</td>\n",
       "      <td>49.6</td>\n",
       "      <td>1.0</td>\n",
       "    </tr>\n",
       "  </tbody>\n",
       "</table>\n",
       "</div>"
      ],
      "text/plain": [
       "  model  year  price transmission  mileage fuelType  tax   mpg  engineSize\n",
       "0    A1  2017  12500       Manual    15735   Petrol  150  55.4         1.4\n",
       "1    A6  2016  16500    Automatic    36203   Diesel   20  64.2         2.0\n",
       "2    A1  2016  11000       Manual    29946   Petrol   30  55.4         1.4\n",
       "3    A4  2017  16800    Automatic    25952   Diesel  145  67.3         2.0\n",
       "4    A3  2019  17300       Manual     1998   Petrol  145  49.6         1.0"
      ]
     },
     "execution_count": 3,
     "metadata": {},
     "output_type": "execute_result"
    }
   ],
   "source": [
    "audi=pd.read_csv(\"audi.csv\")\n",
    "audi.head()"
   ]
  },
  {
   "cell_type": "code",
   "execution_count": 4,
   "metadata": {},
   "outputs": [
    {
     "data": {
      "text/plain": [
       "model            object\n",
       "year              int64\n",
       "price             int64\n",
       "transmission     object\n",
       "mileage           int64\n",
       "fuelType         object\n",
       "tax               int64\n",
       "mpg             float64\n",
       "engineSize      float64\n",
       "dtype: object"
      ]
     },
     "execution_count": 4,
     "metadata": {},
     "output_type": "execute_result"
    }
   ],
   "source": [
    "audi.dtypes"
   ]
  },
  {
   "cell_type": "markdown",
   "metadata": {},
   "source": [
    "# Exploratory Data Analysis"
   ]
  },
  {
   "cell_type": "code",
   "execution_count": 5,
   "metadata": {
    "execution": {
     "iopub.execute_input": "2021-08-29T13:37:56.812686Z",
     "iopub.status.busy": "2021-08-29T13:37:56.811710Z",
     "iopub.status.idle": "2021-08-29T13:37:56.815561Z",
     "shell.execute_reply": "2021-08-29T13:37:56.816062Z",
     "shell.execute_reply.started": "2021-08-29T13:37:16.021686Z"
    },
    "papermill": {
     "duration": 0.028187,
     "end_time": "2021-08-29T13:37:56.816265",
     "exception": false,
     "start_time": "2021-08-29T13:37:56.788078",
     "status": "completed"
    },
    "tags": []
   },
   "outputs": [
    {
     "data": {
      "text/plain": [
       "(10668, 9)"
      ]
     },
     "execution_count": 5,
     "metadata": {},
     "output_type": "execute_result"
    }
   ],
   "source": [
    "audi.shape"
   ]
  },
  {
   "cell_type": "code",
   "execution_count": 6,
   "metadata": {
    "execution": {
     "iopub.execute_input": "2021-08-29T13:37:56.921223Z",
     "iopub.status.busy": "2021-08-29T13:37:56.920557Z",
     "iopub.status.idle": "2021-08-29T13:37:56.927021Z",
     "shell.execute_reply": "2021-08-29T13:37:56.926470Z",
     "shell.execute_reply.started": "2021-08-29T13:37:16.053238Z"
    },
    "papermill": {
     "duration": 0.034073,
     "end_time": "2021-08-29T13:37:56.927162",
     "exception": false,
     "start_time": "2021-08-29T13:37:56.893089",
     "status": "completed"
    },
    "tags": []
   },
   "outputs": [
    {
     "data": {
      "text/plain": [
       "model           0\n",
       "year            0\n",
       "price           0\n",
       "transmission    0\n",
       "mileage         0\n",
       "fuelType        0\n",
       "tax             0\n",
       "mpg             0\n",
       "engineSize      0\n",
       "dtype: int64"
      ]
     },
     "execution_count": 6,
     "metadata": {},
     "output_type": "execute_result"
    }
   ],
   "source": [
    "# There no null values and missing values in the data\n",
    "audi.isna().sum()"
   ]
  },
  {
   "cell_type": "markdown",
   "metadata": {},
   "source": [
    "## 1. Price"
   ]
  },
  {
   "cell_type": "code",
   "execution_count": 7,
   "metadata": {},
   "outputs": [
    {
     "name": "stdout",
     "output_type": "stream",
     "text": [
      "count     10668.000000\n",
      "mean      22896.685039\n",
      "std       11714.841888\n",
      "min        1490.000000\n",
      "25%       15130.750000\n",
      "50%       20200.000000\n",
      "75%       27990.000000\n",
      "max      145000.000000\n",
      "Name: price, dtype: float64\n"
     ]
    }
   ],
   "source": [
    "print(audi['price'].describe())"
   ]
  },
  {
   "cell_type": "code",
   "execution_count": 8,
   "metadata": {},
   "outputs": [
    {
     "data": {
      "image/png": "[encoded data removed]",
      "text/plain": [
       "<Figure size 720x720 with 1 Axes>"
      ]
     },
     "metadata": {
      "needs_background": "light"
     },
     "output_type": "display_data"
    }
   ],
   "source": [
    "plt.figure(figsize = (10,10))\n",
    "sns.distplot(audi['price'],bins=30)\n",
    "plt.show()"
   ]
  },
  {
   "cell_type": "code",
   "execution_count": 9,
   "metadata": {},
   "outputs": [
    {
     "data": {
      "image/png": "[encoded data removed]",
      "text/plain": [
       "<Figure size 360x360 with 1 Axes>"
      ]
     },
     "metadata": {
      "needs_background": "light"
     },
     "output_type": "display_data"
    }
   ],
   "source": [
    "plt.figure(figsize = (5,5))\n",
    "sns.boxplot(y = 'price', data = audi)\n",
    "plt.show()"
   ]
  },
  {
   "cell_type": "code",
   "execution_count": 10,
   "metadata": {},
   "outputs": [
    {
     "name": "stdout",
     "output_type": "stream",
     "text": [
      "Number of outliers in the data: 319\n"
     ]
    }
   ],
   "source": [
    "print('Number of outliers in the data:', len(audi[audi['price']>50000]))"
   ]
  },
  {
   "cell_type": "code",
   "execution_count": 11,
   "metadata": {},
   "outputs": [
    {
     "name": "stdout",
     "output_type": "stream",
     "text": [
      "Number of data points after removing outliers : 10342\n"
     ]
    }
   ],
   "source": [
    "audi = audi[audi['price']< 50000] # Removing the outliers from the data\n",
    "print('Number of data points after removing outliers :', audi.shape[0])"
   ]
  },
  {
   "cell_type": "code",
   "execution_count": 12,
   "metadata": {},
   "outputs": [
    {
     "data": {
      "image/png": "[encoded data removed]",
      "text/plain": [
       "<Figure size 720x720 with 1 Axes>"
      ]
     },
     "metadata": {
      "needs_background": "light"
     },
     "output_type": "display_data"
    }
   ],
   "source": [
    "plt.figure(figsize = (10,10))\n",
    "sns.distplot(audi['price'],bins=30)\n",
    "plt.show()"
   ]
  },
  {
   "cell_type": "markdown",
   "metadata": {},
   "source": [
    "## 2. Model"
   ]
  },
  {
   "cell_type": "code",
   "execution_count": 13,
   "metadata": {},
   "outputs": [
    {
     "data": {
      "image/png": "[encoded data removed]",
      "text/plain": [
       "<Figure size 1296x720 with 1 Axes>"
      ]
     },
     "metadata": {
      "needs_background": "light"
     },
     "output_type": "display_data"
    }
   ],
   "source": [
    "# Count plot on model\n",
    "plt.subplots(figsize=(18,10))\n",
    "ax = sns.countplot(audi.model, label = \"Count\")"
   ]
  },
  {
   "cell_type": "code",
   "execution_count": 14,
   "metadata": {},
   "outputs": [
    {
     "name": "stdout",
     "output_type": "stream",
     "text": [
      "Number of Unique models in the data are: 26\n"
     ]
    }
   ],
   "source": [
    "model_count = audi['model'].value_counts()\n",
    "print('Number of Unique models in the data are:', model_count.shape[0])"
   ]
  },
  {
   "cell_type": "code",
   "execution_count": 15,
   "metadata": {},
   "outputs": [
    {
     "name": "stdout",
     "output_type": "stream",
     "text": [
      "Top ten models in the data: \n",
      "  A3    1929\n",
      " Q3    1417\n",
      " A4    1380\n",
      " A1    1347\n",
      " A5     881\n",
      " Q5     849\n",
      " Q2     822\n",
      " A6     743\n",
      " TT     330\n",
      " Q7     271\n",
      "Name: model, dtype: int64\n"
     ]
    }
   ],
   "source": [
    "print('Top ten models in the data: \\n', audi.model.value_counts()[:10])"
   ]
  },
  {
   "cell_type": "code",
   "execution_count": 16,
   "metadata": {},
   "outputs": [
    {
     "data": {
      "image/png": "[encoded data removed]",
      "text/plain": [
       "<Figure size 1296x720 with 1 Axes>"
      ]
     },
     "metadata": {
      "needs_background": "light"
     },
     "output_type": "display_data"
    }
   ],
   "source": [
    "x = audi.model.value_counts().index.values.astype('str')[:10]\n",
    "y = audi.model.value_counts().values[:10]\n",
    "\n",
    "\n",
    "objects = set(audi['model'])\n",
    "\n",
    "plt.figure(figsize=(18,10))\n",
    "plt.bar(x, y, alpha=1, align='center')\n",
    "\n",
    "plt.ylabel('Count')\n",
    "plt.xlabel('Model of the car')\n",
    "plt.title('Top 10 models')\n",
    "plt.show()"
   ]
  },
  {
   "cell_type": "code",
   "execution_count": 17,
   "metadata": {},
   "outputs": [
    {
     "data": {
      "image/png": "[encoded data removed]",
      "text/plain": [
       "<Figure size 720x720 with 1 Axes>"
      ]
     },
     "metadata": {
      "needs_background": "light"
     },
     "output_type": "display_data"
    }
   ],
   "source": [
    "# Checking the price by model\n",
    "plt.subplots(figsize=(10,10))\n",
    "price_by_model = audi.groupby(\"model\")['price'].mean().reset_index()\n",
    "plt.title(\"Average Price of vechicle\")\n",
    "sns.set()\n",
    "sns.barplot(x=\"model\", y =\"price\", data = price_by_model)\n",
    "plt.show()"
   ]
  },
  {
   "cell_type": "markdown",
   "metadata": {},
   "source": [
    "## 3. Year"
   ]
  },
  {
   "cell_type": "code",
   "execution_count": 18,
   "metadata": {},
   "outputs": [
    {
     "data": {
      "image/png": "[encoded data removed]",
      "text/plain": [
       "<Figure size 1296x720 with 1 Axes>"
      ]
     },
     "metadata": {},
     "output_type": "display_data"
    }
   ],
   "source": [
    "# Count plot on year\n",
    "plt.subplots(figsize=(18,10))\n",
    "ax = sns.countplot(audi.year, label = \"Count\")"
   ]
  },
  {
   "cell_type": "code",
   "execution_count": 19,
   "metadata": {},
   "outputs": [
    {
     "name": "stdout",
     "output_type": "stream",
     "text": [
      "2019    3039\n",
      "2016    1961\n",
      "2017    1909\n",
      "2015     997\n",
      "2018     815\n",
      "2020     632\n",
      "2014     444\n",
      "2013     290\n",
      "2012      85\n",
      "2011      47\n",
      "2010      32\n",
      "2009      23\n",
      "2008      21\n",
      "2007      16\n",
      "2006       9\n",
      "2005       7\n",
      "2003       6\n",
      "2004       5\n",
      "2002       2\n",
      "1997       1\n",
      "1998       1\n",
      "Name: year, dtype: int64\n"
     ]
    }
   ],
   "source": [
    "print(audi.year.value_counts())"
   ]
  },
  {
   "cell_type": "markdown",
   "metadata": {},
   "source": [
    "## 4. Transmission"
   ]
  },
  {
   "cell_type": "code",
   "execution_count": 20,
   "metadata": {},
   "outputs": [
    {
     "data": {
      "image/png": "[encoded data removed]",
      "text/plain": [
       "<Figure size 432x432 with 1 Axes>"
      ]
     },
     "metadata": {},
     "output_type": "display_data"
    }
   ],
   "source": [
    "# Count plot on the transmission\n",
    "plt.subplots(figsize=(6,6))\n",
    "sns.countplot(audi.transmission, label = \"Count\")\n",
    "plt.show()"
   ]
  },
  {
   "cell_type": "code",
   "execution_count": 21,
   "metadata": {},
   "outputs": [
    {
     "name": "stdout",
     "output_type": "stream",
     "text": [
      "Manual       4369\n",
      "Semi-Auto    3426\n",
      "Automatic    2547\n",
      "Name: transmission, dtype: int64\n"
     ]
    }
   ],
   "source": [
    "print(audi.transmission.value_counts())"
   ]
  },
  {
   "cell_type": "code",
   "execution_count": 22,
   "metadata": {},
   "outputs": [
    {
     "data": {
      "image/png": "[encoded data removed]",
      "text/plain": [
       "<Figure size 432x432 with 1 Axes>"
      ]
     },
     "metadata": {},
     "output_type": "display_data"
    }
   ],
   "source": [
    "# Checking the price of car by transimission type\n",
    "plt.subplots(figsize=(6,6))\n",
    "price_by_transmission = audi.groupby(\"transmission\")['price'].mean().reset_index()\n",
    "plt.title(\"Average Price of vechicle\")\n",
    "sns.set()\n",
    "sns.barplot(x=\"transmission\", y =\"price\", data = price_by_transmission)\n",
    "plt.show()"
   ]
  },
  {
   "cell_type": "markdown",
   "metadata": {},
   "source": [
    "## 5. Mileage"
   ]
  },
  {
   "cell_type": "code",
   "execution_count": 23,
   "metadata": {},
   "outputs": [
    {
     "name": "stdout",
     "output_type": "stream",
     "text": [
      "count     10342.000000\n",
      "mean      25350.406885\n",
      "std       23641.747050\n",
      "min           5.000000\n",
      "25%        6000.000000\n",
      "50%       19823.000000\n",
      "75%       37124.500000\n",
      "max      323000.000000\n",
      "Name: mileage, dtype: float64\n"
     ]
    }
   ],
   "source": [
    "print(audi['mileage'].describe())"
   ]
  },
  {
   "cell_type": "code",
   "execution_count": 24,
   "metadata": {},
   "outputs": [
    {
     "data": {
      "image/png": "[encoded data removed]",
      "text/plain": [
       "<Figure size 720x720 with 1 Axes>"
      ]
     },
     "metadata": {},
     "output_type": "display_data"
    }
   ],
   "source": [
    "plt.figure(figsize = (10,10))\n",
    "sns.distplot(audi['mileage'],bins=30)\n",
    "plt.show()"
   ]
  },
  {
   "cell_type": "markdown",
   "metadata": {},
   "source": [
    "## 6. Fuel Type"
   ]
  },
  {
   "cell_type": "code",
   "execution_count": 25,
   "metadata": {},
   "outputs": [
    {
     "data": {
      "image/png": "[encoded data removed]",
      "text/plain": [
       "<Figure size 432x432 with 1 Axes>"
      ]
     },
     "metadata": {},
     "output_type": "display_data"
    }
   ],
   "source": [
    "# Count plot on fuel type\n",
    "plt.subplots(figsize=(6,6))\n",
    "sns.countplot(audi.fuelType, label = \"Count\")\n",
    "plt.show()"
   ]
  },
  {
   "cell_type": "code",
   "execution_count": 26,
   "metadata": {},
   "outputs": [
    {
     "name": "stdout",
     "output_type": "stream",
     "text": [
      "Diesel    5345\n",
      "Petrol    4970\n",
      "Hybrid      27\n",
      "Name: fuelType, dtype: int64\n"
     ]
    }
   ],
   "source": [
    "print(audi.fuelType.value_counts())"
   ]
  },
  {
   "cell_type": "code",
   "execution_count": 27,
   "metadata": {},
   "outputs": [
    {
     "data": {
      "image/png": "[encoded data removed]",
      "text/plain": [
       "<Figure size 432x432 with 1 Axes>"
      ]
     },
     "metadata": {},
     "output_type": "display_data"
    }
   ],
   "source": [
    "# Checking the price by fueltype\n",
    "plt.subplots(figsize=(6,6))\n",
    "price_by_fuel = audi.groupby(\"fuelType\")['price'].mean().reset_index()\n",
    "plt.title(\"Average Price of vechicle\")\n",
    "sns.set()\n",
    "sns.barplot(x=\"fuelType\", y =\"price\", data = price_by_fuel)\n",
    "plt.show()"
   ]
  },
  {
   "cell_type": "markdown",
   "metadata": {},
   "source": [
    "## 7. Tax"
   ]
  },
  {
   "cell_type": "code",
   "execution_count": 28,
   "metadata": {},
   "outputs": [
    {
     "name": "stdout",
     "output_type": "stream",
     "text": [
      "count    10342.000000\n",
      "mean       125.003868\n",
      "std         66.970009\n",
      "min          0.000000\n",
      "25%        125.000000\n",
      "50%        145.000000\n",
      "75%        145.000000\n",
      "max        580.000000\n",
      "Name: tax, dtype: float64\n"
     ]
    }
   ],
   "source": [
    "print(audi['tax'].describe())"
   ]
  },
  {
   "cell_type": "code",
   "execution_count": 30,
   "metadata": {},
   "outputs": [
    {
     "data": {
      "image/png": "[encoded data removed]",
      "text/plain": [
       "<Figure size 720x720 with 1 Axes>"
      ]
     },
     "metadata": {},
     "output_type": "display_data"
    }
   ],
   "source": [
    "plt.figure(figsize = (10,10))\n",
    "sns.distplot(audi['tax'],bins=30)\n",
    "plt.show()"
   ]
  },
  {
   "cell_type": "code",
   "execution_count": 32,
   "metadata": {},
   "outputs": [
    {
     "data": {
      "image/png": "[encoded data removed]",
      "text/plain": [
       "<Figure size 792x648 with 1 Axes>"
      ]
     },
     "metadata": {},
     "output_type": "display_data"
    }
   ],
   "source": [
    "# Checking the avg tax by model\n",
    "plt.subplots(figsize=(11,9))\n",
    "tax_by_model = audi.groupby(\"model\")['tax'].mean().reset_index()\n",
    "plt.title(\"Average Tax of vechicle\")\n",
    "sns.barplot(x=\"model\", y =\"tax\", data = tax_by_model)\n",
    "plt.show()"
   ]
  },
  {
   "cell_type": "markdown",
   "metadata": {},
   "source": [
    "## 8. MPG"
   ]
  },
  {
   "cell_type": "code",
   "execution_count": 234,
   "metadata": {},
   "outputs": [
    {
     "name": "stdout",
     "output_type": "stream",
     "text": [
      "count    10342.000000\n",
      "mean        51.339354\n",
      "std         12.689956\n",
      "min         18.900000\n",
      "25%         42.200000\n",
      "50%         50.400000\n",
      "75%         58.900000\n",
      "max        188.300000\n",
      "Name: mpg, dtype: float64\n"
     ]
    }
   ],
   "source": [
    "print(audi['mpg'].describe())"
   ]
  },
  {
   "cell_type": "code",
   "execution_count": 235,
   "metadata": {},
   "outputs": [
    {
     "data": {
      "image/png": "[encoded data removed]",
      "text/plain": [
       "<Figure size 720x720 with 1 Axes>"
      ]
     },
     "metadata": {},
     "output_type": "display_data"
    }
   ],
   "source": [
    "plt.figure(figsize = (10,10))\n",
    "sns.distplot(audi['mpg'],bins=30)\n",
    "plt.show()"
   ]
  },
  {
   "cell_type": "code",
   "execution_count": 236,
   "metadata": {},
   "outputs": [
    {
     "data": {
      "image/png": "[encoded data removed]",
      "text/plain": [
       "<Figure size 360x360 with 1 Axes>"
      ]
     },
     "metadata": {},
     "output_type": "display_data"
    }
   ],
   "source": [
    "plt.figure(figsize = (5,5))\n",
    "sns.boxplot(y = 'mpg', data = audi)\n",
    "plt.show()"
   ]
  },
  {
   "cell_type": "code",
   "execution_count": 237,
   "metadata": {},
   "outputs": [
    {
     "data": {
      "image/png": "[encoded data removed]",
      "text/plain": [
       "<Figure size 864x864 with 1 Axes>"
      ]
     },
     "metadata": {},
     "output_type": "display_data"
    }
   ],
   "source": [
    "# Checking the avg mpg by model\n",
    "plt.subplots(figsize=(12,12))\n",
    "mpg_by_model = audi.groupby(\"model\")['mpg'].mean().reset_index()\n",
    "plt.title(\"Average mpg of vechicle\")\n",
    "sns.barplot(x=\"model\", y =\"mpg\", data = mpg_by_model)\n",
    "plt.show()"
   ]
  },
  {
   "cell_type": "markdown",
   "metadata": {},
   "source": [
    "## 9. Engine Size"
   ]
  },
  {
   "cell_type": "code",
   "execution_count": 238,
   "metadata": {},
   "outputs": [
    {
     "data": {
      "image/png": "[encoded data removed]",
      "text/plain": [
       "<Figure size 1296x720 with 1 Axes>"
      ]
     },
     "metadata": {},
     "output_type": "display_data"
    }
   ],
   "source": [
    "# Count plot on year\n",
    "plt.subplots(figsize=(18,10))\n",
    "ax = sns.countplot(audi.engineSize, label = \"Count\")"
   ]
  },
  {
   "cell_type": "markdown",
   "metadata": {},
   "source": [
    "# Handling Categorical Features"
   ]
  },
  {
   "cell_type": "code",
   "execution_count": 239,
   "metadata": {
    "execution": {
     "iopub.execute_input": "2021-08-29T13:37:57.027774Z",
     "iopub.status.busy": "2021-08-29T13:37:57.027141Z",
     "iopub.status.idle": "2021-08-29T13:37:57.042079Z",
     "shell.execute_reply": "2021-08-29T13:37:57.041480Z",
     "shell.execute_reply.started": "2021-08-29T13:37:16.090499Z"
    },
    "papermill": {
     "duration": 0.038374,
     "end_time": "2021-08-29T13:37:57.042242",
     "exception": false,
     "start_time": "2021-08-29T13:37:57.003868",
     "status": "completed"
    },
    "tags": []
   },
   "outputs": [],
   "source": [
    "# Converting categorical variables into numerical ones\n",
    "le = LabelEncoder()\n",
    "\n",
    "le.fit(audi.model)\n",
    "audi.model = le.transform(audi.model)\n",
    "\n",
    "le.fit(audi.transmission)\n",
    "audi.transmission = le.transform(audi.transmission)\n",
    "\n",
    "le.fit(audi.fuelType)\n",
    "audi.fuelType = le.transform(audi.fuelType)"
   ]
  },
  {
   "cell_type": "code",
   "execution_count": 240,
   "metadata": {
    "execution": {
     "iopub.execute_input": "2021-08-29T13:37:57.199051Z",
     "iopub.status.busy": "2021-08-29T13:37:57.198026Z",
     "iopub.status.idle": "2021-08-29T13:37:57.203032Z",
     "shell.execute_reply": "2021-08-29T13:37:57.202437Z",
     "shell.execute_reply.started": "2021-08-29T13:37:16.151489Z"
    },
    "papermill": {
     "duration": 0.030812,
     "end_time": "2021-08-29T13:37:57.203178",
     "exception": false,
     "start_time": "2021-08-29T13:37:57.172366",
     "status": "completed"
    },
    "tags": []
   },
   "outputs": [],
   "source": [
    "x = audi.drop('price', axis=1)\n",
    "y = audi['price']"
   ]
  },
  {
   "cell_type": "code",
   "execution_count": 241,
   "metadata": {},
   "outputs": [
    {
     "data": {
      "text/plain": [
       "(10342, 8)"
      ]
     },
     "execution_count": 241,
     "metadata": {},
     "output_type": "execute_result"
    }
   ],
   "source": [
    "x.shape"
   ]
  },
  {
   "cell_type": "code",
   "execution_count": 242,
   "metadata": {},
   "outputs": [
    {
     "data": {
      "text/html": [
       "<div>\n",
       "<style scoped>\n",
       "    .dataframe tbody tr th:only-of-type {\n",
       "        vertical-align: middle;\n",
       "    }\n",
       "\n",
       "    .dataframe tbody tr th {\n",
       "        vertical-align: top;\n",
       "    }\n",
       "\n",
       "    .dataframe thead th {\n",
       "        text-align: right;\n",
       "    }\n",
       "</style>\n",
       "<table border=\"1\" class=\"dataframe\">\n",
       "  <thead>\n",
       "    <tr style=\"text-align: right;\">\n",
       "      <th></th>\n",
       "      <th>model</th>\n",
       "      <th>year</th>\n",
       "      <th>transmission</th>\n",
       "      <th>mileage</th>\n",
       "      <th>fuelType</th>\n",
       "      <th>tax</th>\n",
       "      <th>mpg</th>\n",
       "      <th>engineSize</th>\n",
       "    </tr>\n",
       "  </thead>\n",
       "  <tbody>\n",
       "    <tr>\n",
       "      <th>0</th>\n",
       "      <td>0</td>\n",
       "      <td>2017</td>\n",
       "      <td>1</td>\n",
       "      <td>15735</td>\n",
       "      <td>2</td>\n",
       "      <td>150</td>\n",
       "      <td>55.4</td>\n",
       "      <td>1.4</td>\n",
       "    </tr>\n",
       "    <tr>\n",
       "      <th>1</th>\n",
       "      <td>5</td>\n",
       "      <td>2016</td>\n",
       "      <td>0</td>\n",
       "      <td>36203</td>\n",
       "      <td>0</td>\n",
       "      <td>20</td>\n",
       "      <td>64.2</td>\n",
       "      <td>2.0</td>\n",
       "    </tr>\n",
       "    <tr>\n",
       "      <th>2</th>\n",
       "      <td>0</td>\n",
       "      <td>2016</td>\n",
       "      <td>1</td>\n",
       "      <td>29946</td>\n",
       "      <td>2</td>\n",
       "      <td>30</td>\n",
       "      <td>55.4</td>\n",
       "      <td>1.4</td>\n",
       "    </tr>\n",
       "    <tr>\n",
       "      <th>3</th>\n",
       "      <td>3</td>\n",
       "      <td>2017</td>\n",
       "      <td>0</td>\n",
       "      <td>25952</td>\n",
       "      <td>0</td>\n",
       "      <td>145</td>\n",
       "      <td>67.3</td>\n",
       "      <td>2.0</td>\n",
       "    </tr>\n",
       "    <tr>\n",
       "      <th>4</th>\n",
       "      <td>2</td>\n",
       "      <td>2019</td>\n",
       "      <td>1</td>\n",
       "      <td>1998</td>\n",
       "      <td>2</td>\n",
       "      <td>145</td>\n",
       "      <td>49.6</td>\n",
       "      <td>1.0</td>\n",
       "    </tr>\n",
       "  </tbody>\n",
       "</table>\n",
       "</div>"
      ],
      "text/plain": [
       "   model  year  transmission  mileage  fuelType  tax   mpg  engineSize\n",
       "0      0  2017             1    15735         2  150  55.4         1.4\n",
       "1      5  2016             0    36203         0   20  64.2         2.0\n",
       "2      0  2016             1    29946         2   30  55.4         1.4\n",
       "3      3  2017             0    25952         0  145  67.3         2.0\n",
       "4      2  2019             1     1998         2  145  49.6         1.0"
      ]
     },
     "execution_count": 242,
     "metadata": {},
     "output_type": "execute_result"
    }
   ],
   "source": [
    "x.head()"
   ]
  },
  {
   "cell_type": "markdown",
   "metadata": {},
   "source": [
    "# Normalizing Data"
   ]
  },
  {
   "cell_type": "code",
   "execution_count": 243,
   "metadata": {},
   "outputs": [
    {
     "data": {
      "text/html": [
       "<div>\n",
       "<style scoped>\n",
       "    .dataframe tbody tr th:only-of-type {\n",
       "        vertical-align: middle;\n",
       "    }\n",
       "\n",
       "    .dataframe tbody tr th {\n",
       "        vertical-align: top;\n",
       "    }\n",
       "\n",
       "    .dataframe thead th {\n",
       "        text-align: right;\n",
       "    }\n",
       "</style>\n",
       "<table border=\"1\" class=\"dataframe\">\n",
       "  <thead>\n",
       "    <tr style=\"text-align: right;\">\n",
       "      <th></th>\n",
       "      <th>model</th>\n",
       "      <th>year</th>\n",
       "      <th>transmission</th>\n",
       "      <th>mileage</th>\n",
       "      <th>fuelType</th>\n",
       "      <th>tax</th>\n",
       "      <th>mpg</th>\n",
       "      <th>engineSize</th>\n",
       "    </tr>\n",
       "  </thead>\n",
       "  <tbody>\n",
       "    <tr>\n",
       "      <th>0</th>\n",
       "      <td>0.00</td>\n",
       "      <td>0.869565</td>\n",
       "      <td>0.5</td>\n",
       "      <td>0.048700</td>\n",
       "      <td>1.0</td>\n",
       "      <td>0.258621</td>\n",
       "      <td>0.215466</td>\n",
       "      <td>0.222222</td>\n",
       "    </tr>\n",
       "    <tr>\n",
       "      <th>1</th>\n",
       "      <td>0.20</td>\n",
       "      <td>0.826087</td>\n",
       "      <td>0.0</td>\n",
       "      <td>0.112070</td>\n",
       "      <td>0.0</td>\n",
       "      <td>0.034483</td>\n",
       "      <td>0.267414</td>\n",
       "      <td>0.317460</td>\n",
       "    </tr>\n",
       "    <tr>\n",
       "      <th>2</th>\n",
       "      <td>0.00</td>\n",
       "      <td>0.826087</td>\n",
       "      <td>0.5</td>\n",
       "      <td>0.092698</td>\n",
       "      <td>1.0</td>\n",
       "      <td>0.051724</td>\n",
       "      <td>0.215466</td>\n",
       "      <td>0.222222</td>\n",
       "    </tr>\n",
       "    <tr>\n",
       "      <th>3</th>\n",
       "      <td>0.12</td>\n",
       "      <td>0.869565</td>\n",
       "      <td>0.0</td>\n",
       "      <td>0.080333</td>\n",
       "      <td>0.0</td>\n",
       "      <td>0.250000</td>\n",
       "      <td>0.285714</td>\n",
       "      <td>0.317460</td>\n",
       "    </tr>\n",
       "    <tr>\n",
       "      <th>4</th>\n",
       "      <td>0.08</td>\n",
       "      <td>0.956522</td>\n",
       "      <td>0.5</td>\n",
       "      <td>0.006170</td>\n",
       "      <td>1.0</td>\n",
       "      <td>0.250000</td>\n",
       "      <td>0.181228</td>\n",
       "      <td>0.158730</td>\n",
       "    </tr>\n",
       "  </tbody>\n",
       "</table>\n",
       "</div>"
      ],
      "text/plain": [
       "   model      year  transmission   mileage  fuelType       tax       mpg  \\\n",
       "0   0.00  0.869565           0.5  0.048700       1.0  0.258621  0.215466   \n",
       "1   0.20  0.826087           0.0  0.112070       0.0  0.034483  0.267414   \n",
       "2   0.00  0.826087           0.5  0.092698       1.0  0.051724  0.215466   \n",
       "3   0.12  0.869565           0.0  0.080333       0.0  0.250000  0.285714   \n",
       "4   0.08  0.956522           0.5  0.006170       1.0  0.250000  0.181228   \n",
       "\n",
       "   engineSize  \n",
       "0    0.222222  \n",
       "1    0.317460  \n",
       "2    0.222222  \n",
       "3    0.317460  \n",
       "4    0.158730  "
      ]
     },
     "execution_count": 243,
     "metadata": {},
     "output_type": "execute_result"
    }
   ],
   "source": [
    "MinMaxScaler = MinMaxScaler() \n",
    "data = MinMaxScaler.fit_transform(x)\n",
    "data = pd.DataFrame(data, columns = x.columns)\n",
    "data.head()"
   ]
  },
  {
   "cell_type": "markdown",
   "metadata": {},
   "source": [
    "# Model Building"
   ]
  },
  {
   "cell_type": "code",
   "execution_count": 244,
   "metadata": {
    "execution": {
     "iopub.execute_input": "2021-08-29T13:37:57.312109Z",
     "iopub.status.busy": "2021-08-29T13:37:57.311433Z",
     "iopub.status.idle": "2021-08-29T13:37:57.316651Z",
     "shell.execute_reply": "2021-08-29T13:37:57.317123Z",
     "shell.execute_reply.started": "2021-08-29T13:37:16.188548Z"
    },
    "papermill": {
     "duration": 0.032668,
     "end_time": "2021-08-29T13:37:57.317318",
     "exception": false,
     "start_time": "2021-08-29T13:37:57.284650",
     "status": "completed"
    },
    "tags": []
   },
   "outputs": [],
   "source": [
    "x_train,x_test,y_train,y_test=train_test_split(data,y,test_size=0.3,random_state=0)"
   ]
  },
  {
   "cell_type": "code",
   "execution_count": 245,
   "metadata": {
    "execution": {
     "iopub.execute_input": "2021-08-29T13:37:57.363644Z",
     "iopub.status.busy": "2021-08-29T13:37:57.362709Z",
     "iopub.status.idle": "2021-08-29T13:37:57.369446Z",
     "shell.execute_reply": "2021-08-29T13:37:57.368734Z",
     "shell.execute_reply.started": "2021-08-29T13:37:16.199007Z"
    },
    "papermill": {
     "duration": 0.030968,
     "end_time": "2021-08-29T13:37:57.369633",
     "exception": false,
     "start_time": "2021-08-29T13:37:57.338665",
     "status": "completed"
    },
    "tags": []
   },
   "outputs": [
    {
     "name": "stdout",
     "output_type": "stream",
     "text": [
      "x_train shape is: (7239, 8)\n"
     ]
    }
   ],
   "source": [
    "print(\"x_train shape is:\",x_train.shape)"
   ]
  },
  {
   "cell_type": "code",
   "execution_count": 246,
   "metadata": {},
   "outputs": [
    {
     "data": {
      "text/html": [
       "<div>\n",
       "<style scoped>\n",
       "    .dataframe tbody tr th:only-of-type {\n",
       "        vertical-align: middle;\n",
       "    }\n",
       "\n",
       "    .dataframe tbody tr th {\n",
       "        vertical-align: top;\n",
       "    }\n",
       "\n",
       "    .dataframe thead th {\n",
       "        text-align: right;\n",
       "    }\n",
       "</style>\n",
       "<table border=\"1\" class=\"dataframe\">\n",
       "  <thead>\n",
       "    <tr style=\"text-align: right;\">\n",
       "      <th></th>\n",
       "      <th>model</th>\n",
       "      <th>year</th>\n",
       "      <th>transmission</th>\n",
       "      <th>mileage</th>\n",
       "      <th>fuelType</th>\n",
       "      <th>tax</th>\n",
       "      <th>mpg</th>\n",
       "      <th>engineSize</th>\n",
       "    </tr>\n",
       "  </thead>\n",
       "  <tbody>\n",
       "    <tr>\n",
       "      <th>7416</th>\n",
       "      <td>0.08</td>\n",
       "      <td>0.869565</td>\n",
       "      <td>0.5</td>\n",
       "      <td>0.026610</td>\n",
       "      <td>1.0</td>\n",
       "      <td>0.250000</td>\n",
       "      <td>0.243211</td>\n",
       "      <td>0.222222</td>\n",
       "    </tr>\n",
       "    <tr>\n",
       "      <th>4761</th>\n",
       "      <td>0.16</td>\n",
       "      <td>0.956522</td>\n",
       "      <td>0.5</td>\n",
       "      <td>0.003378</td>\n",
       "      <td>1.0</td>\n",
       "      <td>0.250000</td>\n",
       "      <td>0.108028</td>\n",
       "      <td>0.317460</td>\n",
       "    </tr>\n",
       "    <tr>\n",
       "      <th>7798</th>\n",
       "      <td>0.44</td>\n",
       "      <td>0.782609</td>\n",
       "      <td>0.0</td>\n",
       "      <td>0.093782</td>\n",
       "      <td>0.0</td>\n",
       "      <td>0.344828</td>\n",
       "      <td>0.171192</td>\n",
       "      <td>0.476190</td>\n",
       "    </tr>\n",
       "    <tr>\n",
       "      <th>9696</th>\n",
       "      <td>0.44</td>\n",
       "      <td>0.956522</td>\n",
       "      <td>0.0</td>\n",
       "      <td>0.027304</td>\n",
       "      <td>0.0</td>\n",
       "      <td>0.258621</td>\n",
       "      <td>0.084416</td>\n",
       "      <td>0.476190</td>\n",
       "    </tr>\n",
       "    <tr>\n",
       "      <th>3194</th>\n",
       "      <td>0.32</td>\n",
       "      <td>0.869565</td>\n",
       "      <td>0.5</td>\n",
       "      <td>0.131857</td>\n",
       "      <td>0.0</td>\n",
       "      <td>0.051724</td>\n",
       "      <td>0.267414</td>\n",
       "      <td>0.253968</td>\n",
       "    </tr>\n",
       "  </tbody>\n",
       "</table>\n",
       "</div>"
      ],
      "text/plain": [
       "      model      year  transmission   mileage  fuelType       tax       mpg  \\\n",
       "7416   0.08  0.869565           0.5  0.026610       1.0  0.250000  0.243211   \n",
       "4761   0.16  0.956522           0.5  0.003378       1.0  0.250000  0.108028   \n",
       "7798   0.44  0.782609           0.0  0.093782       0.0  0.344828  0.171192   \n",
       "9696   0.44  0.956522           0.0  0.027304       0.0  0.258621  0.084416   \n",
       "3194   0.32  0.869565           0.5  0.131857       0.0  0.051724  0.267414   \n",
       "\n",
       "      engineSize  \n",
       "7416    0.222222  \n",
       "4761    0.317460  \n",
       "7798    0.476190  \n",
       "9696    0.476190  \n",
       "3194    0.253968  "
      ]
     },
     "execution_count": 246,
     "metadata": {},
     "output_type": "execute_result"
    }
   ],
   "source": [
    "x_train.head()"
   ]
  },
  {
   "cell_type": "code",
   "execution_count": 247,
   "metadata": {
    "execution": {
     "iopub.execute_input": "2021-08-29T13:37:57.419054Z",
     "iopub.status.busy": "2021-08-29T13:37:57.418270Z",
     "iopub.status.idle": "2021-08-29T13:37:57.422034Z",
     "shell.execute_reply": "2021-08-29T13:37:57.421425Z",
     "shell.execute_reply.started": "2021-08-29T13:37:16.208882Z"
    },
    "papermill": {
     "duration": 0.030293,
     "end_time": "2021-08-29T13:37:57.422171",
     "exception": false,
     "start_time": "2021-08-29T13:37:57.391878",
     "status": "completed"
    },
    "tags": []
   },
   "outputs": [
    {
     "name": "stdout",
     "output_type": "stream",
     "text": [
      "x_test shape is: (3103, 8)\n"
     ]
    }
   ],
   "source": [
    "print(\"x_test shape is:\",x_test.shape)"
   ]
  },
  {
   "cell_type": "code",
   "execution_count": 248,
   "metadata": {
    "execution": {
     "iopub.execute_input": "2021-08-29T13:37:57.471346Z",
     "iopub.status.busy": "2021-08-29T13:37:57.470628Z",
     "iopub.status.idle": "2021-08-29T13:37:57.474298Z",
     "shell.execute_reply": "2021-08-29T13:37:57.473763Z",
     "shell.execute_reply.started": "2021-08-29T13:37:16.218010Z"
    },
    "papermill": {
     "duration": 0.030013,
     "end_time": "2021-08-29T13:37:57.474431",
     "exception": false,
     "start_time": "2021-08-29T13:37:57.444418",
     "status": "completed"
    },
    "tags": []
   },
   "outputs": [
    {
     "name": "stdout",
     "output_type": "stream",
     "text": [
      "y_train shape is: (7239,)\n"
     ]
    }
   ],
   "source": [
    "print(\"y_train shape is:\",y_train.shape)"
   ]
  },
  {
   "cell_type": "code",
   "execution_count": 249,
   "metadata": {
    "execution": {
     "iopub.execute_input": "2021-08-29T13:37:57.524103Z",
     "iopub.status.busy": "2021-08-29T13:37:57.523352Z",
     "iopub.status.idle": "2021-08-29T13:37:57.526985Z",
     "shell.execute_reply": "2021-08-29T13:37:57.527471Z",
     "shell.execute_reply.started": "2021-08-29T13:37:16.230314Z"
    },
    "papermill": {
     "duration": 0.030716,
     "end_time": "2021-08-29T13:37:57.527643",
     "exception": false,
     "start_time": "2021-08-29T13:37:57.496927",
     "status": "completed"
    },
    "tags": []
   },
   "outputs": [
    {
     "name": "stdout",
     "output_type": "stream",
     "text": [
      "y_test shape is: (3103,)\n"
     ]
    }
   ],
   "source": [
    "print(\"y_test shape is:\",y_test.shape)"
   ]
  },
  {
   "cell_type": "markdown",
   "metadata": {},
   "source": [
    "# Linear Regression"
   ]
  },
  {
   "cell_type": "code",
   "execution_count": 250,
   "metadata": {
    "execution": {
     "iopub.execute_input": "2021-08-29T13:37:57.581428Z",
     "iopub.status.busy": "2021-08-29T13:37:57.580749Z",
     "iopub.status.idle": "2021-08-29T13:37:57.795060Z",
     "shell.execute_reply": "2021-08-29T13:37:57.795939Z",
     "shell.execute_reply.started": "2021-08-29T13:37:16.242743Z"
    },
    "papermill": {
     "duration": 0.246047,
     "end_time": "2021-08-29T13:37:57.796269",
     "exception": false,
     "start_time": "2021-08-29T13:37:57.550222",
     "status": "completed"
    },
    "tags": []
   },
   "outputs": [
    {
     "name": "stdout",
     "output_type": "stream",
     "text": [
      "train R squared value = 0.8049093351962304\n"
     ]
    }
   ],
   "source": [
    "lr = LinearRegression(fit_intercept=True, normalize=True,copy_X=True,n_jobs=-1)\n",
    "lr.fit(x_train, y_train)\n",
    "print(\"train R squared value =\", lr.score(x_train, y_train))"
   ]
  },
  {
   "cell_type": "code",
   "execution_count": 251,
   "metadata": {},
   "outputs": [
    {
     "name": "stdout",
     "output_type": "stream",
     "text": [
      "test error = 0.8138808333185148\n"
     ]
    }
   ],
   "source": [
    "print(\"test error =\", lr.score(x_test, y_test))"
   ]
  },
  {
   "cell_type": "code",
   "execution_count": 252,
   "metadata": {},
   "outputs": [
    {
     "name": "stdout",
     "output_type": "stream",
     "text": [
      "predicted price: [30716.84484482  6677.5863327  29220.37282813 13438.94738114\n",
      " 15530.25739886 29690.45681382 19294.2187913  13648.12680221\n",
      " 15006.5174031  20796.66160912]\n"
     ]
    }
   ],
   "source": [
    "y_pred = lr.predict(x_test)\n",
    "print('predicted price:', y_pred[:10])"
   ]
  },
  {
   "cell_type": "code",
   "execution_count": 253,
   "metadata": {},
   "outputs": [
    {
     "name": "stdout",
     "output_type": "stream",
     "text": [
      "actual price: 9986     30000\n",
      "3099     10595\n",
      "5242     26950\n",
      "1409     13498\n",
      "159      14300\n",
      "4229     27850\n",
      "7152     19995\n",
      "8914     11499\n",
      "124      11500\n",
      "10347    20000\n",
      "Name: price, dtype: int64\n"
     ]
    }
   ],
   "source": [
    "print('actual price:', y_test[:10])"
   ]
  },
  {
   "cell_type": "markdown",
   "metadata": {},
   "source": [
    "# Ridge Regression"
   ]
  },
  {
   "cell_type": "code",
   "execution_count": 254,
   "metadata": {},
   "outputs": [
    {
     "data": {
      "text/plain": [
       "RidgeCV(alphas=array([7.97309404, 1.46554853, 4.52806898, 2.6381397 , 8.1876278 ,\n",
       "       0.15467286, 6.95699347, 9.35575173, 2.59881206, 7.3657985 ,\n",
       "       5.05540364, 9.58471135, 6.50725436, 8.71798911, 8.69923531,\n",
       "       1.89428728, 7.6046653 , 1.77782942, 6.99844705, 6.28128268,\n",
       "       4.67478646, 1.73814935, 6.86747288, 9.57124819, 0.62601105,\n",
       "       6.15813244, 5.01616036, 7.56993905, 1.81980416, 7.02611872,\n",
       "       3.32103249, 5.53885288, 7.92166977, 2.38889993, 1.08364752,\n",
       "       0.4397595 , 3.71585451, 5.51274908, 2.00514387, 7.71175602,\n",
       "       3.04320603, 5.49380965, 2.1227436 , 7.4548487 , 8.22714046,\n",
       "       0.21298205, 9.85052901, 2.36982654, 2.42341067, 0.10594243]),\n",
       "        cv=10, normalize=True)"
      ]
     },
     "execution_count": 254,
     "metadata": {},
     "output_type": "execute_result"
    }
   ],
   "source": [
    "# Using Ridge regression model\n",
    "# RidgeCV will return best alpha and coefficients after performing 10 cross validations. \n",
    "# We will pass an array of random numbers for ridgeCV to select best alpha from them\n",
    "\n",
    "alphas = np.random.uniform(low=0, high=10, size=(50,))\n",
    "ridgecv = RidgeCV(alphas = alphas,cv=10,normalize = True)\n",
    "ridgecv.fit(x_train, y_train)"
   ]
  },
  {
   "cell_type": "code",
   "execution_count": 255,
   "metadata": {},
   "outputs": [
    {
     "data": {
      "text/plain": [
       "0.10594243046213814"
      ]
     },
     "execution_count": 255,
     "metadata": {},
     "output_type": "execute_result"
    }
   ],
   "source": [
    "ridgecv.alpha_"
   ]
  },
  {
   "cell_type": "code",
   "execution_count": 256,
   "metadata": {},
   "outputs": [
    {
     "data": {
      "text/plain": [
       "Ridge(alpha=0.10594243046213814)"
      ]
     },
     "execution_count": 256,
     "metadata": {},
     "output_type": "execute_result"
    }
   ],
   "source": [
    "ridge_model = Ridge(alpha=ridgecv.alpha_)\n",
    "ridge_model.fit(x_train, y_train)"
   ]
  },
  {
   "cell_type": "code",
   "execution_count": 257,
   "metadata": {},
   "outputs": [
    {
     "name": "stdout",
     "output_type": "stream",
     "text": [
      "train R squared value = 0.8049073280128398\n"
     ]
    }
   ],
   "source": [
    "print(\"train R squared value =\", ridge_model.score(x_train, y_train))"
   ]
  },
  {
   "cell_type": "code",
   "execution_count": 258,
   "metadata": {},
   "outputs": [
    {
     "name": "stdout",
     "output_type": "stream",
     "text": [
      "test R squared value = 0.8138554453370609\n"
     ]
    }
   ],
   "source": [
    "print(\"test R squared value =\", ridge_model.score(x_test, y_test))"
   ]
  },
  {
   "cell_type": "markdown",
   "metadata": {},
   "source": [
    "# Lasso Regression"
   ]
  },
  {
   "cell_type": "code",
   "execution_count": 259,
   "metadata": {},
   "outputs": [
    {
     "data": {
      "text/plain": [
       "LassoCV(cv=10, max_iter=100000, normalize=True)"
      ]
     },
     "execution_count": 259,
     "metadata": {},
     "output_type": "execute_result"
    }
   ],
   "source": [
    "# Lasso Regularization\n",
    "# LassoCV will return best alpha and coefficients after performing 10 cross validations\n",
    "lasscv = LassoCV(alphas = None,cv =10, max_iter = 100000, normalize = True)\n",
    "lasscv.fit(x_train, y_train)"
   ]
  },
  {
   "cell_type": "code",
   "execution_count": 260,
   "metadata": {},
   "outputs": [
    {
     "data": {
      "text/plain": [
       "0.07128304494092988"
      ]
     },
     "execution_count": 260,
     "metadata": {},
     "output_type": "execute_result"
    }
   ],
   "source": [
    "# best alpha parameter\n",
    "alpha = lasscv.alpha_\n",
    "alpha"
   ]
  },
  {
   "cell_type": "code",
   "execution_count": 261,
   "metadata": {},
   "outputs": [
    {
     "data": {
      "text/plain": [
       "Lasso(alpha=0.07128304494092988)"
      ]
     },
     "execution_count": 261,
     "metadata": {},
     "output_type": "execute_result"
    }
   ],
   "source": [
    "#now that we have best parameter, let's use Lasso regression and see how well our data has fitted before\n",
    "\n",
    "lasso_reg = Lasso(alpha)\n",
    "lasso_reg.fit(x_train, y_train)"
   ]
  },
  {
   "cell_type": "code",
   "execution_count": 262,
   "metadata": {},
   "outputs": [
    {
     "name": "stdout",
     "output_type": "stream",
     "text": [
      "train R squared value = 0.8049092644187371\n"
     ]
    }
   ],
   "source": [
    "print(\"train R squared value =\", lasso_reg.score(x_train, y_train))"
   ]
  },
  {
   "cell_type": "code",
   "execution_count": 263,
   "metadata": {},
   "outputs": [
    {
     "name": "stdout",
     "output_type": "stream",
     "text": [
      "test error = 0.8138902649197618\n"
     ]
    }
   ],
   "source": [
    "print(\"test error =\",lasso_reg.score(x_test, y_test))"
   ]
  },
  {
   "cell_type": "markdown",
   "metadata": {},
   "source": [
    "# Random Forest Regressor"
   ]
  },
  {
   "cell_type": "code",
   "execution_count": 264,
   "metadata": {
    "execution": {
     "iopub.execute_input": "2021-08-29T13:37:57.892259Z",
     "iopub.status.busy": "2021-08-29T13:37:57.891586Z",
     "iopub.status.idle": "2021-08-29T13:38:00.008098Z",
     "shell.execute_reply": "2021-08-29T13:38:00.007468Z",
     "shell.execute_reply.started": "2021-08-29T13:37:16.287268Z"
    },
    "papermill": {
     "duration": 2.168805,
     "end_time": "2021-08-29T13:38:00.008258",
     "exception": false,
     "start_time": "2021-08-29T13:37:57.839453",
     "status": "completed"
    },
    "tags": []
   },
   "outputs": [
    {
     "name": "stdout",
     "output_type": "stream",
     "text": [
      "train R squared value = 0.9724746919195846\n"
     ]
    }
   ],
   "source": [
    "Rfm = RandomForestRegressor(n_estimators=100,max_depth=11, random_state=33)\n",
    "Rfm.fit(x_train, y_train)\n",
    "print(\"train R squared value =\", Rfm.score(x_train, y_train))\n"
   ]
  },
  {
   "cell_type": "code",
   "execution_count": 265,
   "metadata": {},
   "outputs": [
    {
     "name": "stdout",
     "output_type": "stream",
     "text": [
      "test error = 0.9458470279603969\n"
     ]
    }
   ],
   "source": [
    "print(\"test error =\", Rfm.score(x_test, y_test))"
   ]
  },
  {
   "cell_type": "code",
   "execution_count": 266,
   "metadata": {},
   "outputs": [
    {
     "name": "stdout",
     "output_type": "stream",
     "text": [
      "predicted price: [31267.35352272  9180.67554175 27335.33724489 13416.25625908\n",
      " 14038.32304673 31644.03511517 18637.92290006 13519.21740022\n",
      " 15563.22557732 20214.98450301]\n"
     ]
    }
   ],
   "source": [
    "y_pred = Rfm.predict(x_test)\n",
    "print('predicted price:', y_pred[:10])"
   ]
  },
  {
   "cell_type": "code",
   "execution_count": 267,
   "metadata": {},
   "outputs": [
    {
     "name": "stdout",
     "output_type": "stream",
     "text": [
      "actual price: 9986     30000\n",
      "3099     10595\n",
      "5242     26950\n",
      "1409     13498\n",
      "159      14300\n",
      "4229     27850\n",
      "7152     19995\n",
      "8914     11499\n",
      "124      11500\n",
      "10347    20000\n",
      "Name: price, dtype: int64\n"
     ]
    }
   ],
   "source": [
    "print('actual price:', y_test[:10])"
   ]
  },
  {
   "cell_type": "markdown",
   "metadata": {},
   "source": [
    "# Support Vector Regression"
   ]
  },
  {
   "cell_type": "code",
   "execution_count": 268,
   "metadata": {
    "execution": {
     "iopub.execute_input": "2021-08-29T13:38:00.063888Z",
     "iopub.status.busy": "2021-08-29T13:38:00.063099Z",
     "iopub.status.idle": "2021-08-29T13:38:12.768388Z",
     "shell.execute_reply": "2021-08-29T13:38:12.769174Z",
     "shell.execute_reply.started": "2021-08-29T13:37:18.451868Z"
    },
    "papermill": {
     "duration": 12.736867,
     "end_time": "2021-08-29T13:38:12.769436",
     "exception": false,
     "start_time": "2021-08-29T13:38:00.032569",
     "status": "completed"
    },
    "tags": []
   },
   "outputs": [
    {
     "data": {
      "text/plain": [
       "SVR(kernel='poly')"
      ]
     },
     "execution_count": 268,
     "metadata": {},
     "output_type": "execute_result"
    }
   ],
   "source": [
    "SVRModel = SVR(C = 1.0 ,epsilon=0.1,kernel = 'poly') # it also can be : linear, poly, rbf, sigmoid, precomputed\n",
    "SVRModel.fit(x_train, y_train)"
   ]
  },
  {
   "cell_type": "code",
   "execution_count": 269,
   "metadata": {},
   "outputs": [
    {
     "name": "stdout",
     "output_type": "stream",
     "text": [
      "train R squared value = 0.1764362529065926\n"
     ]
    }
   ],
   "source": [
    "print(\"train R squared value =\", SVRModel.score(x_train, y_train))"
   ]
  },
  {
   "cell_type": "code",
   "execution_count": 270,
   "metadata": {},
   "outputs": [
    {
     "name": "stdout",
     "output_type": "stream",
     "text": [
      "test error = 0.1834367941895284\n"
     ]
    }
   ],
   "source": [
    "print(\"test error =\", SVRModel.score(x_test, y_test))"
   ]
  },
  {
   "cell_type": "code",
   "execution_count": 271,
   "metadata": {},
   "outputs": [
    {
     "name": "stdout",
     "output_type": "stream",
     "text": [
      "predicted price: [18695.33545512 18156.66405827 19802.28461788 17640.2581555\n",
      " 17708.81888494 20864.3459835  19408.80368621 17536.8900746\n",
      " 17332.69432086 19788.11955887]\n"
     ]
    }
   ],
   "source": [
    "y_pred = SVRModel.predict(x_test)\n",
    "print('predicted price:', y_pred[:10])"
   ]
  },
  {
   "cell_type": "code",
   "execution_count": 272,
   "metadata": {},
   "outputs": [
    {
     "name": "stdout",
     "output_type": "stream",
     "text": [
      "actual price: 9986     30000\n",
      "3099     10595\n",
      "5242     26950\n",
      "1409     13498\n",
      "159      14300\n",
      "4229     27850\n",
      "7152     19995\n",
      "8914     11499\n",
      "124      11500\n",
      "10347    20000\n",
      "Name: price, dtype: int64\n"
     ]
    }
   ],
   "source": [
    "print('actual price:', y_test[:10])"
   ]
  },
  {
   "cell_type": "markdown",
   "metadata": {},
   "source": [
    "# Decision Tree Regressor"
   ]
  },
  {
   "cell_type": "code",
   "execution_count": 273,
   "metadata": {
    "execution": {
     "iopub.execute_input": "2021-08-29T13:38:12.825670Z",
     "iopub.status.busy": "2021-08-29T13:38:12.824943Z",
     "iopub.status.idle": "2021-08-29T13:38:12.867110Z",
     "shell.execute_reply": "2021-08-29T13:38:12.867624Z",
     "shell.execute_reply.started": "2021-08-29T13:37:31.103186Z"
    },
    "papermill": {
     "duration": 0.074102,
     "end_time": "2021-08-29T13:38:12.867810",
     "exception": false,
     "start_time": "2021-08-29T13:38:12.793708",
     "status": "completed"
    },
    "tags": []
   },
   "outputs": [
    {
     "name": "stdout",
     "output_type": "stream",
     "text": [
      "train R squared value = 0.9685505685774505\n"
     ]
    }
   ],
   "source": [
    "Dsc = DecisionTreeRegressor( max_depth=11,random_state=33)\n",
    "Dsc.fit(x_train, y_train)\n",
    "print(\"train R squared value =\", Dsc.score(x_train, y_train))"
   ]
  },
  {
   "cell_type": "code",
   "execution_count": 274,
   "metadata": {},
   "outputs": [
    {
     "name": "stdout",
     "output_type": "stream",
     "text": [
      "test error = 0.925683737512855\n"
     ]
    }
   ],
   "source": [
    "print(\"test error =\", Dsc.score(x_test, y_test))"
   ]
  },
  {
   "cell_type": "code",
   "execution_count": 275,
   "metadata": {},
   "outputs": [
    {
     "name": "stdout",
     "output_type": "stream",
     "text": [
      "predicted price: [30872.5         8462.92307692 27634.28571429 13809.58333333\n",
      " 13874.44444444 31220.         19796.85714286 13574.12087912\n",
      " 18490.         19796.85714286]\n"
     ]
    }
   ],
   "source": [
    "y_pred = Dsc.predict(x_test)\n",
    "print('predicted price:', y_pred[:10])"
   ]
  },
  {
   "cell_type": "code",
   "execution_count": 276,
   "metadata": {},
   "outputs": [
    {
     "name": "stdout",
     "output_type": "stream",
     "text": [
      "actual price: 9986     30000\n",
      "3099     10595\n",
      "5242     26950\n",
      "1409     13498\n",
      "159      14300\n",
      "4229     27850\n",
      "7152     19995\n",
      "8914     11499\n",
      "124      11500\n",
      "10347    20000\n",
      "Name: price, dtype: int64\n"
     ]
    }
   ],
   "source": [
    "print('actual price:', y_test[:10])"
   ]
  },
  {
   "cell_type": "markdown",
   "metadata": {
    "papermill": {
     "duration": 0.023962,
     "end_time": "2021-08-29T13:38:12.974875",
     "exception": false,
     "start_time": "2021-08-29T13:38:12.950913",
     "status": "completed"
    },
    "tags": []
   },
   "source": [
    "# Conclusion"
   ]
  },
  {
   "cell_type": "code",
   "execution_count": 277,
   "metadata": {},
   "outputs": [],
   "source": [
    "# Accuracy Comparison\n",
    "dicti= { 'Linear Regression' : [80.49,81.38], 'Ridge Regression':[80.49,81.386],'Lasso Regression':[80.49,81.389],'Support Vector Regressor':[17.6,18.34],\n",
    "       'Random Forest Regressor':[97.24,94.58], 'Decision Tree Regressor ':[96.85,92.56]}"
   ]
  },
  {
   "cell_type": "code",
   "execution_count": 278,
   "metadata": {},
   "outputs": [
    {
     "data": {
      "text/html": [
       "<div>\n",
       "<style scoped>\n",
       "    .dataframe tbody tr th:only-of-type {\n",
       "        vertical-align: middle;\n",
       "    }\n",
       "\n",
       "    .dataframe tbody tr th {\n",
       "        vertical-align: top;\n",
       "    }\n",
       "\n",
       "    .dataframe thead th {\n",
       "        text-align: right;\n",
       "    }\n",
       "</style>\n",
       "<table border=\"1\" class=\"dataframe\">\n",
       "  <thead>\n",
       "    <tr style=\"text-align: right;\">\n",
       "      <th></th>\n",
       "      <th>Training R Squared</th>\n",
       "      <th>Testing R Squared</th>\n",
       "    </tr>\n",
       "  </thead>\n",
       "  <tbody>\n",
       "    <tr>\n",
       "      <th>Linear Regression</th>\n",
       "      <td>80.49</td>\n",
       "      <td>81.380</td>\n",
       "    </tr>\n",
       "    <tr>\n",
       "      <th>Ridge Regression</th>\n",
       "      <td>80.49</td>\n",
       "      <td>81.386</td>\n",
       "    </tr>\n",
       "    <tr>\n",
       "      <th>Lasso Regression</th>\n",
       "      <td>80.49</td>\n",
       "      <td>81.389</td>\n",
       "    </tr>\n",
       "    <tr>\n",
       "      <th>Support Vector Regressor</th>\n",
       "      <td>17.60</td>\n",
       "      <td>18.340</td>\n",
       "    </tr>\n",
       "    <tr>\n",
       "      <th>Random Forest Regressor</th>\n",
       "      <td>97.24</td>\n",
       "      <td>94.580</td>\n",
       "    </tr>\n",
       "    <tr>\n",
       "      <th>Decision Tree Regressor</th>\n",
       "      <td>96.85</td>\n",
       "      <td>92.560</td>\n",
       "    </tr>\n",
       "  </tbody>\n",
       "</table>\n",
       "</div>"
      ],
      "text/plain": [
       "                          Training R Squared  Testing R Squared\n",
       "Linear Regression                      80.49             81.380\n",
       "Ridge Regression                       80.49             81.386\n",
       "Lasso Regression                       80.49             81.389\n",
       "Support Vector Regressor               17.60             18.340\n",
       "Random Forest Regressor                97.24             94.580\n",
       "Decision Tree Regressor                96.85             92.560"
      ]
     },
     "execution_count": 278,
     "metadata": {},
     "output_type": "execute_result"
    }
   ],
   "source": [
    "df= pd.DataFrame.from_dict(data=dicti,orient='index',columns= ['Training R Squared','Testing R Squared'])\n",
    "df"
   ]
  },
  {
   "cell_type": "markdown",
   "metadata": {},
   "source": [
    "Random Forest well for both Training and Testing Dataset. It gives higher accuracy as compare to other algorithms."
   ]
  },
  {
   "cell_type": "code",
   "execution_count": null,
   "metadata": {},
   "outputs": [],
   "source": []
  }
 ],
 "metadata": {
  "kernelspec": {
   "display_name": "Python 3",
   "language": "python",
   "name": "python3"
  },
  "language_info": {
   "codemirror_mode": {
    "name": "ipython",
    "version": 3
   },
   "file_extension": ".py",
   "mimetype": "text/x-python",
   "name": "python",
   "nbconvert_exporter": "python",
   "pygments_lexer": "ipython3",
   "version": "3.7.3"
  },
  "papermill": {
   "default_parameters": {},
   "duration": 26.629636,
   "end_time": "2021-08-29T13:38:13.708746",
   "environment_variables": {},
   "exception": null,
   "input_path": "__notebook__.ipynb",
   "output_path": "__notebook__.ipynb",
   "parameters": {},
   "start_time": "2021-08-29T13:37:47.079110",
   "version": "2.3.3"
  }
 },
 "nbformat": 4,
 "nbformat_minor": 5
}
